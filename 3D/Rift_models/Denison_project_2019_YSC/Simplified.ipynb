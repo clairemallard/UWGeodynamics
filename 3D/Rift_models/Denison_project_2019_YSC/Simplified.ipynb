{
 "cells": [
  {
   "cell_type": "markdown",
   "metadata": {},
   "source": [
    "# oblik rift 25 degree"
   ]
  },
  {
   "cell_type": "markdown",
   "metadata": {},
   "source": []
  },
  {
   "cell_type": "code",
   "execution_count": 1,
   "metadata": {},
   "outputs": [
    {
     "name": "stdout",
     "output_type": "stream",
     "text": [
      "loaded rc file /opt/UWGeodynamics/UWGeodynamics/uwgeo-data/uwgeodynamicsrc\n"
     ]
    }
   ],
   "source": [
    "import UWGeodynamics as GEO\n",
    "import glucifer\n",
    "\n",
    "\n",
    "# In[2]:\n",
    "\n",
    "u = GEO.UnitRegistry\n",
    "\n",
    "\n",
    "# In[3]:\n",
    "\n",
    "# Characteristic values of the system\n",
    "half_rate = 1.8 * u.centimeter / u.year\n",
    "model_length = 500e3 * u.meter\n",
    "model_width = 500e3 * u.meter\n",
    "surfaceTemp = 273.15 * u.degK\n",
    "baseModelTemp = 1603.15 * u.degK\n",
    "bodyforce = 3370 * u.kilogram / u.metre**3 * 9.81 * u.meter / u.second**2 #3300\n",
    "\n",
    "KL = model_length\n",
    "Kt = KL / half_rate\n",
    "KM = bodyforce * KL**2 * Kt**2\n",
    "KT = (baseModelTemp - surfaceTemp)\n",
    "\n",
    "GEO.scaling_coefficients[\"[length]\"] = KL\n",
    "GEO.scaling_coefficients[\"[time]\"] = Kt\n",
    "GEO.scaling_coefficients[\"[mass]\"] = KM\n",
    "GEO.scaling_coefficients[\"[temperature]\"] = KT\n",
    "\n",
    "\n",
    "# In[4]:\n",
    "\n",
    "resolution = (32, 32, 16)\n",
    "Model = GEO.Model(elementRes=resolution,\n",
    "                  minCoord=(0. * u.kilometer, 0. * u.kilometer, -160. * u.kilometer),\n",
    "                  maxCoord=(500. * u.kilometer, 500. * u.kilometer, 20. * u.kilometer),\n",
    "                  gravity=(0.0, 0.0, -9.81 * u.meter / u.second**2))\n",
    "\n",
    "\n",
    "# ## Global definitions\n",
    "\n",
    "# In[5]:\n",
    "\n",
    "Model.outputDir=\"outputs\"\n",
    "\n"
   ]
  },
  {
   "cell_type": "code",
   "execution_count": 2,
   "metadata": {},
   "outputs": [],
   "source": [
    "Model.maxViscosity  = 5e23 * u.pascal * u.second\n",
    "Model.minViscosity  = 1e19 * u.pascal * u.second\n",
    "Model.stressLimiter = 300. * u.megapascal\n",
    "\n",
    "\n",
    "# In[7]:\n",
    "\n",
    "Model.diffusivity = 1e-6 * u.metre**2 / u.second\n",
    "Model.capacity    = 1000. * u.joule / (u.kelvin * u.kilogram)\n",
    "\n",
    "\n",
    "# ## Define Materials\n",
    "#\n",
    "# The model has initially 4 materials (air, crust, mantle lithosphere and mantle). We add a fifth material for the sediment. Sediment will only appear if surface processes are turned on...(and if there is sedimentation of course)\n",
    "\n",
    "# In[8]:\n",
    "\n",
    "air = Model.add_material(name=\"Air\", shape=GEO.shapes.Layer3D(top=Model.top, bottom=0 * u.kilometer))\n",
    "crust = Model.add_material(name=\"Crust\", shape=GEO.shapes.Layer3D(top=air.bottom, bottom=-40 * u.kilometer))\n",
    "mantleLithosphere = Model.add_material(name=\"MantleLithosphere\", shape=GEO.shapes.Layer3D(top=crust.bottom, bottom=-100 * u.kilometer))\n",
    "mantle = Model.add_material(name=\"Mantle\", shape=GEO.shapes.Layer3D(top=mantleLithosphere.bottom, bottom=Model.bottom))\n",
    "sediment   = Model.add_material(name=\"Sediment\")\n",
    "\n",
    "\n",
    "# In[9]:\n",
    "\n",
    "#Fig = Model.plot.material(script=[\"rotate z 30\", \"rotate x -60\"], projected=True, figsize=(900,600))\n",
    "\n",
    "\n",
    "# ### Material specific definitions\n",
    "#\n",
    "\n",
    "# In[10]:\n",
    "\n",
    "air.capacity = 100. * u.joule / (u.kelvin * u.kilogram)\n",
    "air.density = 1. * u.kilogram / u.metre**3\n",
    "\n",
    "crust.density  = GEO.LinearDensity(reference_density=2800. * u.kilogram / u.metre**3)\n",
    "mantleLithosphere.density  = GEO.LinearDensity(reference_density=3370. * u.kilogram / u.metre**3)\n",
    "mantle.density  = GEO.LinearDensity(reference_density=3370. * u.kilogram / u.metre**3)\n",
    "sediment.density = 2300. * u.kilogram / u.metre**3\n",
    "\n",
    "\n",
    "# In[11]:\n",
    "\n",
    "crust.radiogenicHeatProd = 0.7 * u.microwatt / u.meter**3\n",
    "sediment.radiogenicHeatProd = 0.6 * u.microwatt / u.meter**3\n",
    "\n",
    "\n",
    "# ### Viscous Rheologies\n",
    "\n",
    "# In[12]:\n",
    "\n",
    "rh = GEO.ViscousCreepRegistry()\n",
    "\n",
    "\n",
    "# In[13]:\n",
    "\n",
    "air.viscosity                = 1e19 * u.pascal * u.second\n",
    "crust.viscosity              = rh.Wet_Quartz_Dislocation_Gleason_and_Tullis_1995\n",
    "mantleLithosphere.viscosity  = 4.*rh.Dry_Olivine_Dislocation_Karato_and_Wu_1990\n",
    "mantle.viscosity             = rh.Dry_Olivine_Dislocation_Karato_and_Wu_1990\n",
    "sediment.viscosity           = rh.Wet_Quartz_Dislocation_Gleason_and_Tullis_1995\n",
    "\n",
    "\n",
    "# ### Plasticities\n",
    "#\n",
    "# We use a Drucker-Prager yield criterion with frictional weakening.\n",
    "\n",
    "# In[14]:\n",
    "\n",
    "pl = GEO.PlasticityRegistry()\n",
    "\n",
    "\n",
    "# In[15]:\n",
    "\n",
    "crust.plasticity = GEO.DruckerPrager(\n",
    "    cohesion=20.*u.megapascal,\n",
    "    cohesionAfterSoftening=20.*u.megapascal,\n",
    "    frictionCoefficient=0.12,\n",
    "    frictionAfterSoftening=0.02,\n",
    "    epsilon1=0.01, epsilon2=1.0\n",
    "    )\n",
    "mantleLithosphere.plasticity = GEO.DruckerPrager(\n",
    "    cohesion=20.*u.megapascal,\n",
    "    cohesionAfterSoftening=20.*u.megapascal,\n",
    "    frictionCoefficient=0.12,\n",
    "    frictionAfterSoftening=0.02,\n",
    "    epsilon1=0.01, epsilon2=1.0\n",
    "    )\n",
    "mantle.plasticity = GEO.DruckerPrager(\n",
    "    cohesion=20.*u.megapascal,\n",
    "    cohesionAfterSoftening=20.*u.megapascal,\n",
    "    frictionCoefficient=0.12,\n",
    "    frictionAfterSoftening=0.02,\n",
    "    epsilon1=0.01, epsilon2=1.0\n",
    "    )\n",
    "sediment.plasticity = GEO.DruckerPrager(\n",
    "    cohesion=20.*u.megapascal,\n",
    "    cohesionAfterSoftening=20.*u.megapascal,\n",
    "    frictionCoefficient=0.12,\n",
    "    frictionAfterSoftening=0.02,\n",
    "    epsilon1=0.01, epsilon2=1.0\n",
    "    )\n",
    "\n",
    "\n",
    "# ## Passive Tracers\n",
    "#\n",
    "# We create 2 sets of passive tracers to track the surface and the moho.\n",
    "\n",
    "# In[16]:\n",
    "\n",
    "import numpy as np\n",
    "\n",
    "xp = np.linspace(GEO.nd(Model.minCoord[0]), GEO.nd(Model.maxCoord[0]), 100)\n",
    "yp = np.linspace(GEO.nd(Model.minCoord[1]), GEO.nd(Model.maxCoord[1]), 100)\n",
    "\n",
    "xp, yp = np.meshgrid(xp, yp)\n",
    "xp = xp.flatten()\n",
    "yp = yp.flatten()\n",
    "zp = np.zeros(xp.shape)\n",
    "\n",
    "surface_tracers = Model.add_passive_tracers(name=\"Surface\", vertices=[xp, yp, zp])\n",
    "moho_tracers = Model.add_passive_tracers(name=\"Moho\", vertices=[xp, yp, zp+GEO.nd(mantleLithosphere.top)])\n",
    "Lab_tracers = Model.add_passive_tracers(name=\"Lab\", vertices=[xp,yp,-90.*u.kilometer])\n",
    "\n",
    "\n",
    "\n",
    "# ## Temperature Boundary Condition\n",
    "#\n",
    "# Temperature is 293.15K at the top and 1603.15K at the bottom. Temperature is constant in the mantle and the air layers.\n",
    "\n",
    "# In[17]:\n",
    "\n",
    "Model.set_temperatureBCs(top=293.15 * u.degK,\n",
    "                         bottom=1603.15 * u.degK)\n",
    "\n",
    "\n",
    "# ## Velocity Boundary Conditions\n",
    "#\n",
    "# We pull on the left and right side. The back and front wall are freeslip. We use a pseudo isostatic support condition at the bottom.\n",
    "\n",
    "# In[30]:\n",
    "\n",
    "\n",
    "Model.set_velocityBCs(left=[-0.5* u.centimeter / u.year, None, None],\n",
    "                      right=[0.5 * u.centimeter / u.year, None, None],\n",
    "                      back=[None, 0., None],\n",
    "                      front=[None, 0., None],\n",
    "                      bottom=GEO.LecodeIsostasy(reference_mat=mantle,\n",
    "                                                average=False))\n",
    "\n",
    "# In[31]:\n",
    "\n",
    "#Fig = Model.plot.velocityField(script=[\"rotate z 30\", \"rotate x -60\"], figsize=(900,600))\n",
    "\n",
    "\n",
    "# ## Initial Plastic Strain\n",
    "#\n",
    "# An ellipsoidal shape with random damage is used to seed plastic deformation.\n",
    "\n",
    "# In[32]:\n",
    "\n",
    "import numpy as np\n",
    "\n",
    "def gaussian(xx, centre, width):\n",
    "    return ( np.exp( -(xx - centre)**2 / width ))\n",
    "\n",
    "maxDamage = 0.25\n",
    "Model.plasticStrain.data[:] = maxDamage * np.random.rand(*Model.plasticStrain.data.shape[:])\n",
    "centers = 0.3 * Model.swarm.particleCoordinates.data[:,1] + 0.3\n",
    "Model.plasticStrain.data[:,0] *= gaussian(Model.swarm.particleCoordinates.data[:,0], centers, GEO.nd(5.0 * u.kilometer))\n",
    "Model.plasticStrain.data[:,0] *= gaussian(Model.swarm.particleCoordinates.data[:,2], GEO.nd(-35. * u.kilometer) , GEO.nd(5.0 * u.kilometer))\n",
    "\n",
    "\n",
    "\n",
    "# # Surface Processes / BADLANDS\n",
    "\n",
    "# In[33]:\n",
    "\n",
    "#Model.surfaceProcesses = GEO.surfaceProcesses.Badlands(airIndex=[air.index], sedimentIndex=sediment.index,\n",
    "#                                            XML=\"ressources/badlands.xml\", resolution=1. * u.kilometer,\n",
    "#                                            checkpoint_interval=0.005 * u.megayears)\n",
    "\n",
    "\n",
    "\n",
    "\n",
    "\n",
    "# In[34]:\n",
    "\n",
    "\n"
   ]
  },
  {
   "cell_type": "code",
   "execution_count": 4,
   "metadata": {},
   "outputs": [],
   "source": [
    "Model.init_model()\n",
    "\n"
   ]
  },
  {
   "cell_type": "code",
   "execution_count": 5,
   "metadata": {},
   "outputs": [],
   "source": [
    "#Model.run_for(50.0 * u.megayears, checkpoint_interval=0.005 * u.megayears)\n"
   ]
  },
  {
   "cell_type": "markdown",
   "metadata": {},
   "source": [
    "## tests"
   ]
  },
  {
   "cell_type": "code",
   "execution_count": 6,
   "metadata": {},
   "outputs": [],
   "source": [
    "import matplotlib.pyplot as plt"
   ]
  },
  {
   "cell_type": "code",
   "execution_count": 8,
   "metadata": {},
   "outputs": [
    {
     "name": "stdout",
     "output_type": "stream",
     "text": [
      "('Moho Temperature = ', <Quantity(721.695039774, 'degC')>)\n",
      "('Lab Temperature = ', <Quantity(975.56818233, 'degC')>)\n"
     ]
    }
   ],
   "source": [
    "mohoT = Model.temperature.evaluate(moho_tracers.swarm)[:,0].mean()\n",
    "print(\"Moho Temperature = \", GEO.Dimensionalize(mohoT, u.degC)) \n",
    "LabT = Model.temperature.evaluate(Lab_tracers.swarm)[:,0].mean()\n",
    "print(\"Lab Temperature = \", GEO.Dimensionalize(LabT, u.degC)) \n",
    "\n"
   ]
  },
  {
   "cell_type": "code",
   "execution_count": 9,
   "metadata": {},
   "outputs": [
    {
     "data": {
      "image/png": "[encoded data removed]",
      "text/plain": [
       "<Figure size 432x288 with 1 Axes>"
      ]
     },
     "metadata": {
      "needs_background": "light"
     },
     "output_type": "display_data"
    }
   ],
   "source": [
    "MyTemperatureField=(Model.temperature.data[:] * GEO.Dimensionalize(1.0, u.degK)).magnitude \n",
    "\n",
    "TemperatureData=np.asarray(MyTemperatureField)\n",
    "TemperatureDataShaped=TemperatureData.reshape(resolution[1]+1,resolution[0]+1,resolution[2]+1)\n",
    "\n",
    "#Two profiles located at the left walls and the middle.\n",
    "plt.plot(TemperatureDataShaped[:,0], np.linspace(Model.bottom,Model.top,resolution[1]+1))\n",
    "plt.plot(TemperatureDataShaped[:, resolution[2]/2], np.linspace(Model.bottom,Model.top,resolution[1]+1))\n",
    "\n",
    "## plt.yticks([-700,-300,-150,-40,0,68])\n",
    "## plt.xticks([20, 550.0, 1350])\n",
    "plt.grid()\n",
    "#plt.xscale('log')\n",
    "plt.xlabel('Temperature K')\n",
    "plt.ylabel('Depth (km)')\n",
    "plt.title('Temperature')\n",
    "plt.show()"
   ]
  },
  {
   "cell_type": "code",
   "execution_count": 10,
   "metadata": {},
   "outputs": [
    {
     "data": {
      "image/png": "[encoded data removed]",
      "text/plain": [
       "<Figure size 432x288 with 1 Axes>"
      ]
     },
     "metadata": {
      "needs_background": "light"
     },
     "output_type": "display_data"
    }
   ],
   "source": [
    "MyPressureField=(Model.pressureField.data[:] * GEO.Dimensionalize(1.0, u.megapascal)).magnitude \n",
    "\n",
    "PressureData=np.asarray(MyPressureField)\n",
    "PressureDataShaped=PressureData.reshape(resolution[1],resolution[0],resolution[2])\n",
    "\n",
    "#Two profiles located at the left walls and the middle.\n",
    "plt.plot(PressureDataShaped[:,0], np.linspace(Model.bottom,Model.top,resolution[1]))\n",
    "plt.plot(PressureDataShaped[:,resolution[2]/2], np.linspace(Model.bottom,Model.top,resolution[1]))\n",
    "\n",
    "## plt.yticks([-700,-300,-150,-40,0,68])\n",
    "## plt.xticks([20, 550.0, 1350])\n",
    "plt.grid()\n",
    "#plt.xscale('log')\n",
    "plt.xlabel('Pressure MPa')\n",
    "plt.ylabel('Depth (km)')\n",
    "plt.title('Pressure')\n",
    "plt.show()\n",
    "\n"
   ]
  },
  {
   "cell_type": "code",
   "execution_count": 11,
   "metadata": {},
   "outputs": [
    {
     "data": {
      "image/png": "[encoded data removed]",
      "text/plain": [
       "<Figure size 432x288 with 1 Axes>"
      ]
     },
     "metadata": {
      "needs_background": "light"
     },
     "output_type": "display_data"
    }
   ],
   "source": [
    "MyViscosityField=(Model.projViscosityField.data[:] * GEO.Dimensionalize(1.0, u.pascal * u.second)).magnitude \n",
    "\n",
    "ViscosityData=np.asarray(MyViscosityField)\n",
    "ViscosityDataShaped=ViscosityData.reshape(resolution[1]+1,resolution[0]+1,resolution[2]+1)\n",
    "\n",
    "#Two profiles located at the left walls and the middle.\n",
    "plt.plot(ViscosityDataShaped[:,0], np.linspace(Model.bottom,Model.top,resolution[1]+1))\n",
    "plt.plot(ViscosityDataShaped[:,resolution[0]/2], np.linspace(Model.bottom,Model.top,resolution[1]+1))\n",
    "\n",
    "\n",
    "\n",
    "## plt.yticks([-700,-300,-150,-40,0,68])\n",
    "## plt.xticks([20, 550.0, 1350])\n",
    "plt.grid()\n",
    "plt.xscale('log')\n",
    "plt.xlabel('Viscosity Pa.s')\n",
    "plt.ylabel('Depth (km)')\n",
    "## plt.title('Viscosity')\n",
    "plt.show()\n",
    "\n"
   ]
  },
  {
   "cell_type": "code",
   "execution_count": null,
   "metadata": {},
   "outputs": [],
   "source": [
    "MyStressField=(Model.projStressField.data[:] * GEO.Dimensionalize(1.0, u.megapascal)).magnitude \n",
    "\n",
    "StressData=np.asarray(MyStressField)\n",
    "StressDataShaped=StressData.reshape(resolution[1],resolution[0],resolution[2])\n",
    "\n",
    "#Two profiles located at the left walls and the middle.\n",
    "\n",
    "plt.plot(StressDataShaped[:,0], np.linspace(Model.bottom,Model.top,resolution[1]))\n",
    "plt.plot(StressDataShaped[:,resolution[0]/2], np.linspace(Model.bottom,Model.top,resolution[1]))\n",
    "\n",
    "\n",
    "## plt.yticks([-700,-300,-150,-40,0,68])\n",
    "## plt.xticks([20, 550.0, 1350])\n",
    "plt.grid()\n",
    "plt.xlabel('Stress MPa')\n",
    "plt.ylabel('Depth (km)')\n",
    "plt.title('Deviatoric Stress')\n",
    "plt.show()"
   ]
  },
  {
   "cell_type": "code",
   "execution_count": null,
   "metadata": {},
   "outputs": [],
   "source": [
    "Model.run_for(20.0 * u.megayears, checkpoint_interval=0.01 * u.megayears)"
   ]
  }
 ],
 "metadata": {
  "kernelspec": {
   "display_name": "Python 2",
   "language": "python",
   "name": "python2"
  },
  "language_info": {
   "codemirror_mode": {
    "name": "ipython",
    "version": 2
   },
   "file_extension": ".py",
   "mimetype": "text/x-python",
   "name": "python",
   "nbconvert_exporter": "python",
   "pygments_lexer": "ipython2",
   "version": "2.7.13"
  }
 },
 "nbformat": 4,
 "nbformat_minor": 2
}
