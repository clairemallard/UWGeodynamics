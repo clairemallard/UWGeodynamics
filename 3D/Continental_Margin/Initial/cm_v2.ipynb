{
 "cells": [
  {
   "cell_type": "code",
   "execution_count": null,
   "metadata": {},
   "outputs": [],
   "source": [
    "#!/usr/bin/env python\n",
    "# coding: utf-8\n",
    "\n",
    "#  3D Pull Apart Model. Original model for Patrice Rey, Luke Hardiman and Trisan Salles, translated to UWGeo by Romain Beucher\n",
    "#  Revisited by Patrice Rey Feb 2019\n",
    "\n",
    "import UWGeodynamics as GEO\n",
    "\n",
    "\n",
    "# In[2]:\n",
    "\n",
    "\n",
    "u = GEO.UnitRegistry\n",
    "\n",
    "\n",
    "# In[3]:\n",
    "\n",
    "\n",
    "# Characteristic values of the system\n",
    "velocity = 1.0 * u.centimeter / u.year\n",
    "model_length = 256e3 * u.meter\n",
    "model_width = 256e3 * u.meter\n",
    "surfaceTemp = 133.15 * u.degK\n",
    "baseModelTemp = 1533.15 * u.degK\n",
    "bodyforce = 3300 * u.kilogram / u.metre**3 * 9.81 * u.meter / u.second**2\n",
    "\n",
    "KL = model_length\n",
    "Kt = KL / velocity\n",
    "KM = bodyforce * KL**2 * Kt**2\n",
    "KT = (baseModelTemp - surfaceTemp)\n",
    "\n",
    "GEO.scaling_coefficients[\"[length]\"] = KL\n",
    "GEO.scaling_coefficients[\"[time]\"] = Kt\n",
    "GEO.scaling_coefficients[\"[mass]\"]= KM\n",
    "GEO.scaling_coefficients[\"[temperature]\"] = KT\n",
    "\n",
    "\n",
    "# # Model Geometry\n",
    "\n",
    "# In[4]:\n",
    "\n",
    "resolution = (32, 32, 16)\n",
    "Model = GEO.Model(elementRes=resolution,\n",
    "                  minCoord=(0. * u.kilometer, 0. * u.kilometer, -120. * u.kilometer),\n",
    "                  maxCoord=(256. * u.kilometer, 256. * u.kilometer, 8. * u.kilometer),\n",
    "                  gravity=(0.0, 0.0, -9.81 * u.meter / u.second**2))\n",
    "\n",
    "\n",
    "\n",
    "Model.outputDir=\"outputs\"\n",
    "\n",
    "\n",
    "# In[6]:\n",
    "\n",
    "\n",
    "Model.minViscosity = 1e19 * u.pascal * u.second\n",
    "Model.maxViscosity = 1e23 * u.pascal * u.second\n",
    "Model.stressLimiter = 300. * u.megapascal\n",
    "\n"
   ]
  },
  {
   "cell_type": "code",
   "execution_count": null,
   "metadata": {},
   "outputs": [],
   "source": [
    "Model.diffusivity = 1e-6 * u.metre**2 / u.second\n",
    "Model.capacity    = 1000. * u.joule / (u.kelvin * u.kilogram)\n",
    "\n",
    "\n",
    "air               = Model.add_material(name=\"Air\", shape=GEO.shapes.Layer3D(top=Model.top, bottom=0.0 * u.kilometer))\n",
    "#stickyAir         = Model.add_material(name=\"StickyAir\", shape=GEO.shapes.Layer3D(top=air.bottom, bottom= 0.0 * u.kilometer))\n",
    "sedimentMarge     = Model.add_material(name=\"SedimentMarge\", shape=GEO.shapes.Layer3D(top=air.bottom, bottom= -9.0 * u.kilometer))\n",
    "uppercrust        = Model.add_material(name=\"UppperCrust\", shape=GEO.shapes.Layer3D(top=sedimentMarge.bottom, bottom=-15.0 * u.kilometer))\n",
    "midcrust          = Model.add_material(name=\"MidCrust\", shape=GEO.shapes.Layer3D(top=-15.0 * u.kilometer, bottom=-20.0 * u.kilometer))\n",
    "lowercrust        = Model.add_material(name=\"LowerCrust\", shape=GEO.shapes.Layer3D(top=-20.0 * u.kilometer, bottom=-40.0 * u.kilometer))\n",
    "mantleLithosphere = Model.add_material(name=\"MantleLithosphere\", shape=GEO.shapes.Layer3D(top=-40.0 * u.kilometer, bottom=-100.0 * u.kilometer))\n",
    "mantle            = Model.add_material(name=\"Mantle\", shape=GEO.shapes.Layer3D(top=mantleLithosphere.bottom, bottom=Model.bottom))\n",
    "sediment          = Model.add_material(name=\"Sediment\")\n",
    "\n",
    "wz_slope = GEO.shapes.HalfSpace(normal=(-0.8,0.2,0.5), origin=(158.*u.kilometer,50.*u.kilometer, 0.*u.kilometer))\n",
    "wz_bottom = GEO.shapes.HalfSpace(normal=(0.8,-0.2,-0.5), origin=(160.*u.kilometer,50.*u.kilometer,0.*u.kilometer))\n",
    "wz_top = GEO.shapes.HalfSpace(normal=(0.,0.,1.), origin=(200.*u.kilometer,100.*u.kilometer,0.*u.kilometer))\n",
    "wz_fond = GEO.shapes.HalfSpace(normal=(0.,0.,-1.), origin=(200.*u.kilometer,100.*u.kilometer,-40.*u.kilometer))\n",
    "compositeShape = wz_slope & wz_top & wz_bottom & wz_fond\n",
    "Fault = Model.add_material(name=\"Fault\", shape=compositeShape)\n",
    "\n",
    "# Continent part\n",
    "top = GEO.shapes.HalfSpace(normal=(0.,0.,1.), origin=(200.*u.kilometer,100.*u.kilometer,3.*u.kilometer))\n",
    "right = GEO.shapes.HalfSpace(normal=(1.,0.,0.), origin=(256.*u.kilometer,256.*u.kilometer,-0.*u.kilometer))\n",
    "bottom = GEO.shapes.HalfSpace(normal=(0.,0.,-1.), origin=(200.*u.kilometer,100.*u.kilometer,-40.*u.kilometer))\n",
    "slope = GEO.shapes.HalfSpace(normal=(-0.8,0.2,0.5), origin=(160.*u.kilometer,50.*u.kilometer,0.*u.kilometer))\n",
    "CompositeShape_conti = slope & top & right & bottom\n",
    "continent = Model.add_material(name=\"continent\", shape=CompositeShape_conti)\n",
    "\n",
    "#air.diffusivity = 1.0e-6 * u.metre**2 / u.second\n",
    "air.capacity = 1000. * u.joule / (u.kelvin * u.kilogram)\n",
    "\n",
    "\n",
    "# ## Densities\n",
    "\n",
    "# In[12]:\n",
    "\n",
    "\n",
    "air.density         = 1. * u.kilogram / u.metre**3\n",
    "#stickyAir.density   = 1. * u.kilogram / u.metre**3\n",
    "Fault.density       = GEO.LinearDensity(reference_density=2000. * u.kilogram / u.metre**3)\n",
    "\n",
    "sedimentMarge.density = GEO.LinearDensity(reference_density=2400. * u.kilogram / u.metre**3)\n",
    "uppercrust.density  = GEO.LinearDensity(reference_density=2620. * u.kilogram / u.metre**3)\n",
    "midcrust.density          = GEO.LinearDensity(reference_density=2850. * u.kilogram / u.metre**3)\n",
    "continent.density   = GEO.LinearDensity(reference_density=2900. * u.kilogram / u.metre**3)\n",
    "lowercrust.density  = GEO.LinearDensity(reference_density=2900. * u.kilogram / u.metre**3)\n",
    "mantleLithosphere.density = GEO.LinearDensity(reference_density=3370. * u.kilogram / u.metre**3)\n",
    "mantle.density      = GEO.LinearDensity(reference_density=3395. * u.kilogram / u.metre**3)\n",
    "sediment.density          = GEO.LinearDensity(reference_density=2300. * u.kilogram / u.metre**3)\n",
    "\n",
    "sedimentMarge.radiogenicHeatProd   = 1.2  * u.microwatt / u.meter**3\n",
    "uppercrust.radiogenicHeatProd = 1.2 * u.microwatt / u.meter**3\n",
    "midcrust.radiogenicHeatProd   = 0.6 * u.microwatt / u.meter**3\n",
    "lowercrust.radiogenicHeatProd = 0.6 * u.microwatt / u.meter**3\n",
    "continent.radiogenicHeatProd = 1.0 * u.microwatt / u.meter**3\n",
    "mantleLithosphere.radiogenicHeatProd = 0.01154 * u.microwatt / u.meter**3\n",
    "Fault.radiogenicHeatProd = 1. * u.microwatt / u.meter**3 # faccenda 2008: 1-5\n",
    "mantle.radiogenicHeatProd = 0.01154 * u.microwatt / u.meter**3\n",
    "sediment.radiogenicHeatProd   = 0.6 * u.microwatt / u.meter**3\n",
    "\n",
    "\n",
    "\n",
    "\n",
    "# ## Viscosities\n",
    "\n",
    "# In[14]:\n",
    "\n",
    "\n",
    "rh = GEO.ViscousCreepRegistry()\n",
    "\n",
    "air.viscosity                = 1e19 * u.pascal * u.second\n",
    "#stickyAir.viscosity          = 1e19 * u.pascal * u.second\n",
    "sedimentMarge.viscosity = rh.Wet_Quartz_Dislocation_Gleason_and_Tullis_1995\n",
    "uppercrust.viscosity         = rh.Wet_Quartz_Dislocation_Gleason_and_Tullis_1995\n",
    "midcrust.viscosity    = rh.Dry_Maryland_Diabase_Dislocation_Mackwell_et_al_1998\n",
    "lowercrust.viscosity         = rh.Dry_Maryland_Diabase_Dislocation_Mackwell_et_al_1998\n",
    "continent.viscosity    = 5e23 * u.pascal * u.second\n",
    "\n",
    "mantleLithosphere.viscosity  = 5.0 * rh.Dry_Olivine_Dislocation_Karato_and_Wu_1990\n",
    "mantle.viscosity             = rh.Dry_Olivine_Dislocation_Karato_and_Wu_1990\n",
    "sediment.viscosity           = rh.Wet_Quartz_Dislocation_Gleason_and_Tullis_1995\n",
    "\n",
    "Fault.viscosity    = 1e19 * u.pascal * u.second # * rh.Goetze_et_al_1978\n",
    "Fault.minViscosity = 1e18 * u.pascal * u.second\n",
    "Fault.maxViscosity = 1e20 * u.pascal * u.second\n",
    "\n",
    "\n",
    "# ## Plasticities\n",
    "\n",
    "# In[15]:\n",
    "\n",
    "\n",
    "pl = GEO.PlasticityRegistry()\n",
    "\n",
    "uppercrust.plasticity = pl.Rey_and_Muller_2010_UpperCrust\n",
    "midcrust.plasticity = pl.Rey_and_Muller_2010_LowerCrust\n",
    "\n",
    "lowercrust.plasticity = pl.Rey_and_Muller_2010_LowerCrust\n",
    "continent.plasticity = pl.Rey_and_Muller_2010_UpperCrust\n",
    "\n",
    "mantleLithosphere.plasticity  = pl.Rey_and_Muller_2010_LithosphericMantle\n",
    "mantle.plasticity = mantleLithosphere.plasticity\n",
    "\n",
    "sediment.plasticity           = pl.Huismans_et_al_2011_Crust\n",
    "Fault.plasticity              = GEO.DruckerPrager(cohesion=2.0 * u.megapascal, frictionCoefficient=0.1154)\n",
    "\n",
    "\n",
    "\n",
    "# ## Passive Tracers\n",
    "\n",
    "# In[16]:\n",
    "\n",
    "\n",
    "import numpy as np\n",
    "\n",
    "xp = np.linspace(GEO.nd(Model.minCoord[0]), GEO.nd(Model.maxCoord[0]), 384)\n",
    "yp = np.linspace(GEO.nd(Model.minCoord[1]), GEO.nd(Model.maxCoord[1]), 256)\n",
    "\n",
    "xp, yp = np.meshgrid(xp, yp)\n",
    "xp = xp.flatten()\n",
    "yp = yp.flatten()\n",
    "zp = np.zeros(xp.shape)\n",
    "\n",
    "surface_tracers = Model.add_passive_tracers(name=\"Surface Tracers\", vertices=[xp, yp, zp], zOnly=True)\n",
    "moho_tracers = Model.add_passive_tracers(name=\"Moho\", vertices=[xp, yp, zp+GEO.nd(mantleLithosphere.top)], zOnly=True)\n",
    "Lab_tracers = Model.add_passive_tracers(name=\"Lab\", vertices=[xp,yp,-90.*u.kilometer])\n"
   ]
  },
  {
   "cell_type": "code",
   "execution_count": 3,
   "metadata": {},
   "outputs": [
    {
     "data": {
      "text/plain": [
       "<underworld.conditions._conditions.DirichletCondition at 0x7fe919030d50>"
      ]
     },
     "execution_count": 3,
     "metadata": {},
     "output_type": "execute_result"
    }
   ],
   "source": [
    "Model.set_temperatureBCs(top=133.15 * u.degK,\n",
    "                         bottom=1533.15 * u.degK)\n",
    "\n",
    "\n",
    "Model.set_velocityBCs(left=[-2. * u.centimeter / u.year, -2. * u.centimeter / u.year, None],\n",
    "                      right=[0., None , None],\n",
    "                      back=[None, 0., None],\n",
    "                      front=[None, 0., None],\n",
    "                      bottom=GEO.LecodeIsostasy(reference_mat=mantle,\n",
    "                                                average=True),order_wall_conditions=[\"top\", \"front\", \"back\", \"bottom\", \"left\", \"right\"])\n",
    "\n",
    "\n"
   ]
  },
  {
   "cell_type": "code",
   "execution_count": 4,
   "metadata": {},
   "outputs": [],
   "source": [
    "\n",
    "Model.init_model()\n",
    "\n",
    "# GEO.rcParams[\"initial.nonlinear.tolerance\"] = 1e-2\n",
    "# GEO.rcParams[\"nonlinear.tolerance\"] = 1e-2\n",
    "# GEO.rcParams[\"popcontrol.particles.per.cell.3D\"] = 60\n",
    "# GEO.rcParams[\"swarm.particles.per.cell.3D\"] = 60\n",
    "\n",
    "# Model.solver.options.set_inner_method = \"mg\"\n",
    "# Model.solver.options.levels = 5\n",
    "# Model.solver.options.A11.mg_coarse_pc_factor_mat_solver_type = \"mumps\"\n",
    "# Model.solver.options.A11.mg_coarse_pc_type = \"hypre\"\n",
    "# Model.solver.options.A11.mg_coarse_ksp_type = \"cg\"\n",
    "# #Model.solver.options.A11.ksp_monitor = \"ascii\"\n",
    "# Model.solver.options.A11.ksp_rtol = \"1e-6\"\n",
    "# #Model.solver.options.scr.ksp_monitor_true_residual = \"ascii\"\n",
    "# #Model.solver.options.scr.ksp_converged_reason = \"ascii\"\n",
    "# Model.solver.options.scr.ksp_rtol = \"1e-5\"\n",
    "# Model.solver.options.main.remove_constant_pressure_null_space = True\n",
    "# #Model.solver.options.A11.ksp_converged_reason = \"ascii\"\n",
    "# Model.solver.options.main.options_left = \"\"\n",
    "# Model.solver.options.main.log_summary = \"\"\n",
    "# # Model.run_for(10. * u.megayears, restartStep=91,   checkpoint_interval=0.05 * u.megayears)\n",
    "                                                                                              "
   ]
  },
  {
   "cell_type": "code",
   "execution_count": null,
   "metadata": {},
   "outputs": [],
   "source": [
    "Fig = glucifer.Figure()\n",
    "Fig.Points(Model.swarm, Model.temperature, cullface=False, opacity=1.,)\n",
    "#Fig.Points(Model.swarm, Model.materialField, cullface=False, opacity=1.)\n",
    "\n",
    "\n",
    "#Fig.Mesh(Model.mesh)\n",
    "viewer = Fig.viewer(resolution=(640,480))\n",
    "viewer = Fig.viewer(axis=True)\n",
    "viewer = Fig.viewer(rulers=False)\n",
    "viewer = Fig.viewer(quality=3)\n",
    "\n",
    "\n",
    "viewer.rotatex(-70)\n",
    "viewer.rotatey(-10)\n",
    "viewer.window()"
   ]
  },
  {
   "cell_type": "code",
   "execution_count": null,
   "metadata": {},
   "outputs": [],
   "source": [
    "Fig = glucifer.Figure()\n",
    "Fig.Points(Model.swarm, Model.plasticStrain, cullface=False, opacity=1.,)\n",
    "#Fig.Points(Model.swarm, Model.materialField, cullface=False, opacity=1.)\n",
    "\n",
    "\n",
    "#Fig.Mesh(Model.mesh)\n",
    "viewer = Fig.viewer(resolution=(640,480))\n",
    "viewer = Fig.viewer(axis=True)\n",
    "viewer = Fig.viewer(rulers=False)\n",
    "viewer = Fig.viewer(quality=3)\n",
    "\n",
    "\n",
    "viewer.rotatex(-70)\n",
    "viewer.rotatey(-10)\n",
    "viewer.window()"
   ]
  },
  {
   "cell_type": "code",
   "execution_count": null,
   "metadata": {},
   "outputs": [],
   "source": []
  },
  {
   "cell_type": "code",
   "execution_count": null,
   "metadata": {},
   "outputs": [],
   "source": []
  },
  {
   "cell_type": "markdown",
   "metadata": {},
   "source": [
    "Fig = glucifer.Figure()\n",
    "Fig.Points(Model.swarm, Model.temperature, cullface=False, opacity=1.,)\n",
    "#Fig.Points(Model.swarm, Model.materialField, cullface=False, opacity=1.)\n",
    "\n",
    "\n",
    "#Fig.Mesh(Model.mesh)\n",
    "viewer = Fig.viewer(resolution=(640,480))\n",
    "viewer = Fig.viewer(axis=True)\n",
    "viewer = Fig.viewer(rulers=False)\n",
    "viewer = Fig.viewer(quality=3)\n",
    "\n",
    "\n",
    "viewer.rotatex(-70)\n",
    "viewer.rotatey(-10)\n",
    "viewer.window()"
   ]
  },
  {
   "cell_type": "markdown",
   "metadata": {},
   "source": [
    "Fig = glucifer.Figure()\n",
    "Fig.Points(Model.swarm, Model.plasticStrain, cullface=False, opacity=1.,)\n",
    "#Fig.Points(Model.swarm, Model.materialField, cullface=False, opacity=1.)\n",
    "\n",
    "\n",
    "#Fig.Mesh(Model.mesh)\n",
    "viewer = Fig.viewer(resolution=(640,480))\n",
    "viewer = Fig.viewer(axis=True)\n",
    "viewer = Fig.viewer(rulers=False)\n",
    "viewer = Fig.viewer(quality=3)\n",
    "\n",
    "\n",
    "viewer.rotatex(-70)\n",
    "viewer.rotatey(-10)\n",
    "viewer.window()"
   ]
  },
  {
   "cell_type": "markdown",
   "metadata": {},
   "source": [
    "Fig = glucifer.Figure(figsize=(1200,400), title=\"Velocity (cm/yr)\", quality=2)\n",
    "Fig.Surface(Model.mesh, Model.velocityField[0])\n",
    "Fig.show()"
   ]
  },
  {
   "cell_type": "markdown",
   "metadata": {},
   "source": [
    "Fig = glucifer.Figure()\n",
    "Fig.Points(Model.swarm, Model.pressureField, cullface=False, opacity=1.,)\n",
    "#Fig.Points(Model.swarm, Model.materialField, cullface=False, opacity=1.)\n",
    "\n",
    "\n",
    "#Fig.Mesh(Model.mesh)\n",
    "viewer = Fig.viewer(resolution=(640,480))\n",
    "viewer = Fig.viewer(axis=True)\n",
    "viewer = Fig.viewer(rulers=False)\n",
    "viewer = Fig.viewer(quality=3)\n",
    "\n",
    "\n",
    "viewer.rotatex(-70)\n",
    "viewer.rotatey(-10)\n",
    "viewer.window()"
   ]
  },
  {
   "cell_type": "markdown",
   "metadata": {},
   "source": [
    "## Solver, Model init"
   ]
  },
  {
   "cell_type": "code",
   "execution_count": 5,
   "metadata": {},
   "outputs": [],
   "source": [
    "import matplotlib.pyplot as plt"
   ]
  },
  {
   "cell_type": "code",
   "execution_count": 6,
   "metadata": {},
   "outputs": [
    {
     "name": "stdout",
     "output_type": "stream",
     "text": [
      "('Moho Temperature = ', <Quantity(599.948411045, 'degC')>)\n",
      "('Lab Temperature = ', <Quantity(1015.09798604, 'degC')>)\n"
     ]
    }
   ],
   "source": [
    "mohoT = Model.temperature.evaluate(moho_tracers.swarm)[:,0].mean()\n",
    "print(\"Moho Temperature = \", GEO.Dimensionalize(mohoT, u.degC)) \n",
    "LabT = Model.temperature.evaluate(Lab_tracers.swarm)[:,0].mean()\n",
    "print(\"Lab Temperature = \", GEO.Dimensionalize(LabT, u.degC)) \n",
    "\n"
   ]
  },
  {
   "cell_type": "code",
   "execution_count": 7,
   "metadata": {},
   "outputs": [
    {
     "data": {
      "image/png": "[encoded data removed]",
      "text/plain": [
       "<Figure size 432x288 with 1 Axes>"
      ]
     },
     "metadata": {
      "needs_background": "light"
     },
     "output_type": "display_data"
    }
   ],
   "source": [
    "MyTemperatureField=(Model.temperature.data[:] * GEO.Dimensionalize(1.0, u.degK)).magnitude \n",
    "\n",
    "TemperatureData=np.asarray(MyTemperatureField)\n",
    "TemperatureDataShaped=TemperatureData.reshape(resolution[1]+1,resolution[0]+1,resolution[2]+1)\n",
    "\n",
    "#Two profiles located at the left walls and the middle.\n",
    "plt.plot(TemperatureDataShaped[:,0], np.linspace(Model.bottom,Model.top,resolution[1]+1))\n",
    "plt.plot(TemperatureDataShaped[:, resolution[2]/2], np.linspace(Model.bottom,Model.top,resolution[1]+1))\n",
    "\n",
    "## plt.yticks([-700,-300,-150,-40,0,68])\n",
    "## plt.xticks([20, 550.0, 1350])\n",
    "plt.grid()\n",
    "#plt.xscale('log')\n",
    "plt.xlabel('Temperature K')\n",
    "plt.ylabel('Depth (km)')\n",
    "plt.title('Temperature')\n",
    "plt.show()"
   ]
  },
  {
   "cell_type": "code",
   "execution_count": 8,
   "metadata": {},
   "outputs": [
    {
     "data": {
      "image/png": "[encoded data removed]",
      "text/plain": [
       "<Figure size 432x288 with 1 Axes>"
      ]
     },
     "metadata": {
      "needs_background": "light"
     },
     "output_type": "display_data"
    }
   ],
   "source": [
    "MyPressureField=(Model.pressureField.data[:] * GEO.Dimensionalize(1.0, u.megapascal)).magnitude \n",
    "\n",
    "PressureData=np.asarray(MyPressureField)\n",
    "PressureDataShaped=PressureData.reshape(resolution[1],resolution[0],resolution[2])\n",
    "\n",
    "#Two profiles located at the left walls and the middle.\n",
    "plt.plot(PressureDataShaped[:,0], np.linspace(Model.bottom,Model.top,resolution[1]))\n",
    "plt.plot(PressureDataShaped[:,resolution[2]/2], np.linspace(Model.bottom,Model.top,resolution[1]))\n",
    "\n",
    "## plt.yticks([-700,-300,-150,-40,0,68])\n",
    "## plt.xticks([20, 550.0, 1350])\n",
    "plt.grid()\n",
    "#plt.xscale('log')\n",
    "plt.xlabel('Pressure MPa')\n",
    "plt.ylabel('Depth (km)')\n",
    "plt.title('Pressure')\n",
    "plt.show()\n",
    "\n"
   ]
  },
  {
   "cell_type": "code",
   "execution_count": 9,
   "metadata": {},
   "outputs": [
    {
     "data": {
      "image/png": "[encoded data removed]",
      "text/plain": [
       "<Figure size 432x288 with 1 Axes>"
      ]
     },
     "metadata": {
      "needs_background": "light"
     },
     "output_type": "display_data"
    }
   ],
   "source": [
    "MyViscosityField=(Model.projViscosityField.data[:] * GEO.Dimensionalize(1.0, u.pascal * u.second)).magnitude \n",
    "\n",
    "ViscosityData=np.asarray(MyViscosityField)\n",
    "ViscosityDataShaped=ViscosityData.reshape(resolution[1]+1,resolution[0]+1,resolution[2]+1)\n",
    "\n",
    "#Two profiles located at the left walls and the middle.\n",
    "plt.plot(ViscosityDataShaped[:,0], np.linspace(Model.bottom,Model.top,resolution[1]+1))\n",
    "plt.plot(ViscosityDataShaped[:,resolution[0]/2], np.linspace(Model.bottom,Model.top,resolution[1]+1))\n",
    "\n",
    "\n",
    "\n",
    "## plt.yticks([-700,-300,-150,-40,0,68])\n",
    "## plt.xticks([20, 550.0, 1350])\n",
    "#plt.grid()\n",
    "plt.xscale('log')\n",
    "plt.xlabel('Viscosity Pa.s')\n",
    "plt.ylabel('Depth (km)')\n",
    "## plt.title('Viscosity')\n",
    "plt.show()\n",
    "\n"
   ]
  },
  {
   "cell_type": "code",
   "execution_count": 10,
   "metadata": {},
   "outputs": [
    {
     "data": {
      "image/png": "[encoded data removed]",
      "text/plain": [
       "<Figure size 432x288 with 1 Axes>"
      ]
     },
     "metadata": {
      "needs_background": "light"
     },
     "output_type": "display_data"
    }
   ],
   "source": [
    "MyStressField=(Model.projStressField.data[:] * GEO.Dimensionalize(1.0, u.megapascal)).magnitude \n",
    "\n",
    "StressData=np.asarray(MyStressField)\n",
    "StressDataShaped=StressData.reshape(resolution[1],resolution[0],resolution[2])\n",
    "\n",
    "#Two profiles located at the left walls and the middle.\n",
    "\n",
    "plt.plot(StressDataShaped[:,0], np.linspace(Model.bottom,Model.top,resolution[1]))\n",
    "plt.plot(StressDataShaped[:,resolution[0]/2], np.linspace(Model.bottom,Model.top,resolution[1]))\n",
    "\n",
    "\n",
    "## plt.yticks([-700,-300,-150,-40,0,68])\n",
    "## plt.xticks([20, 550.0, 1350])\n",
    "plt.grid()\n",
    "plt.xlabel('Stress MPa')\n",
    "plt.ylabel('Depth (km)')\n",
    "plt.title('Deviatoric Stress')\n",
    "plt.show()"
   ]
  },
  {
   "cell_type": "code",
   "execution_count": null,
   "metadata": {},
   "outputs": [],
   "source": [
    "#Model.run_for(10.0 * u.megayears, checkpoint_interval=0.005 * u.megayears,restart_checkpoint=2)\n"
   ]
  },
  {
   "cell_type": "code",
   "execution_count": null,
   "metadata": {},
   "outputs": [],
   "source": []
  }
 ],
 "metadata": {
  "kernelspec": {
   "display_name": "Python 2",
   "language": "python",
   "name": "python2"
  },
  "language_info": {
   "codemirror_mode": {
    "name": "ipython",
    "version": 2
   },
   "file_extension": ".py",
   "mimetype": "text/x-python",
   "name": "python",
   "nbconvert_exporter": "python",
   "pygments_lexer": "ipython2",
   "version": "2.7.13"
  }
 },
 "nbformat": 4,
 "nbformat_minor": 2
}
