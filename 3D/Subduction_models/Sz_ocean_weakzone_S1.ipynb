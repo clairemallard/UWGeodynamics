{
 "cells": [
  {
   "cell_type": "markdown",
   "metadata": {},
   "source": [
    "# 3D sz's MODEL"
   ]
  },
  {
   "cell_type": "markdown",
   "metadata": {},
   "source": [
    "- configuration A: (128 x 128 x 64 nodes) 128 CPUS\n",
    "- configuration B: (256 x 256 x 96 nodes) 256 CPUS\n",
    "The user should remove visualisation from the python script before running the model on raijin.\n",
    "In [2]:\n"
   ]
  },
  {
   "cell_type": "code",
   "execution_count": 1,
   "metadata": {},
   "outputs": [
    {
     "name": "stdout",
     "output_type": "stream",
     "text": [
      "loaded rc file /opt/UWGeodynamics/UWGeodynamics/uwgeo-data/uwgeodynamicsrc\n"
     ]
    }
   ],
   "source": [
    "import matplotlib.pyplot as plt\n",
    "import UWGeodynamics as GEO\n",
    "u = GEO.UnitRegistry # u. +tab to see available units or u = GEO.u\n",
    "import glucifer"
   ]
  },
  {
   "cell_type": "code",
   "execution_count": 2,
   "metadata": {},
   "outputs": [],
   "source": [
    "##### Characteristic values of the system\n",
    "\n",
    "half_rate = 1.8 * u.centimeter / u.year # What is it?\n",
    "model_length = 4000e3 * u.meter\n",
    "model_width = 2000e3 * u.meter\n",
    "surfaceTemp = 273.15 * u.degK\n",
    "baseModelTemp = 3570 * u.degK\n",
    "bodyforce = 3300 * u.kilogram / u.metre**3 * 9.81 * u.meter / u.second**2 # ckeck publi schellart\n",
    "\n",
    "KL = model_length # Characteristic length\n",
    "Kt = KL / half_rate # Characteristic time \n",
    "KM = bodyforce * KL**2 * Kt**2 # Characteristic mass\n",
    "KT = (baseModelTemp - surfaceTemp) # Characteristic temperature\n",
    "\n",
    "GEO.scaling_coefficients[\"[length]\"] = KL\n",
    "GEO.scaling_coefficients[\"[time]\"] = Kt\n",
    "GEO.scaling_coefficients[\"[mass]\"]= KM\n",
    "GEO.scaling_coefficients[\"[temperature]\"] = KT\n"
   ]
  },
  {
   "cell_type": "code",
   "execution_count": 3,
   "metadata": {},
   "outputs": [],
   "source": [
    "Model = GEO.Model(elementRes=(34, 34, 12), \n",
    "                  minCoord=(0. * u.kilometer, -0. * u.kilometer, -660. * u.kilometer), \n",
    "                  maxCoord=(4000. * u.kilometer, 2000. * u.kilometer, 20. * u.kilometer), \n",
    "                  gravity=(0.0 ,0.0, -9.81 * u.meter / u.second**2))"
   ]
  },
  {
   "cell_type": "markdown",
   "metadata": {},
   "source": [
    "## Output"
   ]
  },
  {
   "cell_type": "code",
   "execution_count": 4,
   "metadata": {},
   "outputs": [],
   "source": [
    "Model.outputDir=\"3D_sz_ocean_faccenda_oblique2\""
   ]
  },
  {
   "cell_type": "markdown",
   "metadata": {},
   "source": [
    "## Define Materials\n",
    "The model has initially 4 materials (air, crust, mantle lithosphere and mantle). We add a fifth material for the sediment. Sediment will only appear if surface processes are turned on...(and if there is sedimentation of course)"
   ]
  },
  {
   "cell_type": "code",
   "execution_count": 5,
   "metadata": {},
   "outputs": [],
   "source": [
    "## Definition of simple layers\n",
    "\n",
    "\n",
    "air               = Model.add_material(name=\"Air\", shape=GEO.shapes.Layer3D(top=Model.top, bottom=4.0 * u.kilometer))\n",
    "stickyAir         = Model.add_material(name=\"StickyAir\", shape=GEO.shapes.Layer3D(top=air.bottom, bottom= 0.0 * u.kilometer))\n",
    "sedimentMarge     = Model.add_material(name=\"SedimentMarge\", shape=GEO.shapes.Layer3D(top=stickyAir.bottom, bottom= -9.0 * u.kilometer))\n",
    "#uppercrust        = Model.add_material(name=\"UppperCrust\", shape=GEO.shapes.Layer3D(top=0, bottom=-15.0 * u.kilometer))\n",
    "#midcrust          = Model.add_material(name=\"MidCrust\", shape=GEO.shapes.Layer3D(top=-15.0 * u.kilometer, bottom=-20.0 * u.kilometer))\n",
    "#lowercrust        = Model.add_material(name=\"LowerCrust\", shape=GEO.shapes.Layer3D(top=-15.0 * u.kilometer, bottom=-30.0 * u.kilometer))\n",
    "weakzone          = Model.add_material(name=\"lithosphere\", shape=GEO.shapes.Layer3D(top=-9.0, bottom=-120.0 * u.kilometer))\n",
    "mantle            = Model.add_material(name=\"Mantle\", shape=GEO.shapes.Layer3D(top=weakzone.bottom, bottom=Model.bottom))\n"
   ]
  },
  {
   "cell_type": "code",
   "execution_count": 8,
   "metadata": {
    "scrolled": true
   },
   "outputs": [
    {
     "ename": "AttributeError",
     "evalue": "'Shape' object has no attribute 'top'",
     "output_type": "error",
     "traceback": [
      "\u001b[1;31m\u001b[0m",
      "\u001b[1;31mAttributeError\u001b[0mTraceback (most recent call last)",
      "\u001b[1;32m<ipython-input-8-b561696b0b96>\u001b[0m in \u001b[0;36m<module>\u001b[1;34m()\u001b[0m\n\u001b[0;32m    164\u001b[0m \u001b[1;33m\u001b[0m\u001b[0m\n\u001b[0;32m    165\u001b[0m \u001b[1;31m# Forme finale\u001b[0m\u001b[1;33m\u001b[0m\u001b[1;33m\u001b[0m\u001b[0m\n\u001b[1;32m--> 166\u001b[1;33m \u001b[0mCompositeShape_final\u001b[0m \u001b[1;33m=\u001b[0m \u001b[0mGEO\u001b[0m\u001b[1;33m.\u001b[0m\u001b[0mshapes\u001b[0m\u001b[1;33m.\u001b[0m\u001b[0mMultiShape\u001b[0m\u001b[1;33m(\u001b[0m\u001b[1;33m[\u001b[0m\u001b[0mCompositeShape_slab\u001b[0m\u001b[1;33m,\u001b[0m \u001b[0mCompositeShape_plate_right\u001b[0m\u001b[1;33m]\u001b[0m\u001b[1;33m)\u001b[0m\u001b[1;33m\u001b[0m\u001b[0m\n\u001b[0m\u001b[0;32m    167\u001b[0m \u001b[0mSlab_lithosphere\u001b[0m \u001b[1;33m=\u001b[0m \u001b[0mModel\u001b[0m\u001b[1;33m.\u001b[0m\u001b[0madd_material\u001b[0m\u001b[1;33m(\u001b[0m\u001b[0mname\u001b[0m\u001b[1;33m=\u001b[0m\u001b[1;34m\"litho\"\u001b[0m\u001b[1;33m,\u001b[0m \u001b[0mshape\u001b[0m\u001b[1;33m=\u001b[0m\u001b[0mCompositeShape_final\u001b[0m\u001b[1;33m)\u001b[0m\u001b[1;33m\u001b[0m\u001b[0m\n\u001b[0;32m    168\u001b[0m \u001b[1;33m\u001b[0m\u001b[0m\n",
      "\u001b[1;32m/opt/UWGeodynamics/UWGeodynamics/shapes.py\u001b[0m in \u001b[0;36m__init__\u001b[1;34m(self, shapes)\u001b[0m\n\u001b[0;32m    154\u001b[0m \u001b[1;33m\u001b[0m\u001b[0m\n\u001b[0;32m    155\u001b[0m         \u001b[0mWarning\u001b[0m\u001b[1;33m(\u001b[0m\u001b[1;34m\"MultiShape is now deprecated, use CombinedShape instead\"\u001b[0m\u001b[1;33m)\u001b[0m\u001b[1;33m\u001b[0m\u001b[0m\n\u001b[1;32m--> 156\u001b[1;33m         \u001b[0msuper\u001b[0m\u001b[1;33m(\u001b[0m\u001b[0mMultiShape\u001b[0m\u001b[1;33m,\u001b[0m \u001b[0mself\u001b[0m\u001b[1;33m)\u001b[0m\u001b[1;33m.\u001b[0m\u001b[0m__init__\u001b[0m\u001b[1;33m(\u001b[0m\u001b[0mshapes\u001b[0m\u001b[1;33m)\u001b[0m\u001b[1;33m\u001b[0m\u001b[0m\n\u001b[0m\u001b[0;32m    157\u001b[0m \u001b[1;33m\u001b[0m\u001b[0m\n\u001b[0;32m    158\u001b[0m \u001b[1;33m\u001b[0m\u001b[0m\n",
      "\u001b[1;32m/opt/UWGeodynamics/UWGeodynamics/shapes.py\u001b[0m in \u001b[0;36m__init__\u001b[1;34m(self, shapes)\u001b[0m\n\u001b[0;32m    132\u001b[0m         \"\"\"\n\u001b[0;32m    133\u001b[0m         \u001b[0mself\u001b[0m\u001b[1;33m.\u001b[0m\u001b[0mshapes\u001b[0m \u001b[1;33m=\u001b[0m \u001b[0mshapes\u001b[0m\u001b[1;33m\u001b[0m\u001b[0m\n\u001b[1;32m--> 134\u001b[1;33m         \u001b[0mself\u001b[0m\u001b[1;33m.\u001b[0m\u001b[0mtop\u001b[0m \u001b[1;33m=\u001b[0m \u001b[0mmax\u001b[0m\u001b[1;33m(\u001b[0m\u001b[1;33m[\u001b[0m\u001b[0mshape\u001b[0m\u001b[1;33m.\u001b[0m\u001b[0mtop\u001b[0m \u001b[1;32mfor\u001b[0m \u001b[0mshape\u001b[0m \u001b[1;32min\u001b[0m \u001b[0mshapes\u001b[0m\u001b[1;33m]\u001b[0m\u001b[1;33m)\u001b[0m\u001b[1;33m\u001b[0m\u001b[0m\n\u001b[0m\u001b[0;32m    135\u001b[0m         \u001b[0mself\u001b[0m\u001b[1;33m.\u001b[0m\u001b[0mbottom\u001b[0m \u001b[1;33m=\u001b[0m \u001b[0mmin\u001b[0m\u001b[1;33m(\u001b[0m\u001b[1;33m[\u001b[0m\u001b[0mshape\u001b[0m\u001b[1;33m.\u001b[0m\u001b[0mtop\u001b[0m \u001b[1;32mfor\u001b[0m \u001b[0mshape\u001b[0m \u001b[1;32min\u001b[0m \u001b[0mshapes\u001b[0m\u001b[1;33m]\u001b[0m\u001b[1;33m)\u001b[0m\u001b[1;33m\u001b[0m\u001b[0m\n\u001b[0;32m    136\u001b[0m \u001b[1;33m\u001b[0m\u001b[0m\n",
      "\u001b[1;31mAttributeError\u001b[0m: 'Shape' object has no attribute 'top'"
     ]
    }
   ],
   "source": [
    "## Definition of common geometricals elements\n",
    "\n",
    "top = GEO.shapes.HalfSpace(normal=(0.,0.,1.), origin=(2000.*u.kilometer,1000.*u.kilometer,-9.*u.kilometer))\n",
    "right = GEO.shapes.HalfSpace(normal=(1.,0.,0.), origin=(4000.*u.kilometer,1000.*u.kilometer,-330.*u.kilometer))\n",
    "left = GEO.shapes.HalfSpace(normal=(-1.,0.,0.), origin=(0.*u.kilometer,1000.*u.kilometer,-330.*u.kilometer))\n",
    "bottom = GEO.shapes.HalfSpace(normal=(0.,0.,-1.), origin=(2000.*u.kilometer,1000.*u.kilometer,-179.*u.kilometer))\n",
    "\n",
    "slab_before1 = GEO.shapes.HalfSpace(normal=(0.,1.,0.), origin=(2600.*u.kilometer,2000.*u.kilometer,-150.*u.kilometer))\n",
    "slab_before2 = GEO.shapes.HalfSpace(normal=(0.,1.,0.), origin=(2563.*u.kilometer,1776.*u.kilometer,-150.*u.kilometer))\n",
    "slab_before3 = GEO.shapes.HalfSpace(normal=(0.,1.,0.), origin=(2458.*u.kilometer,1554.*u.kilometer,-150.*u.kilometer))\n",
    "slab_before4 = GEO.shapes.HalfSpace(normal=(0.,1.,0.), origin=(2298.*u.kilometer,1332.*u.kilometer,-150.*u.kilometer))\n",
    "slab_before5 = GEO.shapes.HalfSpace(normal=(0.,1.,0.), origin=(2103.*u.kilometer,1110.*u.kilometer,-150.*u.kilometer))\n",
    "slab_before6 = GEO.shapes.HalfSpace(normal=(0.,1.,0.), origin=(1895.*u.kilometer,888.*u.kilometer,-150.*u.kilometer))\n",
    "slab_before7 = GEO.shapes.HalfSpace(normal=(0.,1.,0.), origin=(1700.*u.kilometer,666.*u.kilometer,-150.*u.kilometer))\n",
    "slab_before8 = GEO.shapes.HalfSpace(normal=(0.,1.,0.), origin=(1541.*u.kilometer,444.*u.kilometer,-150.*u.kilometer))\n",
    "slab_before9 = GEO.shapes.HalfSpace(normal=(0.,1.,0.), origin=(1437.*u.kilometer,222.*u.kilometer,-150.*u.kilometer))\n",
    "\n",
    "slab_after1 = GEO.shapes.HalfSpace(normal=(0.,-1.,0.), origin=(2563.*u.kilometer,1776.*u.kilometer,-150.*u.kilometer))\n",
    "slab_after2 = GEO.shapes.HalfSpace(normal=(0.,-1.,0.), origin=(2458.*u.kilometer,1554.*u.kilometer,-150.*u.kilometer))\n",
    "slab_after3 = GEO.shapes.HalfSpace(normal=(0.,-1.,0.), origin=(2298.*u.kilometer,1332.*u.kilometer,-150.*u.kilometer))\n",
    "slab_after4 = GEO.shapes.HalfSpace(normal=(0.,-1.,0.), origin=(2103.*u.kilometer,1110.*u.kilometer,-150.*u.kilometer))\n",
    "slab_after5 = GEO.shapes.HalfSpace(normal=(0.,-1.,0.), origin=(1895.*u.kilometer,888.*u.kilometer,-150.*u.kilometer))\n",
    "slab_after6 = GEO.shapes.HalfSpace(normal=(0.,-1.,0.), origin=(1700.*u.kilometer,666.*u.kilometer,-150.*u.kilometer))\n",
    "slab_after7 = GEO.shapes.HalfSpace(normal=(0.,-1.,0.), origin=(1541.*u.kilometer,444.*u.kilometer,-150.*u.kilometer))\n",
    "slab_after8 = GEO.shapes.HalfSpace(normal=(0.,-1.,0.), origin=(1437.*u.kilometer,222.*u.kilometer,-150.*u.kilometer))\n",
    "slab_after9 = GEO.shapes.HalfSpace(normal=(0.,-1.,0.), origin=(1400.*u.kilometer,0.*u.kilometer,-150.*u.kilometer))\n",
    "\n",
    "slab_end1 = GEO.shapes.HalfSpace(normal=(-0.2870,0.0474,0.), origin=(1961.5*u.kilometer,1888.*u.kilometer,-240.*u.kilometer))\n",
    "slab_end2 = GEO.shapes.HalfSpace(normal=(-0.2847,0.1347,0.), origin=(1890.5*u.kilometer,1665.*u.kilometer,-240.*u.kilometer))\n",
    "slab_end3 = GEO.shapes.HalfSpace(normal=(-0.2814,0.2028,0.), origin=(1758.*u.kilometer,1443.*u.kilometer,-240.*u.kilometer))\n",
    "slab_end4 = GEO.shapes.HalfSpace(normal=(-0.2786,0.2447,0.), origin=(1580.5*u.kilometer,1221.*u.kilometer,-240.*u.kilometer))\n",
    "slab_end5 = GEO.shapes.HalfSpace(normal=(-0.2775,0.2600,0.), origin=(1379.*u.kilometer,999.*u.kilometer,-240.*u.kilometer))\n",
    "slab_end6 = GEO.shapes.HalfSpace(normal=(-0.2786,0.2447,0.), origin=(1177.5*u.kilometer,777.*u.kilometer,-240.*u.kilometer))\n",
    "slab_end7 = GEO.shapes.HalfSpace(normal=(-0.2814,0.2016,0.), origin=(1000.5*u.kilometer,555.*u.kilometer,-240.*u.kilometer))\n",
    "slab_end8 = GEO.shapes.HalfSpace(normal=(-0.2848,0.1334,0.), origin=(869.*u.kilometer,333.*u.kilometer,-240.*u.kilometer))\n",
    "slab_end9 = GEO.shapes.HalfSpace(normal=(-0.2827,0.0478,0.), origin=(798.5*u.kilometer,111.*u.kilometer,-240.*u.kilometer))\n",
    "\n",
    "\n",
    "## Definition of right plate\n",
    "\n",
    "right1 = GEO.shapes.HalfSpace(normal=(0.2870,-0.0474,-0.9567), origin=(2576.5*u.kilometer,1888.*u.kilometer,-159.*u.kilometer))\n",
    "right2 = GEO.shapes.HalfSpace(normal=(0.2847,-0.1347,-0.9491), origin=(2505.5*u.kilometer,1665.*u.kilometer,-159.*u.kilometer))\n",
    "right3 = GEO.shapes.HalfSpace(normal=(0.2814,-0.2028,-0.9379), origin=(2373.*u.kilometer,1443.*u.kilometer,-159.*u.kilometer))\n",
    "right4 = GEO.shapes.HalfSpace(normal=(0.2786,-0.2447,-0.9287), origin=(2195.5*u.kilometer,1221.*u.kilometer,-159.*u.kilometer))\n",
    "right5 = GEO.shapes.HalfSpace(normal=(0.2775,-0.2600,-0.9249), origin=(1994.*u.kilometer,999.*u.kilometer,-159.*u.kilometer))\n",
    "right6 = GEO.shapes.HalfSpace(normal=(0.2786,-0.2447,-0.9287), origin=(1792.5*u.kilometer,777.*u.kilometer,-159.*u.kilometer))\n",
    "right7 = GEO.shapes.HalfSpace(normal=(0.2814,-0.2016,-0.9382), origin=(1615.5*u.kilometer,555.*u.kilometer,-159.*u.kilometer))\n",
    "right8 = GEO.shapes.HalfSpace(normal=(0.2848,-0.1334,-0.9493), origin=(1484.*u.kilometer,333.*u.kilometer,-159.*u.kilometer))\n",
    "right9 = GEO.shapes.HalfSpace(normal=(0.2827,-0.0478,-0.9567), origin=(1413.5*u.kilometer,111.*u.kilometer,-159.*u.kilometer))\n",
    "\n",
    "\n",
    "CompositeShape_plate_left1 = right1 & top & left & bottom & slab_before1 & slab_after1\n",
    "CompositeShape_plate_left2 = right2 & top & left & bottom & slab_before2 & slab_after2\n",
    "CompositeShape_plate_left3 = right3 & top & left & bottom & slab_before3 & slab_after3\n",
    "CompositeShape_plate_left4 = right4 & top & left & bottom & slab_before4 & slab_after4\n",
    "CompositeShape_plate_left5 = right5 & top & left & bottom & slab_before5 & slab_after5\n",
    "CompositeShape_plate_left6 = right6 & top & left & bottom & slab_before6 & slab_after6\n",
    "CompositeShape_plate_left7 = right7 & top & left & bottom & slab_before7 & slab_after7\n",
    "CompositeShape_plate_left8 = right8 & top & left & bottom & slab_before8 & slab_after8\n",
    "CompositeShape_plate_left9 = right9 & top & left & bottom & slab_before9 & slab_after9\n",
    "\n",
    "plate_left1 = Model.add_material(name=\"plate_left1\", shape=CompositeShape_plate_left1)\n",
    "plate_left2 = Model.add_material(name=\"plate_left2\", shape=CompositeShape_plate_left2)\n",
    "plate_left3 = Model.add_material(name=\"plate_left3\", shape=CompositeShape_plate_left3)\n",
    "plate_left4 = Model.add_material(name=\"plate_left4\", shape=CompositeShape_plate_left4)\n",
    "plate_left5 = Model.add_material(name=\"plate_left5\", shape=CompositeShape_plate_left5)\n",
    "plate_left6 = Model.add_material(name=\"plate_left6\", shape=CompositeShape_plate_left6)\n",
    "plate_left7 = Model.add_material(name=\"plate_left7\", shape=CompositeShape_plate_left7)\n",
    "plate_left8 = Model.add_material(name=\"plate_left8\", shape=CompositeShape_plate_left8)\n",
    "plate_left9 = Model.add_material(name=\"plate_left9\", shape=CompositeShape_plate_left9)\n",
    "\n",
    "CompositeShape_plate_left = CompositeShape_plate_left1& CompositeShape_plate_left2& CompositeShape_plate_left3& CompositeShape_plate_left4& CompositeShape_plate_left5& CompositeShape_plate_left6& CompositeShape_plate_left7& CompositeShape_plate_left8& CompositeShape_plate_left9\n",
    "plate_left = Model.add_material(name=\"Slab_lithosphere\", shape = CompositeShape_plate_left)\n",
    "\n",
    "\n",
    "\n",
    "# Definition of left plate\n",
    "\n",
    "left1 = GEO.shapes.HalfSpace(normal=(-0.2870,0.0474,0.9567), origin=(2701.5*u.kilometer,1888.*u.kilometer,-219.*u.kilometer))\n",
    "left2 = GEO.shapes.HalfSpace(normal=(-0.2847,0.1347,0.9491), origin=(2630.5*u.kilometer,1665.*u.kilometer,-219.*u.kilometer))\n",
    "left3 = GEO.shapes.HalfSpace(normal=(-0.2814,0.2028,0.9379), origin=(2498.*u.kilometer,1443.*u.kilometer,-219.*u.kilometer))\n",
    "left4 = GEO.shapes.HalfSpace(normal=(-0.2786,0.2447,0.9287), origin=(2320.5*u.kilometer,1221.*u.kilometer,-219.*u.kilometer))\n",
    "left5 = GEO.shapes.HalfSpace(normal=(-0.2775,0.2600,0.9249), origin=(2119.*u.kilometer,999.*u.kilometer,-219.*u.kilometer))\n",
    "left6 = GEO.shapes.HalfSpace(normal=(-0.2786,0.2447,0.9287), origin=(1917.5*u.kilometer,777.*u.kilometer,-219.*u.kilometer))\n",
    "left7 = GEO.shapes.HalfSpace(normal=(-0.2814,0.2016,0.9382), origin=(1740.5*u.kilometer,555.*u.kilometer,-219.*u.kilometer))\n",
    "left8 = GEO.shapes.HalfSpace(normal=(-0.2848,0.1334,0.9493), origin=(1609.*u.kilometer,333.*u.kilometer,-219.*u.kilometer))\n",
    "left9 = GEO.shapes.HalfSpace(normal=(-0.2827,0.0478,0.9567), origin=(1538.5*u.kilometer,111.*u.kilometer,-219.*u.kilometer))\n",
    "\n",
    "CompositeShape_plate_right1 = left1 & top & right & bottom & slab_before1 & slab_after1\n",
    "CompositeShape_plate_right2 = left2 & top & right & bottom & slab_before2 & slab_after2\n",
    "CompositeShape_plate_right3 = left3 & top & right & bottom & slab_before3 & slab_after3\n",
    "CompositeShape_plate_right4 = left4 & top & right & bottom & slab_before4 & slab_after4\n",
    "CompositeShape_plate_right5 = left5 & top & right & bottom & slab_before5 & slab_after5\n",
    "CompositeShape_plate_right6 = left6 & top & right & bottom & slab_before6 & slab_after6\n",
    "CompositeShape_plate_right7 = left7 & top & right & bottom & slab_before7 & slab_after7\n",
    "CompositeShape_plate_right8 = left8 & top & right & bottom & slab_before8 & slab_after8\n",
    "CompositeShape_plate_right9 = left9 & top & right & bottom & slab_before9 & slab_after9\n",
    "\n",
    "plate_right1 = Model.add_material(name=\"plate_right1\", shape=CompositeShape_plate_right1)\n",
    "plate_right2 = Model.add_material(name=\"plate_right2\", shape=CompositeShape_plate_right2)\n",
    "plate_right3 = Model.add_material(name=\"plate_right3\", shape=CompositeShape_plate_right3)\n",
    "plate_right4 = Model.add_material(name=\"plate_right4\", shape=CompositeShape_plate_right4)\n",
    "plate_right5 = Model.add_material(name=\"plate_right5\", shape=CompositeShape_plate_right5)\n",
    "plate_right6 = Model.add_material(name=\"plate_right6\", shape=CompositeShape_plate_right6)\n",
    "plate_right7 = Model.add_material(name=\"plate_right7\", shape=CompositeShape_plate_right7)\n",
    "plate_right8 = Model.add_material(name=\"plate_right8\", shape=CompositeShape_plate_right8)\n",
    "plate_right9 = Model.add_material(name=\"plate_right9\", shape=CompositeShape_plate_right9)\n",
    "\n",
    "CompositeShape_plate_right = CompositeShape_plate_right1& CompositeShape_plate_right2& CompositeShape_plate_right3& CompositeShape_plate_right4& CompositeShape_plate_right5& CompositeShape_plate_right6& CompositeShape_plate_right7& CompositeShape_plate_right8& CompositeShape_plate_right9\n",
    "plate_right = Model.add_material(name=\"Slab_lithosphere\", shape = CompositeShape_plate_right)\n",
    "\n",
    "\n",
    "\n",
    "# Slab part\n",
    "\n",
    "slableft1 = GEO.shapes.HalfSpace(normal=(-0.2870,0.0474,0.9567), origin=(2581.5*u.kilometer,1888.*u.kilometer,-159.*u.kilometer))\n",
    "slableft2 = GEO.shapes.HalfSpace(normal=(-0.2847,0.1347,0.9491), origin=(2510.5*u.kilometer,1665.*u.kilometer,-159.*u.kilometer))\n",
    "slableft3 = GEO.shapes.HalfSpace(normal=(-0.2814,0.2028,0.9379), origin=(2378.*u.kilometer,1443.*u.kilometer,-159.*u.kilometer))\n",
    "slableft4 = GEO.shapes.HalfSpace(normal=(-0.2786,0.2447,0.9287), origin=(2200.5*u.kilometer,1221.*u.kilometer,-159.*u.kilometer))\n",
    "slableft5 = GEO.shapes.HalfSpace(normal=(-0.2775,0.2600,0.9249), origin=(1999.*u.kilometer,999.*u.kilometer,-159.*u.kilometer))\n",
    "slableft6 = GEO.shapes.HalfSpace(normal=(-0.2786,0.2447,0.9287), origin=(1797.5*u.kilometer,777.*u.kilometer,-159.*u.kilometer))\n",
    "slableft7 = GEO.shapes.HalfSpace(normal=(-0.2814,0.2016,0.9382), origin=(1620.5*u.kilometer,555.*u.kilometer,-159.*u.kilometer))\n",
    "slableft8 = GEO.shapes.HalfSpace(normal=(-0.2848,0.1334,0.9493), origin=(1489.*u.kilometer,333.*u.kilometer,-159.*u.kilometer))\n",
    "slableft9 = GEO.shapes.HalfSpace(normal=(-0.2827,0.0478,0.9567), origin=(1418.5*u.kilometer,111.*u.kilometer,-159.*u.kilometer))\n",
    "\n",
    "\n",
    "slabright1 = GEO.shapes.HalfSpace(normal=(0.2870,-0.0474,-0.9567), origin=(2701.5*u.kilometer,1888.*u.kilometer,-219.*u.kilometer))\n",
    "slabright2 = GEO.shapes.HalfSpace(normal=(0.2847,-0.1347,-0.9491), origin=(2630.5*u.kilometer,1665.*u.kilometer,-219.*u.kilometer))\n",
    "slabright3 = GEO.shapes.HalfSpace(normal=(0.2814,-0.2028,-0.9379), origin=(2498.*u.kilometer,1443.*u.kilometer,-219.*u.kilometer))\n",
    "slabright4 = GEO.shapes.HalfSpace(normal=(0.2786,-0.2447,-0.9287), origin=(2320.5*u.kilometer,1221.*u.kilometer,-219.*u.kilometer))\n",
    "slabright5 = GEO.shapes.HalfSpace(normal=(0.2775,-0.2600,-0.9249), origin=(2119.*u.kilometer,999.*u.kilometer,-219.*u.kilometer))\n",
    "slabright6 = GEO.shapes.HalfSpace(normal=(0.2786,-0.2447,-0.9287), origin=(1917.5*u.kilometer,777.*u.kilometer,-219.*u.kilometer))\n",
    "slabright7 = GEO.shapes.HalfSpace(normal=(0.2814,-0.2016,-0.9382), origin=(1740.5*u.kilometer,555.*u.kilometer,-219.*u.kilometer))\n",
    "slabright8 = GEO.shapes.HalfSpace(normal=(0.2848,-0.1334,-0.9493), origin=(1609.*u.kilometer,333.*u.kilometer,-219.*u.kilometer))\n",
    "slabright9 = GEO.shapes.HalfSpace(normal=(0.2827,-0.0478,-0.9567), origin=(1538.5*u.kilometer,111.*u.kilometer,-219.*u.kilometer))\n",
    "\n",
    "topslab = GEO.shapes.HalfSpace(normal=(0.,0.,1.), origin=(2000.*u.kilometer,1000.*u.kilometer,-9.*u.kilometer))\n",
    "\n",
    "CompositeShape_slab1 = slableft1 & topslab & slab_end1 & slabright1 & slab_before1 & slab_after1\n",
    "CompositeShape_slab2 = slableft2 & topslab & slab_end2 & slabright2 & slab_before2 & slab_after2\n",
    "CompositeShape_slab3 = slableft3 & topslab & slab_end3 & slabright3 & slab_before3 & slab_after3\n",
    "CompositeShape_slab4 = slableft4 & topslab & slab_end4 & slabright4 & slab_before4 & slab_after4\n",
    "CompositeShape_slab5 = slableft5 & topslab & slab_end5 & slabright5 & slab_before5 & slab_after5\n",
    "CompositeShape_slab6 = slableft6 & topslab & slab_end6 & slabright6 & slab_before6 & slab_after6\n",
    "CompositeShape_slab7 = slableft7 & topslab & slab_end7 & slabright7 & slab_before7 & slab_after7\n",
    "CompositeShape_slab8 = slableft8 & topslab & slab_end8 & slabright8 & slab_before8 & slab_after8\n",
    "CompositeShape_slab9 = slableft9 & topslab & slab_end9 & slabright9 & slab_before9 & slab_after9\n",
    "\n",
    "\n",
    "Slab_lithosphere1 = Model.add_material(name=\"Slab_lithosphere1\", shape=CompositeShape_slab1)\n",
    "Slab_lithosphere2 = Model.add_material(name=\"Slab_lithosphere2\", shape=CompositeShape_slab2)\n",
    "Slab_lithosphere3 = Model.add_material(name=\"Slab_lithosphere3\", shape=CompositeShape_slab3)\n",
    "Slab_lithosphere4 = Model.add_material(name=\"Slab_lithosphere4\", shape=CompositeShape_slab4)\n",
    "Slab_lithosphere5 = Model.add_material(name=\"Slab_lithosphere5\", shape=CompositeShape_slab5)\n",
    "Slab_lithosphere6 = Model.add_material(name=\"Slab_lithosphere6\", shape=CompositeShape_slab6)\n",
    "Slab_lithosphere7 = Model.add_material(name=\"Slab_lithosphere7\", shape=CompositeShape_slab7)\n",
    "Slab_lithosphere8 = Model.add_material(name=\"Slab_lithosphere8\", shape=CompositeShape_slab8)\n",
    "Slab_lithosphere9 = Model.add_material(name=\"Slab_lithosphere9\", shape=CompositeShape_slab9)\n",
    "\n",
    "\n",
    "CompositeShape_slab = CompositeShape_slab1& CompositeShape_slab2& CompositeShape_slab3& CompositeShape_slab4& CompositeShape_slab5& CompositeShape_slab6& CompositeShape_slab7& CompositeShape_slab8& CompositeShape_slab9\n",
    "Slab_lithosphere = Model.add_material(name=\"Slab_lithosphere\", shape = CompositeShape_slab)\n",
    "\n",
    "\n",
    "# Forme finale\n",
    "CompositeShape_final = GEO.shapes.MultiShape([CompositeShape_slab, CompositeShape_plate_right])\n",
    "Slab_lithosphere = Model.add_material(name=\"litho\", shape=CompositeShape_final)\n",
    "\n",
    "\n",
    "\n",
    "\n",
    "Fig = glucifer.Figure()\n",
    "Fig.Points(Model.swarm, Model.materialField, cullface=False, opacity=1.)\n",
    "#Fig.Mesh(Model.mesh)\n",
    "viewer = Fig.viewer(resolution=(1200,600))\n",
    "viewer = Fig.viewer(axis=True)\n",
    "viewer.window()\n"
   ]
  },
  {
   "cell_type": "code",
   "execution_count": 7,
   "metadata": {},
   "outputs": [
    {
     "ename": "AttributeError",
     "evalue": "'Model' object has no attribute 'plot'",
     "output_type": "error",
     "traceback": [
      "\u001b[1;31m\u001b[0m",
      "\u001b[1;31mAttributeError\u001b[0mTraceback (most recent call last)",
      "\u001b[1;32m<ipython-input-7-8c35d26b2280>\u001b[0m in \u001b[0;36m<module>\u001b[1;34m()\u001b[0m\n\u001b[1;32m----> 1\u001b[1;33m \u001b[0mFig\u001b[0m \u001b[1;33m=\u001b[0m \u001b[0mModel\u001b[0m\u001b[1;33m.\u001b[0m\u001b[0mplot\u001b[0m\u001b[1;33m.\u001b[0m\u001b[0mmaterialField\u001b[0m\u001b[1;33m(\u001b[0m\u001b[0mscript\u001b[0m\u001b[1;33m=\u001b[0m\u001b[1;33m[\u001b[0m\u001b[1;34m\"rotate z 30\"\u001b[0m\u001b[1;33m,\u001b[0m \u001b[1;34m\"rotate x -60\"\u001b[0m\u001b[1;33m]\u001b[0m\u001b[1;33m,\u001b[0m \u001b[0mfigsize\u001b[0m\u001b[1;33m=\u001b[0m\u001b[1;33m(\u001b[0m\u001b[1;36m900\u001b[0m\u001b[1;33m,\u001b[0m\u001b[1;36m600\u001b[0m\u001b[1;33m)\u001b[0m\u001b[1;33m)\u001b[0m\u001b[1;33m\u001b[0m\u001b[0m\n\u001b[0m",
      "\u001b[1;31mAttributeError\u001b[0m: 'Model' object has no attribute 'plot'"
     ]
    }
   ],
   "source": [
    "Fig = Model.plot.materialField(script=[\"rotate z 30\", \"rotate x -60\"], figsize=(900,600))"
   ]
  },
  {
   "cell_type": "code",
   "execution_count": null,
   "metadata": {},
   "outputs": [],
   "source": [
    "import numpy as np\n",
    "np.unique(Model.materialField.data)"
   ]
  },
  {
   "cell_type": "markdown",
   "metadata": {},
   "source": [
    "## Limiters\n"
   ]
  },
  {
   "cell_type": "code",
   "execution_count": null,
   "metadata": {
    "collapsed": true
   },
   "outputs": [],
   "source": [
    "Model.stressLimiter = 300.0 * u.megapascal\n",
    "Model.maxViscosity = 5.0e23 * u.pascal * u.second\n",
    "Model.minViscosity = 1.0e19 * u.pascal * u.second\n",
    "Model.diffusivity = 1.0e-6 * u.metre**2 / u.second \n",
    "Model.capacity    = 1000. * u.joule / (u.kelvin * u.kilogram)"
   ]
  },
  {
   "cell_type": "markdown",
   "metadata": {},
   "source": [
    "### Material specific definitions\n"
   ]
  },
  {
   "cell_type": "code",
   "execution_count": null,
   "metadata": {
    "collapsed": true
   },
   "outputs": [],
   "source": [
    "# Diffusivity\n",
    "\n",
    "air.diffusivity = 1.0e-6 * u.metre**2 / u.second\n",
    "stickyAir.diffusivity = 1.0e-6 * u.metre**2 / u.second\n",
    "weakZone.diffusivity   = 1.1e-6 * u.metre**2 / u.second\n",
    "lithosphere.diffusivity = 1.1e-6 * u.metre**2 / u.second\n",
    "Slab_lithosphere.diffusivity = 1.1e-6 * u.metre**2 / u.second\n",
    "asthenosphere.diffusivity = 1.1e-6 * u.metre**2 / u.second\n",
    "\n",
    "Model.diffusivity = 1.0e-6 * u.metre**2 / u.second \n",
    "\n",
    "\n",
    "# capacity\n",
    "air.capacity = 100. * u.joule / (u.kelvin * u.kilogram)\n",
    "stickyAir.capacity = 100. * u.joule / (u.kelvin * u.kilogram)\n",
    "Model.capacity    = 1000. * u.joule / (u.kelvin * u.kilogram)"
   ]
  },
  {
   "cell_type": "code",
   "execution_count": null,
   "metadata": {},
   "outputs": [],
   "source": [
    "# Density\n",
    "\n",
    "air.density               = 1. * u.kilogram / u.metre**3\n",
    "stickyAir.density         = 1. * u.kilogram / u.metre**3\n",
    "weakZone.density        = GEO.LinearDensity(2000. * u.kilogram / u.metre**3, thermalExpansivity=3e-5 / u.kelvin)\n",
    "lithosphere.density = GEO.LinearDensity(3300. * u.kilogram / u.metre**3, thermalExpansivity=3e-5 / u.kelvin)\n",
    "Slab_lithosphere.density = GEO.LinearDensity(3300. * u.kilogram / u.metre**3, thermalExpansivity=3e-5 / u.kelvin)\n",
    "asthenosphere.density     = GEO.LinearDensity(3395. * u.kilogram / u.metre**3, thermalExpansivity=3e-5 / u.kelvin)\n"
   ]
  },
  {
   "cell_type": "code",
   "execution_count": null,
   "metadata": {
    "collapsed": true
   },
   "outputs": [],
   "source": [
    "# Radiogenic Heat Production\n",
    "\n",
    "\n",
    "weakZone.radiogenicHeatProd = 0.25 * u.microwatt / u.meter**3 # faccenda 2008: 1-5\n",
    "lithosphere.radiogenicHeatProd = 0.022 * u.microwatt / u.meter**3 # faccenda 2008: 0.022\n",
    "Slab_lithosphere.radiogenicHeatProd = 0.022 * u.microwatt / u.meter**3 # faccenda 2008: 0.022\n",
    "asthenosphere.radiogenicHeatProd = 0.02e-6 * u.microwatt / u.meter**3\n"
   ]
  },
  {
   "cell_type": "markdown",
   "metadata": {},
   "source": [
    "### Viscous Rheologies"
   ]
  },
  {
   "cell_type": "code",
   "execution_count": null,
   "metadata": {},
   "outputs": [],
   "source": [
    "rh = GEO.ViscousCreepRegistry() \n",
    "\n",
    "viscosity = GEO.ViscousCreep()\n",
    "viscosity.activationEnergy = 200. * u.kilojoule\n",
    "\n",
    "air.viscosity                = 1e18 * u.pascal * u.second\n",
    "stickyAir.viscosity          = 1e19 * u.pascal * u.second # or water\n",
    "\n",
    "weakZone.viscosity    = 1.0 * rh.Goetze_et_al_1978\n",
    "weakZone.minViscosity = 1e18 * u.pascal * u.second\n",
    "weakZone.maxViscosity = 5e23 * u.pascal * u.second\n",
    "\n",
    "\n",
    "lithosphere.viscosity    = 1.0 * rh.Brace_and_Kohlstedt_1980 # 5.0 * rh.Karato_and_Wu_1990\n",
    "lithosphere.minViscosity = 1e18 * u.pascal * u.second\n",
    "lithosphere.maxViscosity = 5e23 * u.pascal * u.second\n",
    "\n",
    "Slab_lithosphere.viscosity    = 1.0 * rh.Brace_and_Kohlstedt_1980 # 5.0 * rh.Karato_and_Wu_1990\n",
    "Slab_lithosphere.minViscosity = 1e18 * u.pascal * u.second\n",
    "Slab_lithosphere.maxViscosity = 5e23 * u.pascal * u.second\n",
    "\n",
    "asthenosphere.viscosity    = rh.Brace_and_Kohlstedt_1980 \n",
    "asthenosphere.minViscosity = 1e18 * u.pascal * u.second\n",
    "asthenosphere.maxViscosity = 5e23 * u.pascal * u.second\n",
    "\n",
    "minimumviscosity   = GEO.ConstantViscosity(1e18 * u.pascal * u.second)\n",
    "maximumviscosity   = GEO.ConstantViscosity(5e23 * u.pascal * u.second)\n",
    "\n"
   ]
  },
  {
   "cell_type": "markdown",
   "metadata": {},
   "source": [
    "## Plasticities"
   ]
  },
  {
   "cell_type": "code",
   "execution_count": null,
   "metadata": {
    "collapsed": true
   },
   "outputs": [],
   "source": [
    "pl = GEO.PlasticityRegistry()"
   ]
  },
  {
   "cell_type": "code",
   "execution_count": null,
   "metadata": {},
   "outputs": [],
   "source": [
    "\n",
    "weakZone.plasticity     = pl.Rey_et_al_2010_Mantle\n",
    "weakZone.stressLimiter  = 300 * u.megapascal\n",
    "\n",
    "lithosphere.plasticity     = pl.Rey_et_al_2010_Mantle\n",
    "lithosphere.stressLimiter  = 300 * u.megapascal\n",
    "\n",
    "Slab_lithosphere.plasticity     = pl.Rey_et_al_2010_Mantle\n",
    "Slab_lithosphere.stressLimiter  = 300 * u.megapascal\n",
    "\n",
    "asthenosphere.plasticity     = pl.Rey_et_al_2010_Mantle\n",
    "asthenosphere.stressLimiter  = 380 * u.megapascal # Rey and Muller 2010\n",
    "\n"
   ]
  },
  {
   "cell_type": "code",
   "execution_count": null,
   "metadata": {},
   "outputs": [],
   "source": [
    "#basalticrust.plasticity"
   ]
  },
  {
   "cell_type": "markdown",
   "metadata": {},
   "source": [
    "## Add Temperature Boundary Conditions\n",
    "\n",
    "Temperature is 293.15K at the top and 3570K at the bottom. Temperature is constant in the mantle and the air layers. "
   ]
  },
  {
   "cell_type": "code",
   "execution_count": null,
   "metadata": {},
   "outputs": [],
   "source": [
    "Model.set_temperatureBCs(top=293.15 * u.degK, \n",
    "                         bottom=1603.15 * u.degK, \n",
    "                         indexSets=[(stickyAir.indices, 293.15 * u.degK ),\n",
    "                                    (air.indices, 293.15 * u.degK )]) \n"
   ]
  },
  {
   "cell_type": "markdown",
   "metadata": {},
   "source": [
    "## Add Velocity Boundary Conditions\n",
    "\n",
    "We push on the right side. The back and front wall are freeslip. We use a pseudo isostatic support condition at the bottom."
   ]
  },
  {
   "cell_type": "code",
   "execution_count": null,
   "metadata": {},
   "outputs": [],
   "source": [
    "Model.set_velocityBCs(left=[0., None, None],\n",
    "                      right=[0., None, None],\n",
    "                      back=[None, 0., None],\n",
    "                      front=[None, 0., None],\n",
    "                      bottom=[None, None, 0.],\n",
    "                      top=[None, None, 0.])"
   ]
  },
  {
   "cell_type": "markdown",
   "metadata": {},
   "source": [
    "# Add Passive Tracers "
   ]
  },
  {
   "cell_type": "code",
   "execution_count": null,
   "metadata": {},
   "outputs": [],
   "source": [
    "#help(Model.add_passive_tracers)"
   ]
  },
  {
   "cell_type": "code",
   "execution_count": null,
   "metadata": {},
   "outputs": [],
   "source": [
    "import numpy as np\n",
    "\n",
    "xp = np.linspace(GEO.nd(Model.minCoord[0]), GEO.nd(Model.maxCoord[0]), 100)\n",
    "yp = np.linspace(GEO.nd(Model.minCoord[1]), GEO.nd(Model.maxCoord[1]), 100)\n",
    "\n",
    "xp, yp = np.meshgrid(xp, yp)\n",
    "xp = xp.flatten()\n",
    "yp = yp.flatten()\n",
    "zp = np.zeros(xp.shape)\n",
    "\n",
    "surface_tracers = Model.add_passive_tracers(name=\"Surface2\", vertices=[xp, yp, zp])\n",
    "moho_tracers = Model.add_passive_tracers(name=\"Moho\", vertices=[xp, yp, zp+GEO.nd(asthenosphere.top)])\n"
   ]
  },
  {
   "cell_type": "markdown",
   "metadata": {},
   "source": [
    "# Surface Processes / BADLANDS"
   ]
  },
  {
   "cell_type": "code",
   "execution_count": null,
   "metadata": {},
   "outputs": [],
   "source": [
    "# Model.surfaceProcesses = GEO.surfaceProcesses.Badlands(airIndex=[air.index], sedimentIndex=sediment.index,\n",
    "#                                            XML=\"ressources/badlands.xml\", resolution=1. * u.kilometer, \n",
    "#                                            checkpoint_interval=0.01 * u.megayears)\n",
    "\n",
    "\n",
    "#Model.surfaceProcesses = GEO.surfaceProcesses.SedimentationThreshold(Model.swarm, Model.materialField, air=[air, stickyAir], sediment=[sediment], threshold=0.)"
   ]
  },
  {
   "cell_type": "code",
   "execution_count": 27,
   "metadata": {},
   "outputs": [
    {
     "data": {
      "text/plain": [
       "['CFL',\n",
       " 'alpha',\n",
       " 'default.outputs',\n",
       " 'densityField.SIunits',\n",
       " 'element.type',\n",
       " 'glucifer.outputs',\n",
       " 'gravity',\n",
       " 'initial.nonlinear.max.iterations',\n",
       " 'initial.nonlinear.min.iterations',\n",
       " 'initial.nonlinear.tolerance',\n",
       " 'maximum.timestep',\n",
       " 'maximum.viscosity',\n",
       " 'mesh.variables',\n",
       " 'mg.levels',\n",
       " 'minimum.viscosity',\n",
       " 'model.name',\n",
       " 'nonlinear.max.iterations',\n",
       " 'nonlinear.min.iterations',\n",
       " 'nonlinear.tolerance',\n",
       " 'output.directory',\n",
       " 'penalty',\n",
       " 'popcontrol.aggressive',\n",
       " 'popcontrol.max.splits',\n",
       " 'popcontrol.particles.per.cell.2D',\n",
       " 'popcontrol.particles.per.cell.3D',\n",
       " 'popcontrol.split.threshold',\n",
       " 'pressureField.SIunits',\n",
       " 'projDensityField.SIunits',\n",
       " 'projTimeField.SIunits',\n",
       " 'projViscosityField.SIunits',\n",
       " 'restart.fields',\n",
       " 'rheology.default.lowercrust',\n",
       " 'rheology.default.mantle',\n",
       " 'rheology.default.mantlelithosphere',\n",
       " 'rheology.default.midcrust',\n",
       " 'rheology.default.uppercrust',\n",
       " 'scaling.length',\n",
       " 'scaling.mass',\n",
       " 'scaling.substance',\n",
       " 'scaling.temperature',\n",
       " 'scaling.time',\n",
       " 'solver',\n",
       " 'strainRateField.SIunits',\n",
       " 'swarm.particles.per.cell.2D',\n",
       " 'swarm.particles.per.cell.3D',\n",
       " 'swarm.variables',\n",
       " 'temperature.SIunits',\n",
       " 'time.SIunits',\n",
       " 'useEquationResidual',\n",
       " 'velocityField.SIunits',\n",
       " 'viscosityField.SIunits']"
      ]
     },
     "execution_count": 27,
     "metadata": {},
     "output_type": "execute_result"
    }
   ],
   "source": [
    "GEO.rcParams.keys()"
   ]
  },
  {
   "cell_type": "code",
   "execution_count": 33,
   "metadata": {},
   "outputs": [],
   "source": [
    "GEO.rcParams[\"initial.nonlinear.tolerance\"]=0.02\n",
    "GEO.rcParams[\"nonlinear.tolerance\"]=0.02\n",
    "GEO.rcParams[\"popcontrol.particles.per.cell.3D\"]=60"
   ]
  },
  {
   "cell_type": "code",
   "execution_count": null,
   "metadata": {
    "collapsed": true
   },
   "outputs": [],
   "source": []
  },
  {
   "cell_type": "code",
   "execution_count": null,
   "metadata": {
    "collapsed": true
   },
   "outputs": [],
   "source": [
    "GEO.rcParams[\"solver\"] = \"mg\" # This is the default so that line is technically not needed."
   ]
  },
  {
   "cell_type": "code",
   "execution_count": null,
   "metadata": {},
   "outputs": [],
   "source": [
    "Model.init_model()"
   ]
  },
  {
   "cell_type": "code",
   "execution_count": null,
   "metadata": {},
   "outputs": [],
   "source": [
    "#Fig = Model.plot.temperature(script=[\"rotate z 30\", \"rotate x -60\"], figsize=(900,600))"
   ]
  },
  {
   "cell_type": "code",
   "execution_count": null,
   "metadata": {},
   "outputs": [],
   "source": [
    "#Fig = Model.plot.pressureField(script=[\"rotate z 30\", \"rotate x -60\"], figsize=(900,600))"
   ]
  },
  {
   "cell_type": "code",
   "execution_count": null,
   "metadata": {},
   "outputs": [],
   "source": [
    "#mohoT = Model.temperature.evaluate(moho_tracers.swarm)[:,0].mean() # attention pb parallelisation: Model.temperature.evaluate\n",
    "#print(\"Moho Temperature = \", GEO.Dimensionalize(mohoT, u.degC)) \n",
    "\n",
    "#mohoT = Model.temperature.evaluate_global()"
   ]
  },
  {
   "cell_type": "code",
   "execution_count": null,
   "metadata": {},
   "outputs": [],
   "source": [
    "Model.run_for(20.0 * u.megayears, checkpoint_interval=0.01 * u.megayears)\n"
   ]
  },
  {
   "cell_type": "code",
   "execution_count": null,
   "metadata": {
    "collapsed": true
   },
   "outputs": [],
   "source": []
  }
 ],
 "metadata": {
  "kernelspec": {
   "display_name": "Python 2",
   "language": "python",
   "name": "python2"
  },
  "language_info": {
   "codemirror_mode": {
    "name": "ipython",
    "version": 2
   },
   "file_extension": ".py",
   "mimetype": "text/x-python",
   "name": "python",
   "nbconvert_exporter": "python",
   "pygments_lexer": "ipython2",
   "version": "2.7.13"
  }
 },
 "nbformat": 4,
 "nbformat_minor": 2
}
