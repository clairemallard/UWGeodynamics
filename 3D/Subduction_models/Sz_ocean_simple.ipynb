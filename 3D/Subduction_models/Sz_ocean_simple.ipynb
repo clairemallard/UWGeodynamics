{
 "cells": [
  {
   "cell_type": "markdown",
   "metadata": {},
   "source": [
    "# 3D sz's MODEL"
   ]
  },
  {
   "cell_type": "markdown",
   "metadata": {},
   "source": [
    "- configuration A: (128 x 128 x 64 nodes) 128 CPUS\n",
    "- configuration B: (256 x 256 x 96 nodes) 256 CPUS\n",
    "The user should remove visualisation from the python script before running the model on raijin.\n",
    "In [2]:\n"
   ]
  },
  {
   "cell_type": "code",
   "execution_count": 1,
   "metadata": {},
   "outputs": [
    {
     "name": "stdout",
     "output_type": "stream",
     "text": [
      "loaded rc file /opt/UWGeodynamics/UWGeodynamics/uwgeo-data/uwgeodynamicsrc\n"
     ]
    }
   ],
   "source": [
    "import matplotlib.pyplot as plt\n",
    "import UWGeodynamics as GEO\n",
    "u = GEO.UnitRegistry # u. +tab to see available units or u = GEO.u\n",
    "import glucifer"
   ]
  },
  {
   "cell_type": "code",
   "execution_count": 2,
   "metadata": {},
   "outputs": [],
   "source": [
    "##### Characteristic values of the system\n",
    "\n",
    "half_rate = 1.8 * u.centimeter / u.year # What is it?\n",
    "model_length = 10000e3 * u.meter\n",
    "model_width = 2000e3 * u.meter\n",
    "surfaceTemp = 273.15 * u.degK\n",
    "baseModelTemp = 3570 * u.degK\n",
    "bodyforce = 3300 * u.kilogram / u.metre**3 * 9.81 * u.meter / u.second**2 # ckeck publi schellart\n",
    "\n",
    "KL = model_length # Characteristic length\n",
    "Kt = KL / half_rate # Characteristic time \n",
    "KM = bodyforce * KL**2 * Kt**2 # Characteristic mass\n",
    "KT = (baseModelTemp - surfaceTemp) # Characteristic temperature\n",
    "\n",
    "GEO.scaling_coefficients[\"[length]\"] = KL\n",
    "GEO.scaling_coefficients[\"[time]\"] = Kt\n",
    "GEO.scaling_coefficients[\"[mass]\"]= KM\n",
    "GEO.scaling_coefficients[\"[temperature]\"] = KT\n"
   ]
  },
  {
   "cell_type": "code",
   "execution_count": null,
   "metadata": {},
   "outputs": [],
   "source": [
    "## definition of central object: define the geometry of the problem: container for the field variables\n",
    "\n",
    "Model = GEO.Model(elementRes=(256, 256, 96), \n",
    "                  minCoord=(0. * u.kilometer, -0. * u.kilometer, -2880. * u.kilometer), \n",
    "                  maxCoord=(10000. * u.kilometer, 2000. * u.kilometer, 20. * u.kilometer), \n",
    "                  gravity=(0.0 ,0.0, -9.81 * u.meter / u.second**2))\n",
    "\n",
    "# Fig = glucifer.Figure()\n",
    "# Fig.Surface(Model.mesh, Model.projMaterialField, cullface=False, opacity=1)\n",
    "# viewer = Fig.viewer(resolution=(600,300))\n",
    "# viewer.window()\n"
   ]
  },
  {
   "cell_type": "markdown",
   "metadata": {},
   "source": [
    "## Output"
   ]
  },
  {
   "cell_type": "code",
   "execution_count": null,
   "metadata": {},
   "outputs": [],
   "source": [
    "Model.outputDir=\"3D_sz_ocean_strainini\""
   ]
  },
  {
   "cell_type": "markdown",
   "metadata": {},
   "source": [
    "## Define Materials\n",
    "The model has initially 4 materials (air, crust, mantle lithosphere and mantle). We add a fifth material for the sediment. Sediment will only appear if surface processes are turned on...(and if there is sedimentation of course)"
   ]
  },
  {
   "cell_type": "code",
   "execution_count": null,
   "metadata": {
    "scrolled": true
   },
   "outputs": [],
   "source": [
    "## Definition of materials\n",
    "\n",
    "air               = Model.add_material(name=\"Air\", shape=GEO.shapes.Layer3D(top=Model.top, bottom=2.0 * u.kilometer))\n",
    "stickyAir         = Model.add_material(name=\"StickyAir\", shape=GEO.shapes.Layer3D(top=air.bottom, bottom= 0.0 * u.kilometer))\n",
    "basalticrust        = Model.add_material(name=\"basalticrust\", shape=GEO.shapes.Layer3D(top=stickyAir.bottom, bottom=-15.0 * u.kilometer))\n",
    "lithosphere          = Model.add_material(name=\"lithosphere\", shape=GEO.shapes.Layer3D(top=basalticrust.bottom * u.kilometer, bottom=-120.0 * u.kilometer))\n",
    "asthenosphere = Model.add_material(name=\"asthenosphere\", shape=GEO.shapes.Layer3D(top=lithosphere.bottom * u.kilometer, bottom=-660.0 * u.kilometer))\n",
    "mantle            = Model.add_material(name=\"Mantle\", shape=GEO.shapes.Layer3D(top=asthenosphere.bottom, bottom=Model.bottom))\n",
    "#sediment          = Model.add_material(name=\"Sediment\")\n",
    "\n",
    "\n",
    "## Definition of slab shape with 1 layer and 1 halfspace (print on previous layers)\n",
    "\n",
    "slabLayer_basalticrust = GEO.shapes.Layer3D(top=-0.*u.kilometer, bottom=-15.*u.kilometer)\n",
    "slopeSlab = GEO.shapes.HalfSpace(normal=(-1.,0.,1.), origin=(5000.*u.kilometer,1000.*u.kilometer,-0.*u.kilometer))\n",
    "CompositeShape_bc = slopeSlab & slabLayer_basalticrust \n",
    "Slab_basalticrust = Model.add_material(name=\"Slab_basalticcrust\", shape=CompositeShape_bc)\n",
    "\n",
    "slabLayer_lithosphere = GEO.shapes.Layer3D(top=-15.*u.kilometer, bottom=-120.*u.kilometer)\n",
    "#slopeSlab_lithosphere = GEO.shapes.HalfSpace(normal=(-1.,0.,1.), origin=(5000.*u.kilometer,1000.*u.kilometer,-2000.*u.kilometer))\n",
    "CompositeShape_litho = slopeSlab & slabLayer_lithosphere \n",
    "Slab_lithosphere = Model.add_material(name=\"Slab_lithosphere\", shape=CompositeShape_litho)\n",
    "\n",
    "\n",
    "# Fig = glucifer.Figure()\n",
    "# Fig.Surface(Model.mesh, Model.projMaterialField, cullface=False, opacity=0.70)\n",
    "# viewer = Fig.viewer(resolution=(1200,600))\n",
    "# viewer = Fig.viewer(axis=True)\n",
    "# viewer.window()\n",
    "\n",
    "# Model_MaterialField=(Model.projMaterialField)\n"
   ]
  },
  {
   "cell_type": "markdown",
   "metadata": {},
   "source": [
    "## Limiters\n"
   ]
  },
  {
   "cell_type": "code",
   "execution_count": 16,
   "metadata": {
    "collapsed": true
   },
   "outputs": [],
   "source": [
    "Model.stressLimiter = 300.0 * u.megapascal\n",
    "Model.maxViscosity = 5.0e23 * u.pascal * u.second\n",
    "Model.minViscosity = 1.0e19 * u.pascal * u.second\n",
    "Model.diffusivity = 1.0e-6 * u.metre**2 / u.second \n",
    "Model.capacity    = 1000. * u.joule / (u.kelvin * u.kilogram)"
   ]
  },
  {
   "cell_type": "markdown",
   "metadata": {},
   "source": [
    "### Material specific definitions\n"
   ]
  },
  {
   "cell_type": "code",
   "execution_count": 17,
   "metadata": {
    "collapsed": true
   },
   "outputs": [],
   "source": [
    "# Diffusivity\n",
    "\n",
    "air.diffusivity = 1.0e-6 * u.metre**2 / u.second\n",
    "stickyAir.diffusivity = 1.0e-6 * u.metre**2 / u.second\n",
    "basalticrust.diffusivity = 1.1e-6 * u.metre**2 / u.second\n",
    "Slab_basalticrust.diffusivity   = 1.1e-6 * u.metre**2 / u.second\n",
    "lithosphere.diffusivity = 1.1e-6 * u.metre**2 / u.second\n",
    "Slab_lithosphere.diffusivity = 1.1e-6 * u.metre**2 / u.second\n",
    "asthenosphere.diffusivity = 1.1e-6 * u.metre**2 / u.second\n",
    "mantle.diffusivity = 1.1e-6 * u.metre**2 / u.second\n",
    "\n",
    "Model.diffusivity = 1.0e-6 * u.metre**2 / u.second \n",
    "\n",
    "\n",
    "# capacity\n",
    "air.capacity = 100. * u.joule / (u.kelvin * u.kilogram)\n",
    "stickyAir.capacity = 100. * u.joule / (u.kelvin * u.kilogram)\n",
    "\n",
    "Model.capacity    = 1000. * u.joule / (u.kelvin * u.kilogram)"
   ]
  },
  {
   "cell_type": "code",
   "execution_count": 18,
   "metadata": {},
   "outputs": [],
   "source": [
    "# Density\n",
    "\n",
    "#sediment.density          = GEO.LinearDensity(reference_density=2200. * u.kilogram / u.metre**3)\n",
    "air.density               = 1. * u.kilogram / u.metre**3\n",
    "stickyAir.density         = 1. * u.kilogram / u.metre**3\n",
    "basalticrust.density        = GEO.LinearDensity(2400. * u.kilogram / u.metre**3, thermalExpansivity=3e-5 / u.kelvin)\n",
    "Slab_basalticrust.density        = GEO.LinearDensity(2400. * u.kilogram / u.metre**3, thermalExpansivity=3e-5 / u.kelvin)\n",
    "#midcrust.density          = GEO.LinearDensity(2620. * u.kilogram / u.metre**3, thermalExpansivity=3e-5 / u.kelvin)\n",
    "#lowercrust.density        = GEO.LinearDensity(2720. * u.kilogram / u.metre**3, thermalExpansivity=3e-5 / u.kelvin)\n",
    "lithosphere.density = GEO.LinearDensity(3370. * u.kilogram / u.metre**3, thermalExpansivity=3e-5 / u.kelvin)\n",
    "Slab_lithosphere.density = GEO.LinearDensity(3370. * u.kilogram / u.metre**3, thermalExpansivity=3e-5 / u.kelvin)\n",
    "\n",
    "asthenosphere.density     = GEO.LinearDensity(3395. * u.kilogram / u.metre**3, thermalExpansivity=3e-5 / u.kelvin)\n",
    "mantle.density            = GEO.LinearDensity(4000. * u.kilogram / u.metre**3, thermalExpansivity=3e-5 / u.kelvin)\n"
   ]
  },
  {
   "cell_type": "code",
   "execution_count": 19,
   "metadata": {
    "collapsed": true
   },
   "outputs": [],
   "source": [
    "# Radiogenic Heat Production\n",
    "\n",
    "#sediment.radiogenicHeatProd   = 0.60 * u.microwatt / u.meter**3 # faccenda 2008: 1-5\n",
    "basalticrust.radiogenicHeatProd = 0.70 * u.microwatt / u.meter**3 # faccenda 2008: 1-5\n",
    "Slab_basalticrust.radiogenicHeatProd = 0.70 * u.microwatt / u.meter**3 # faccenda 2008: 1-5\n",
    "#midcrust.radiogenicHeatProd   = 0.40 * u.microwatt / u.meter**3 # faccenda 2008: 1-5\n",
    "#lowercrust.radiogenicHeatProd = 0.30 * u.microwatt / u.meter**3 # faccenda 2008: 0.25, ocenic crust:0,25\n",
    "lithosphere.radiogenicHeatProd = 0.01358 * u.microwatt / u.meter**3 # faccenda 2008: 0.022\n",
    "Slab_lithosphere.radiogenicHeatProd = 0.01358 * u.microwatt / u.meter**3 # faccenda 2008: 0.022\n",
    "\n",
    "asthenosphere.radiogenicHeatProd = 0.02e-6 * u.microwatt / u.meter**3\n",
    "mantle.radiogenicHeatProd = 0.02e-6 * u.microwatt / u.meter**3"
   ]
  },
  {
   "cell_type": "markdown",
   "metadata": {},
   "source": [
    "### Viscous Rheologies"
   ]
  },
  {
   "cell_type": "code",
   "execution_count": 20,
   "metadata": {},
   "outputs": [],
   "source": [
    "rh = GEO.ViscousCreepRegistry() \n",
    "\n",
    "viscosity = GEO.ViscousCreep()\n",
    "viscosity.activationEnergy = 200. * u.kilojoule\n",
    "\n",
    "air.viscosity                = 1e18 * u.pascal * u.second\n",
    "stickyAir.viscosity          = 1e19 * u.pascal * u.second\n",
    "\n",
    "# sediment.viscosity           = rh.Kronenberg_et_al_1984 # rh.Gleason_and_Tullis_1995\n",
    "# sediment.minViscosity        = 1e18 * u.pascal * u.second\n",
    "# sediment.maxViscosity        = 5e23 * u.pascal * u.second\n",
    "\n",
    "basalticrust.viscosity    = 1.0 * rh.Goetze_et_al_1978\n",
    "basalticrust.minViscosity = 1e18 * u.pascal * u.second\n",
    "basalticrust.maxViscosity = 5e23 * u.pascal * u.second\n",
    "Slab_basalticrust.viscosity    = 1.0 * rh.Goetze_et_al_1978\n",
    "Slab_basalticrust.minViscosity = 1e18 * u.pascal * u.second\n",
    "Slab_basalticrust.maxViscosity = 5e23 * u.pascal * u.second\n",
    "\n",
    "\n",
    "\n",
    "# midcrust.viscosity    = 1.0 * rh.Gleason_and_Tullis_1995\n",
    "# midcrust.minViscosity = 1e18 * u.pascal * u.second\n",
    "# midcrust.maxViscosity = 5e23 * u.pascal * u.second\n",
    "\n",
    "# lowercrust.viscosity    = 1.0 * rh.Wang_et_al_2012\n",
    "# lowercrust.minViscosity = 1e18 * u.pascal * u.second\n",
    "# lowercrust.maxViscosity = 5e23 * u.pascal * u.second\n",
    "\n",
    "lithosphere.viscosity    = 1.0 * rh.Brace_and_Kohlstedt_1980 # 5.0 * rh.Karato_and_Wu_1990\n",
    "lithosphere.minViscosity = 1e18 * u.pascal * u.second\n",
    "lithosphere.maxViscosity = 5e23 * u.pascal * u.second\n",
    "Slab_lithosphere.viscosity    = 1.0 * rh.Brace_and_Kohlstedt_1980 # 5.0 * rh.Karato_and_Wu_1990\n",
    "Slab_lithosphere.minViscosity = 1e18 * u.pascal * u.second\n",
    "Slab_lithosphere.maxViscosity = 5e23 * u.pascal * u.second\n",
    "\n",
    "\n",
    "asthenosphere.viscosity    = rh.Brace_and_Kohlstedt_1980 \n",
    "asthenosphere.minViscosity = 1e18 * u.pascal * u.second\n",
    "asthenosphere.maxViscosity = 5e23 * u.pascal * u.second\n",
    "\n",
    "mantle.viscosity    = rh.Brace_and_Kohlstedt_1980 # 1.0 * rh.Karato_and_Wu_1990\n",
    "mantle.minViscosity = 1e18 * u.pascal * u.second\n",
    "mantle.maxViscosity = 5e23 * u.pascal * u.second\n",
    "\n",
    "minimumviscosity   = GEO.ConstantViscosity(1e18 * u.pascal * u.second)\n",
    "maximumviscosity   = GEO.ConstantViscosity(5e23 * u.pascal * u.second)\n",
    "\n",
    "# rh.Gleason_and_Tullis_1995\n"
   ]
  },
  {
   "cell_type": "markdown",
   "metadata": {},
   "source": [
    "## Plasticities"
   ]
  },
  {
   "cell_type": "code",
   "execution_count": 21,
   "metadata": {
    "collapsed": true
   },
   "outputs": [],
   "source": [
    "pl = GEO.PlasticityRegistry()"
   ]
  },
  {
   "cell_type": "code",
   "execution_count": 23,
   "metadata": {},
   "outputs": [],
   "source": [
    "# sediment.plasticity     = pl.Rey_et_al_2010_UpperCrust\n",
    "# sediment.plasticity.frictionCoefficient = 0.268\n",
    "# sediment.plasticity.frictionAfterSoftening = 0.01\n",
    "# sediment.plasticity.epsilon2 = 0.10\n",
    "# sediment.stressLimiter  = 20 * u.megapascal\n",
    "\n",
    "basalticrust.plasticity     = pl.Rey_et_al_2010_UpperCrust\n",
    "basalticrust.plasticity.frictionCoefficient = 0.268\n",
    "basalticrust.plasticity.frictionAfterSoftening = 0.03\n",
    "basalticrust.plasticity.epsilon2 = 0.15\n",
    "basalticrust.stressLimiter  = 100 * u.megapascal\n",
    "\n",
    "Slab_basalticrust.plasticity     = pl.Rey_et_al_2010_UpperCrust\n",
    "Slab_basalticrust.plasticity.frictionCoefficient = 0.268\n",
    "Slab_basalticrust.plasticity.frictionAfterSoftening = 0.03\n",
    "Slab_basalticrust.plasticity.epsilon2 = 0.15\n",
    "Slab_basalticrust.stressLimiter  = 100 * u.megapascal\n",
    "\n",
    "\n",
    "# midcrust.plasticity     = pl.Rey_et_al_2010_UpperCrust\n",
    "# midcrust.plasticity.frictionCoefficient = 0.268\n",
    "# midcrust.plasticity.frictionAfterSoftening = 0.07\n",
    "# midcrust.stressLimiter  = 120 * u.megapascal\n",
    "\n",
    "# lowercrust.plasticity     = pl.Rey_et_al_2010_LowerCrust\n",
    "# lowercrust.stressLimiter  = 150 * u.megapascal\n",
    "\n",
    "lithosphere.plasticity     = pl.Rey_et_al_2010_Mantle\n",
    "lithosphere.stressLimiter  = 300 * u.megapascal\n",
    "\n",
    "Slab_lithosphere.plasticity     = pl.Rey_et_al_2010_Mantle\n",
    "Slab_lithosphere.stressLimiter  = 300 * u.megapascal\n",
    "\n",
    "asthenosphere.plasticity     = pl.Rey_et_al_2010_Mantle\n",
    "asthenosphere.stressLimiter  = 300 * u.megapascal\n",
    "\n",
    "mantle.plasticity             = pl.Rey_et_al_2010_Mantle\n",
    "\n",
    "# or\n",
    "\n",
    "# mantle.plasticity = GEO.DruckerPrager(\n",
    "#    cohesion=20.*u.megapascal,\n",
    "#    cohesionAfterSoftening=20.*u.megapascal,\n",
    "#    frictionCoefficient=0.12,\n",
    "#    frictionAfterSoftening=0.02,\n",
    "#    epsilon1=0.01, epsilon2=1.0)\n",
    "\n",
    "\n",
    "#pl.Rey_et_al_2010_UpperCrust\n"
   ]
  },
  {
   "cell_type": "code",
   "execution_count": 24,
   "metadata": {},
   "outputs": [],
   "source": [
    "#uppercrust #uppercrust.plasticity"
   ]
  },
  {
   "cell_type": "markdown",
   "metadata": {},
   "source": [
    "## Partial Melting"
   ]
  },
  {
   "cell_type": "code",
   "execution_count": 25,
   "metadata": {
    "collapsed": true
   },
   "outputs": [],
   "source": [
    "solidii = GEO.SolidusRegistry()\n",
    "crust_solidus = solidii.Crustal_Solidus\n",
    "mantle_solidus = solidii.Mantle_Solidus\n",
    "\n",
    "\n",
    "liquidii = GEO.LiquidusRegistry()\n",
    "crust_liquidus = liquidii.Crustal_Liquidus\n",
    "mantle_liquidus = liquidii.Mantle_Liquidus\n",
    "\n",
    "\n",
    "# In our experiments, the viscosity decreases linearly by 3 orders of magnitude \n",
    "#when the melt fraction increases from 15 to 30%. When the melt fraction is 15%, \n",
    "#the viscosity of the melted crust is that of the non-melted surrounding; \n",
    "#when the melt fraction is 30%, its viscosity is a thousand times lower than in surrounding material. \n",
    "#Rosenberg and Handy (2005) showed that significant weakening occurs at 7% melt fraction.\n",
    "\n",
    "basalticrust.add_melt_modifier(crust_solidus, crust_liquidus, \n",
    "                         latentHeatFusion=250.0 * u.kilojoules / u.kilogram / u.kelvin,\n",
    "                         meltFraction=0.,\n",
    "                         meltFractionLimit=0.3,\n",
    "                         meltExpansion=0.13, \n",
    "                         viscosityChangeX1 = 0.15,\n",
    "                         viscosityChangeX2 = 0.30,\n",
    "                         viscosityChange = -1.0e3\n",
    "                        )\n",
    "\n",
    "Slab_basalticrust.add_melt_modifier(crust_solidus, crust_liquidus, \n",
    "                         latentHeatFusion=250.0 * u.kilojoules / u.kilogram / u.kelvin,\n",
    "                         meltFraction=0.,\n",
    "                         meltFractionLimit=0.3,\n",
    "                         meltExpansion=0.13, \n",
    "                         viscosityChangeX1 = 0.15,\n",
    "                         viscosityChangeX2 = 0.30,\n",
    "                         viscosityChange = -1.0e3\n",
    "                        )\n",
    "\n",
    "# midcrust.add_melt_modifier(crust_solidus, crust_liquidus, \n",
    "#                          latentHeatFusion=250.0 * u.kilojoules / u.kilogram / u.kelvin,\n",
    "#                          meltFraction=0.,\n",
    "#                          meltFractionLimit=0.3,\n",
    "#                          meltExpansion=0.13, \n",
    "#                          viscosityChangeX1 = 0.15,\n",
    "#                          viscosityChangeX2 = 0.30,\n",
    "#                          viscosityChange = -1.0e3\n",
    "#                         ) \n",
    "# lowercrust.add_melt_modifier(crust_solidus, crust_liquidus, \n",
    "#                          latentHeatFusion=250.0 * u.kilojoules / u.kilogram / u.kelvin,\n",
    "#                          meltFraction=0.,\n",
    "#                          meltFractionLimit=0.3,\n",
    "#                          meltExpansion=0.13, \n",
    "#                          viscosityChangeX1 = 0.15,\n",
    "#                          viscosityChangeX2 = 0.30,\n",
    "#                          viscosityChange = -1.0e3\n",
    "#                         ) \n",
    "\n",
    "lithosphere.add_melt_modifier(mantle_solidus, mantle_liquidus, \n",
    "                         latentHeatFusion=450.0 * u.kilojoules / u.kilogram / u.kelvin,\n",
    "                         meltFraction=0.,\n",
    "                         meltFractionLimit=0.08,\n",
    "                         meltExpansion=0.16, \n",
    "                         viscosityChangeX1 = 0.00,\n",
    "                         viscosityChangeX2 = 0.08,\n",
    "                         viscosityChange = -1.0e2\n",
    "                        ) \n",
    "\n",
    "Slab_lithosphere.add_melt_modifier(mantle_solidus, mantle_liquidus, \n",
    "                         latentHeatFusion=450.0 * u.kilojoules / u.kilogram / u.kelvin,\n",
    "                         meltFraction=0.,\n",
    "                         meltFractionLimit=0.08,\n",
    "                         meltExpansion=0.16, \n",
    "                         viscosityChangeX1 = 0.00,\n",
    "                         viscosityChangeX2 = 0.08,\n",
    "                         viscosityChange = -1.0e2\n",
    "                        ) \n",
    "\n",
    "asthenosphere.add_melt_modifier(mantle_solidus, mantle_liquidus, \n",
    "                         latentHeatFusion=450.0 * u.kilojoules / u.kilogram / u.kelvin,\n",
    "                         meltFraction=0.,\n",
    "                         meltFractionLimit=0.08,\n",
    "                         meltExpansion=0.16, \n",
    "                         viscosityChangeX1 = 0.00,\n",
    "                         viscosityChangeX2 = 0.08,\n",
    "                         viscosityChange = -1.0e2\n",
    "                        ) \n",
    "\n",
    "mantle.add_melt_modifier(mantle_solidus, mantle_liquidus, \n",
    "                         latentHeatFusion=450.0 * u.kilojoules / u.kilogram / u.kelvin,\n",
    "                         meltFraction=0.,\n",
    "                         meltFractionLimit=0.08,\n",
    "                         meltExpansion=0.16, \n",
    "                         viscosityChangeX1 = 0.00,\n",
    "                         viscosityChangeX2 = 0.08,\n",
    "                         viscosityChange = -1.0e2\n",
    "                        ) \n"
   ]
  },
  {
   "cell_type": "markdown",
   "metadata": {},
   "source": [
    "## Add Temperature Boundary Conditions\n",
    "\n",
    "Temperature is 293.15K at the top and 3570K at the bottom. Temperature is constant in the mantle and the air layers. "
   ]
  },
  {
   "cell_type": "code",
   "execution_count": 27,
   "metadata": {},
   "outputs": [
    {
     "data": {
      "text/plain": [
       "[<underworld.conditions._conditions.DirichletCondition at 0x7f8e9fa59450>]"
      ]
     },
     "execution_count": 27,
     "metadata": {},
     "output_type": "execute_result"
    }
   ],
   "source": [
    "Model.set_temperatureBCs(top=293.15 * u.degK, \n",
    "                         bottom=3570. * u.degK, \n",
    "                         indexSets=[(mantle.indices, 3570. * u.degK),\n",
    "                                    (stickyAir.indices, 293.15 * u.degK ),\n",
    "                                    (air.indices, 293.15 * u.degK )]) \n",
    "\n",
    "#materials=[(air, 293.15 * u.degK),(stickyAir, 293.15 * u.degK), (asthenosphere.indices, 1603.15 * u.degK), (mantle.indices, 3570 * u.degK)])  #"
   ]
  },
  {
   "cell_type": "markdown",
   "metadata": {},
   "source": [
    "## Add Velocity Boundary Conditions\n",
    "\n",
    "We push on the right side. The back and front wall are freeslip. We use a pseudo isostatic support condition at the bottom."
   ]
  },
  {
   "cell_type": "code",
   "execution_count": 28,
   "metadata": {},
   "outputs": [
    {
     "data": {
      "text/plain": [
       "[<underworld.conditions._conditions.DirichletCondition at 0x7f8e9135f310>]"
      ]
     },
     "execution_count": 28,
     "metadata": {},
     "output_type": "execute_result"
    }
   ],
   "source": [
    "Model.set_velocityBCs(left=[0. * u.centimeter / u.year, None, None],\n",
    "                      right=[-2.8 * u.centimeter / u.year, None, None],\n",
    "                      back=[None, 0., None],\n",
    "                      front=[None, 0., None],\n",
    "                      bottom=GEO.LecodeIsostasy(reference_mat=mantle.index, average=False))\n",
    "\n"
   ]
  },
  {
   "cell_type": "markdown",
   "metadata": {},
   "source": [
    "## Add Initial Damage with Plastic Strain\n",
    "An ellipsoidal shape with random damage is used to seed plastic deformation."
   ]
  },
  {
   "cell_type": "code",
   "execution_count": 29,
   "metadata": {},
   "outputs": [],
   "source": [
    "import numpy as np\n",
    "\n",
    "def gaussian(xx, centre, width):\n",
    "    return ( np.exp( -(xx - centre)**2 / width ))\n",
    "\n",
    "# maxDamage = 0.7\n",
    "# Model.plasticStrain.data[:] = maxDamage * np.random.rand(*Model.plasticStrain.data.shape[:])\n",
    "# Model.plasticStrain.data[:,0] *= gaussian(Model.swarm.particleCoordinates.data[:,0], (GEO.nd(Model.maxCoord[0] - Model.minCoord[0])) / 2.0, GEO.nd(100.0 * u.kilometer))\n",
    "# Model.plasticStrain.data[:,0] *= gaussian(Model.swarm.particleCoordinates.data[:,1], GEO.nd(-5. * u.kilometer) , GEO.nd(1.0 * u.kilometer))\n",
    "\n",
    "maxDamage = 0.5\n",
    "Model.plasticStrain.data[:] = maxDamage * np.random.rand(*Model.plasticStrain.data.shape[:])\n",
    "Model.plasticStrain.data[:,0] *= gaussian(Model.swarm.particleCoordinates.data[:,0], (GEO.nd(Model.maxCoord[0] - Model.minCoord[0])) / 2.0, GEO.nd(10.0 * u.kilometer))\n",
    "Model.plasticStrain.data[:,0] *= gaussian(Model.swarm.particleCoordinates.data[:,1], GEO.nd(-10. * u.kilometer) , GEO.nd(2.0 * u.kilometer))\n",
    "\n",
    "# maxDamage = 0.25\n",
    "# Model.plasticStrain.data[:] = maxDamage * np.random.rand(*Model.plasticStrain.data.shape[:])\n",
    "# Model.plasticStrain.data[:,0] *= gaussian(Model.swarm.particleCoordinates.data[:,0], (GEO.nd(Model.maxCoord[0] - Model.minCoord[0])) / 2.0, GEO.nd(5.0 * u.kilometer))\n",
    "# Model.plasticStrain.data[:,0] *= gaussian(Model.swarm.particleCoordinates.data[:,1], (GEO.nd(Model.maxCoord[1] - Model.minCoord[1])) / 2.0, GEO.nd(10.0 * u.kilometer))\n",
    "# Model.plasticStrain.data[:,0] *= gaussian(Model.swarm.particleCoordinates.data[:,2], GEO.nd(-40. * u.kilometer) , GEO.nd(5.0 * u.kilometer))\n",
    "\n",
    "# maxDamage = 0.5\n",
    "# Model.plasticStrain.data[:] = maxDamage * np.random.rand(*Model.plasticStrain.data.shape[:])\n",
    "# Model.plasticStrain.data[:,0] *= gaussian(Model.swarm.particleCoordinates.data[:,0], (GEO.nd(Model.maxCoord[0] - Model.minCoord[0])) / 2.0, GEO.nd(5.0 * u.kilometer))\n",
    "# Model.plasticStrain.data[:,0] *= gaussian(Model.swarm.particleCoordinates.data[:,1], (GEO.nd(Model.maxCoord[1] - Model.minCoord[1])) / 2.0, GEO.nd(10.0 * u.kilometer))\n",
    "# Model.plasticStrain.data[:,0] *= gaussian(Model.swarm.particleCoordinates.data[:,2], GEO.nd(-40. * u.kilometer) , GEO.nd(5.0 * u.kilometer))\n",
    "\n",
    "#Fig = Model.plot.plastic_strain(script=[\"rotate z 30\", \"rotate x -60\"], projected=True, figsize=(900,600))"
   ]
  },
  {
   "cell_type": "markdown",
   "metadata": {},
   "source": [
    "# Plastic Strain Enveloppe\n",
    "\n",
    "This is to create a buffer zone close to the left and right boundaries where plastic strain is not allowed to accumulate. You can comment the following cell if you think it is not needed."
   ]
  },
  {
   "cell_type": "code",
   "execution_count": 30,
   "metadata": {
    "collapsed": true
   },
   "outputs": [],
   "source": [
    "import underworld.function as fn\n",
    "\n",
    "def post_hook():\n",
    "    coords = fn.input()\n",
    "    zz = coords[0] / (GEO.nd(Model.maxCoord[0]) - GEO.nd(Model.minCoord[0]))\n",
    "    fact = fn.math.pow(fn.math.tanh(zz*20.0) + fn.math.tanh((1.0-zz)*20.0) - fn.math.tanh(20.0), 4)\n",
    "    Model.plasticStrain.data[:] = Model.plasticStrain.data[:] * fact.evaluate(Model.swarm)\n",
    "\n",
    "Model.postSolveHook = post_hook"
   ]
  },
  {
   "cell_type": "markdown",
   "metadata": {},
   "source": [
    "# Add Passive Tracers "
   ]
  },
  {
   "cell_type": "code",
   "execution_count": 31,
   "metadata": {},
   "outputs": [],
   "source": [
    "#help(Model.add_passive_tracers)"
   ]
  },
  {
   "cell_type": "code",
   "execution_count": 33,
   "metadata": {},
   "outputs": [
    {
     "name": "stdout",
     "output_type": "stream",
     "text": [
      "Surface2 tracers exists already\n"
     ]
    }
   ],
   "source": [
    "import numpy as np\n",
    "\n",
    "xp = np.linspace(GEO.nd(Model.minCoord[0]), GEO.nd(Model.maxCoord[0]), 100)\n",
    "yp = np.linspace(GEO.nd(Model.minCoord[1]), GEO.nd(Model.maxCoord[1]), 100)\n",
    "\n",
    "xp, yp = np.meshgrid(xp, yp)\n",
    "xp = xp.flatten()\n",
    "yp = yp.flatten()\n",
    "zp = np.zeros(xp.shape)\n",
    "\n",
    "surface_tracers = Model.add_passive_tracers(name=\"Surface2\", vertices=[xp, yp, zp])\n",
    "moho_tracers = Model.add_passive_tracers(name=\"Moho\", vertices=[xp, yp, zp+GEO.nd(asthenosphere.top)])\n",
    "#moho_tracers = Model.add_passive_tracers(name=\"Moho\", vertices=[x,y-40.*u.kilometer])\n",
    "#moho_tracers.add_tracked_field(Model.pressureField, name=\"Pressure\" , dataType=\"float\", units=u.megapascal, count=1, overwrite=True)\n",
    "#surface_tracers.add_tracked_field(Model.pressureField, name=\"Pressure\" , dataType=\"float\", units=u.megapascal, count=1, overwrite=True)\n",
    "\n",
    "#print moho_tracers\n",
    "#print surface_tracers"
   ]
  },
  {
   "cell_type": "markdown",
   "metadata": {},
   "source": [
    "import numpy as np\n",
    "\n",
    "x2 = np.linspace(Model.minCoord[0], Model.maxCoord[0], 1000) * u.kilometer\n",
    "y2 = np.linspace(Model.minCoord[0], Model.maxCoord[0], 1000) * u.kilometer\n",
    "x2, y2 = np.meshgrid(xp, yp)\n",
    "x2 = x2.flatten()\n",
    "y2 = y2.flatten()\n",
    "z2 = -80. * u.kilometer\n",
    "\n",
    "level_tracers = Model.add_passive_tracers(name=\"Level\", vertices=[x2,y2,z2])\n",
    "level_tracers2 = Model.level_tracers.add_tracked_field(Model.strainRateField, name=\"Lev_StrainRate\", dataType=\"float\", units=u.sec, count=1, overwrite=True)"
   ]
  },
  {
   "cell_type": "markdown",
   "metadata": {},
   "source": [
    "# Add ellipses"
   ]
  },
  {
   "cell_type": "markdown",
   "metadata": {},
   "source": [
    "x_c, y_c, z_c = GEO.circles_grid(radius=2.0*u.kilometer, \n",
    "                    minCoord=[0. * u.kilometer, 0. * u.kilometer, lowercrust.bottom], \n",
    "                    maxCoord=[10000. * u.kilometer, 2000. * u.kilometer, uppercrust.top])\n",
    "circles_c = Model.add_passive_tracers(name=\"FSE_Crust\", vertices=[x_c, y_c, z_c])"
   ]
  },
  {
   "cell_type": "markdown",
   "metadata": {},
   "source": [
    "# Initial model"
   ]
  },
  {
   "cell_type": "code",
   "execution_count": 34,
   "metadata": {},
   "outputs": [],
   "source": [
    "# import glucifer\n",
    "# Fig = glucifer.Figure(figsize=(1200,400))\n",
    "# Fig.Points(surface_tracers.swarm, pointSize=2.0)\n",
    "# Fig.Points(moho_tracers.swarm, pointSize=2.0)\n",
    "# #Fig.Points(circles_c.swarm, pointSize=1.5)\n",
    "# Fig.Points(Model.swarm, Model.materialField, fn_size=2.0)\n",
    "# Fig.show()\n"
   ]
  },
  {
   "cell_type": "code",
   "execution_count": 35,
   "metadata": {},
   "outputs": [],
   "source": [
    "# import numpy as np\n",
    "# x2 = np.linspace(Model.minCoord[0], Model.maxCoord[0], 3000) * u.kilometer\n",
    "# y2 = -80. * u.kilometer\n",
    "# level_tracers = Model.add_passive_tracers(name=\"Level\", vertices=[x2,y2])\n",
    "# level_tracers2 = Model.level_tracers.add_tracked_field(Model.strainRateField, name=\"Lev_StrainRate\", dataType=\"float\", units=u.sec, count=1, overwrite=True)\n",
    "\n"
   ]
  },
  {
   "cell_type": "markdown",
   "metadata": {},
   "source": [
    "# Surface Processes / BADLANDS"
   ]
  },
  {
   "cell_type": "code",
   "execution_count": 36,
   "metadata": {},
   "outputs": [],
   "source": [
    "# Model.surfaceProcesses = GEO.surfaceProcesses.Badlands(airIndex=[air.index], sedimentIndex=sediment.index,\n",
    "#                                            XML=\"ressources/badlands.xml\", resolution=1. * u.kilometer, \n",
    "#                                            checkpoint_interval=0.01 * u.megayears)\n",
    "\n",
    "\n",
    "#Model.surfaceProcesses = GEO.surfaceProcesses.SedimentationThreshold(Model.swarm, Model.materialField, air=[air, stickyAir], sediment=[sediment], threshold=0.)"
   ]
  },
  {
   "cell_type": "code",
   "execution_count": 37,
   "metadata": {
    "collapsed": true
   },
   "outputs": [],
   "source": [
    "GEO.rcParams[\"solver\"] = \"mg\" # This is the default so that line is technically not needed."
   ]
  },
  {
   "cell_type": "code",
   "execution_count": 38,
   "metadata": {},
   "outputs": [],
   "source": [
    "Model.init_model()"
   ]
  },
  {
   "cell_type": "code",
   "execution_count": 39,
   "metadata": {},
   "outputs": [],
   "source": [
    "#Fig = Model.plot.temperature(script=[\"rotate z 30\", \"rotate x -60\"], figsize=(900,600))"
   ]
  },
  {
   "cell_type": "code",
   "execution_count": 40,
   "metadata": {},
   "outputs": [],
   "source": [
    "#Fig = Model.plot.pressureField(script=[\"rotate z 30\", \"rotate x -60\"], figsize=(900,600))"
   ]
  },
  {
   "cell_type": "code",
   "execution_count": 41,
   "metadata": {},
   "outputs": [],
   "source": [
    "mohoT = Model.temperature.evaluate(moho_tracers.swarm)[:,0].mean()\n",
    "#print(\"Moho Temperature = \", GEO.Dimensionalize(mohoT, u.degC)) "
   ]
  },
  {
   "cell_type": "code",
   "execution_count": 42,
   "metadata": {},
   "outputs": [
    {
     "name": "stdout",
     "output_type": "stream",
     "text": [
      "Step:1 Model Time:  3.70909065674e-06 megayear dt: 3.70909065674e-06 megayear (2018-07-03 07:24:21)\n",
      "Step:2 Model Time:  6.27495148174e-06 megayear dt: 2.565860825e-06 megayear (2018-07-03 07:26:34)\n",
      "Step:3 Model Time:  7.82430188602e-06 megayear dt: 1.54935040428e-06 megayear (2018-07-03 07:28:06)\n",
      "Step:4 Model Time:  9.71981347882e-06 megayear dt: 1.8955115928e-06 megayear (2018-07-03 07:29:44)\n",
      "Step:5 Model Time:  1.06953208909e-05 megayear dt: 9.75507412128e-07 megayear (2018-07-03 07:33:31)\n",
      "Step:6 Model Time:  1.1881129823e-05 megayear dt: 1.18580893206e-06 megayear (2018-07-03 11:12:36)\n",
      "Step:7 Model Time:  1.27344971301e-05 megayear dt: 8.53367307076e-07 megayear (2018-07-03 11:16:06)\n",
      "Step:8 Model Time:  1.36874253576e-05 megayear dt: 9.52928227506e-07 megayear (2018-07-03 11:57:29)\n",
      "Step:9 Model Time:  1.46897447291e-05 megayear dt: 1.00231937148e-06 megayear (2018-07-03 12:01:00)\n",
      "Step:10 Model Time:  1.57043437086e-05 megayear dt: 1.01459897957e-06 megayear (2018-07-03 12:03:08)\n",
      "Step:11 Model Time:  1.68642108144e-05 megayear dt: 1.15986710578e-06 megayear (2018-07-03 12:06:43)\n",
      "Step:12 Model Time:  1.78725507113e-05 megayear dt: 1.00833989687e-06 megayear (2018-07-03 12:08:48)\n",
      "Step:13 Model Time:  1.93711601891e-05 megayear dt: 1.49860947778e-06 megayear (2018-07-03 12:13:05)\n",
      "Step:14 Model Time:  2.04451013651e-05 megayear dt: 1.07394117606e-06 megayear (2018-07-03 12:14:59)\n",
      "Step:15 Model Time:  2.22863619686e-05 megayear dt: 1.84126060348e-06 megayear (2018-07-03 12:16:52)\n",
      "Step:16 Model Time:  2.363349289e-05 megayear dt: 1.34713092142e-06 megayear (2018-07-03 12:18:23)\n",
      "Step:17 Model Time:  2.54150314847e-05 megayear dt: 1.78153859469e-06 megayear (2018-07-03 12:20:06)\n",
      "Step:18 Model Time:  2.69429439976e-05 megayear dt: 1.52791251288e-06 megayear (2018-07-03 12:21:51)\n",
      "Step:19 Model Time:  2.86819769924e-05 megayear dt: 1.73903299482e-06 megayear (2018-07-03 12:23:33)\n",
      "Step:20 Model Time:  3.03144256934e-05 megayear dt: 1.63244870094e-06 megayear (2018-07-03 12:25:21)\n",
      "Step:21 Model Time:  3.20432594671e-05 megayear dt: 1.72883377373e-06 megayear (2018-07-03 12:26:53)\n",
      "Step:22 Model Time:  3.3753392733e-05 megayear dt: 1.71013326593e-06 megayear (2018-07-03 12:28:26)\n",
      "Step:23 Model Time:  3.54901983337e-05 megayear dt: 1.73680560066e-06 megayear (2018-07-03 12:29:45)\n",
      "Step:24 Model Time:  3.72453819599e-05 megayear dt: 1.75518362625e-06 megayear (2018-07-03 12:31:00)\n",
      "Step:25 Model Time:  3.90150354329e-05 megayear dt: 1.76965347296e-06 megayear (2018-07-03 12:32:16)\n",
      "Step:26 Model Time:  4.07968338476e-05 megayear dt: 1.78179841471e-06 megayear (2018-07-03 12:33:32)\n",
      "Step:27 Model Time:  4.26007259978e-05 megayear dt: 1.80389215026e-06 megayear (2018-07-03 12:34:48)\n",
      "Step:28 Model Time:  4.44187067361e-05 megayear dt: 1.81798073823e-06 megayear (2018-07-03 12:36:05)\n",
      "Step:29 Model Time:  4.62571538729e-05 megayear dt: 1.83844713682e-06 megayear (2018-07-03 12:37:23)\n",
      "Step:30 Model Time:  4.81110468437e-05 megayear dt: 1.85389297081e-06 megayear (2018-07-03 12:38:39)\n",
      "Step:31 Model Time:  4.99792620257e-05 megayear dt: 1.86821518204e-06 megayear (2018-07-03 12:39:56)\n",
      "Step:32 Model Time:  5.18608463512e-05 megayear dt: 1.88158432542e-06 megayear (2018-07-03 12:41:17)\n",
      "Step:33 Model Time:  5.37599221693e-05 megayear dt: 1.89907581815e-06 megayear (2018-07-03 12:42:35)\n",
      "Step:34 Model Time:  5.56741082868e-05 megayear dt: 1.91418611748e-06 megayear (2018-07-03 12:43:54)\n",
      "Step:35 Model Time:  5.76050676529e-05 megayear dt: 1.93095936606e-06 megayear (2018-07-03 12:45:16)\n",
      "Step:36 Model Time:  5.95534796424e-05 megayear dt: 1.94841198958e-06 megayear (2018-07-03 12:46:36)\n",
      "Step:37 Model Time:  6.15162706465e-05 megayear dt: 1.9627910041e-06 megayear (2018-07-03 12:47:53)\n",
      "Step:38 Model Time:  6.34934453504e-05 megayear dt: 1.97717470389e-06 megayear (2018-07-03 12:49:11)\n",
      "Step:39 Model Time:  6.54885187236e-05 megayear dt: 1.99507337313e-06 megayear (2018-07-03 12:50:31)\n",
      "Step:40 Model Time:  6.74975423526e-05 megayear dt: 2.009023629e-06 megayear (2018-07-03 12:51:50)\n",
      "Step:41 Model Time:  6.95217524688e-05 megayear dt: 2.02421011626e-06 megayear (2018-07-03 12:53:07)\n",
      "Step:42 Model Time:  7.15611948016e-05 megayear dt: 2.03944233275e-06 megayear (2018-07-03 12:54:26)\n",
      "Step:43 Model Time:  7.3615671464e-05 megayear dt: 2.05447666248e-06 megayear (2018-07-03 12:55:47)\n",
      "Step:44 Model Time:  7.56906010957e-05 megayear dt: 2.07492963164e-06 megayear (2018-07-03 12:57:07)\n",
      "Step:45 Model Time:  7.77850936164e-05 megayear dt: 2.0944925207e-06 megayear (2018-07-03 12:58:26)\n",
      "Step:46 Model Time:  7.98956970869e-05 megayear dt: 2.11060347053e-06 megayear (2018-07-03 12:59:46)\n",
      "Step:47 Model Time:  8.20213505071e-05 megayear dt: 2.12565342019e-06 megayear (2018-07-03 13:01:06)\n",
      "Step:48 Model Time:  8.41649637371e-05 megayear dt: 2.14361323e-06 megayear (2018-07-03 13:02:42)\n",
      "Step:49 Model Time:  8.63314569729e-05 megayear dt: 2.16649323582e-06 megayear (2018-07-03 13:04:03)\n",
      "Step:50 Model Time:  8.85150517906e-05 megayear dt: 2.18359481767e-06 megayear (2018-07-03 13:05:22)\n",
      "Step:51 Model Time:  9.07165600568e-05 megayear dt: 2.20150826622e-06 megayear (2018-07-03 13:06:41)\n",
      "Step:52 Model Time:  9.29341536783e-05 megayear dt: 2.21759362148e-06 megayear (2018-07-03 13:07:58)\n",
      "Step:53 Model Time:  9.51707068863e-05 megayear dt: 2.23655320802e-06 megayear (2018-07-03 13:09:16)\n",
      "Step:54 Model Time:  9.74231712405e-05 megayear dt: 2.25246435422e-06 megayear (2018-07-03 13:10:36)\n",
      "Step:55 Model Time:  9.9693375657e-05 megayear dt: 2.27020441651e-06 megayear (2018-07-03 13:11:57)\n",
      "Step:56 Model Time:  0.000101986546431 megayear dt: 2.29317077423e-06 megayear (2018-07-03 13:13:15)\n",
      "Step:57 Model Time:  0.00010430136311 megayear dt: 2.31481667879e-06 megayear (2018-07-03 13:14:50)\n",
      "Step:58 Model Time:  0.000106635488145 megayear dt: 2.33412503511e-06 megayear (2018-07-03 13:16:25)\n",
      "Step:59 Model Time:  0.000108988904733 megayear dt: 2.35341658781e-06 megayear (2018-07-03 13:18:02)\n",
      "Step:60 Model Time:  0.000111361078284 megayear dt: 2.37217355129e-06 megayear (2018-07-03 13:19:23)\n",
      "Step:61 Model Time:  0.000113755136078 megayear dt: 2.39405779398e-06 megayear (2018-07-03 13:20:41)\n",
      "Step:62 Model Time:  0.000116171871592 megayear dt: 2.4167355141e-06 megayear (2018-07-03 13:21:59)\n",
      "Step:63 Model Time:  0.000118610238709 megayear dt: 2.43836711698e-06 megayear (2018-07-03 13:23:19)\n",
      "Step:64 Model Time:  0.000121069556482 megayear dt: 2.45931777241e-06 megayear (2018-07-03 13:24:38)\n",
      "Step:65 Model Time:  0.000123551293989 megayear dt: 2.48173750758e-06 megayear (2018-07-03 13:25:58)\n",
      "Step:66 Model Time:  0.000126058103535 megayear dt: 2.50680954575e-06 megayear (2018-07-03 13:27:35)\n",
      "Step:67 Model Time:  0.000128587326055 megayear dt: 2.52922251991e-06 megayear (2018-07-03 13:29:45)\n",
      "Step:68 Model Time:  0.000131135464073 megayear dt: 2.54813801773e-06 megayear (2018-07-03 13:31:04)\n",
      "Step:69 Model Time:  0.000133709672404 megayear dt: 2.57420833149e-06 megayear (2018-07-03 13:34:09)\n",
      "Step:70 Model Time:  0.000136307098942 megayear dt: 2.59742653751e-06 megayear (2018-07-03 13:35:48)\n",
      "Step:71 Model Time:  0.000138928907473 megayear dt: 2.62180853103e-06 megayear (2018-07-03 13:37:09)\n",
      "Step:72 Model Time:  0.000141570446302 megayear dt: 2.64153882911e-06 megayear (2018-07-03 13:38:48)\n",
      "Step:73 Model Time:  0.000144231576572 megayear dt: 2.66113027043e-06 megayear (2018-07-03 13:40:09)\n",
      "Step:74 Model Time:  0.000146914471619 megayear dt: 2.68289504687e-06 megayear (2018-07-03 13:41:29)\n",
      "Step:75 Model Time:  0.000149624552638 megayear dt: 2.71008101844e-06 megayear (2018-07-03 13:42:48)\n",
      "Step:76 Model Time:  0.000152354542041 megayear dt: 2.72998940389e-06 megayear (2018-07-03 13:44:09)\n",
      "Step:77 Model Time:  0.000155112302158 megayear dt: 2.7577601165e-06 megayear (2018-07-03 13:47:46)\n",
      "Step:78 Model Time:  0.000157891570319 megayear dt: 2.77926816088e-06 megayear (2018-07-03 13:49:07)\n",
      "Step:79 Model Time:  0.000160699494356 megayear dt: 2.80792403734e-06 megayear (2018-07-03 13:50:43)\n",
      "Step:80 Model Time:  0.000163523633188 megayear dt: 2.82413883155e-06 megayear (2018-07-03 13:52:55)\n",
      "Step:81 Model Time:  0.000166381410264 megayear dt: 2.85777707664e-06 megayear (2018-07-03 13:59:26)\n",
      "Step:82 Model Time:  0.000169265458379 megayear dt: 2.88404811463e-06 megayear (2018-07-03 14:08:44)\n",
      "Step:83 Model Time:  0.000172173855252 megayear dt: 2.90839687258e-06 megayear (2018-07-03 14:10:42)\n"
     ]
    },
    {
     "ename": "KeyboardInterrupt",
     "evalue": "",
     "output_type": "error",
     "traceback": [
      "\u001b[1;31m\u001b[0m",
      "\u001b[1;31mKeyboardInterrupt\u001b[0mTraceback (most recent call last)",
      "\u001b[1;32m<ipython-input-42-6135ef323ecc>\u001b[0m in \u001b[0;36m<module>\u001b[1;34m()\u001b[0m\n\u001b[1;32m----> 1\u001b[1;33m \u001b[0mModel\u001b[0m\u001b[1;33m.\u001b[0m\u001b[0mrun_for\u001b[0m\u001b[1;33m(\u001b[0m\u001b[1;36m1\u001b[0m \u001b[1;33m*\u001b[0m \u001b[0mu\u001b[0m\u001b[1;33m.\u001b[0m\u001b[0mmegayear\u001b[0m\u001b[1;33m,\u001b[0m \u001b[0mcheckpoint_interval\u001b[0m\u001b[1;33m=\u001b[0m\u001b[1;36m1\u001b[0m \u001b[1;33m*\u001b[0m \u001b[0mu\u001b[0m\u001b[1;33m.\u001b[0m\u001b[0mmegayear\u001b[0m\u001b[1;33m)\u001b[0m\u001b[1;33m\u001b[0m\u001b[0m\n\u001b[0m",
      "\u001b[1;32m/opt/UWGeodynamics/UWGeodynamics/_model.py\u001b[0m in \u001b[0;36mrun_for\u001b[1;34m(self, duration, checkpoint_interval, nstep, timeCheckpoints, swarm_checkpoint, dt, glucifer_outputs, restartStep, restartDir)\u001b[0m\n\u001b[0;32m   1400\u001b[0m             \u001b[0mself\u001b[0m\u001b[1;33m.\u001b[0m\u001b[0mpreSolveHook\u001b[0m\u001b[1;33m(\u001b[0m\u001b[1;33m)\u001b[0m\u001b[1;33m\u001b[0m\u001b[0m\n\u001b[0;32m   1401\u001b[0m \u001b[1;33m\u001b[0m\u001b[0m\n\u001b[1;32m-> 1402\u001b[1;33m             \u001b[0mself\u001b[0m\u001b[1;33m.\u001b[0m\u001b[0msolve\u001b[0m\u001b[1;33m(\u001b[0m\u001b[1;33m)\u001b[0m\u001b[1;33m\u001b[0m\u001b[0m\n\u001b[0m\u001b[0;32m   1403\u001b[0m \u001b[1;33m\u001b[0m\u001b[0m\n\u001b[0;32m   1404\u001b[0m             \u001b[1;31m# Whats the longest we can run before reaching the end\u001b[0m\u001b[1;33m\u001b[0m\u001b[1;33m\u001b[0m\u001b[0m\n",
      "\u001b[1;32m/opt/UWGeodynamics/UWGeodynamics/_model.py\u001b[0m in \u001b[0;36msolve\u001b[1;34m(self)\u001b[0m\n\u001b[0;32m   1312\u001b[0m                 \u001b[0mnonLinearMaxIterations\u001b[0m\u001b[1;33m=\u001b[0m\u001b[0mmaxIterations\u001b[0m\u001b[1;33m,\u001b[0m\u001b[1;33m\u001b[0m\u001b[0m\n\u001b[0;32m   1313\u001b[0m                 \u001b[0mcallback_post_solve\u001b[0m\u001b[1;33m=\u001b[0m\u001b[0mself\u001b[0m\u001b[1;33m.\u001b[0m\u001b[0mcallback_post_solve\u001b[0m\u001b[1;33m,\u001b[0m\u001b[1;33m\u001b[0m\u001b[0m\n\u001b[1;32m-> 1314\u001b[1;33m                 nonLinearTolerance=self._curTolerance)\n\u001b[0m\u001b[0;32m   1315\u001b[0m         \u001b[1;32melse\u001b[0m\u001b[1;33m:\u001b[0m\u001b[1;33m\u001b[0m\u001b[0m\n\u001b[0;32m   1316\u001b[0m             self.stokes_solver().solve(\n",
      "\u001b[1;32m/opt/underworld2/underworld/systems/_bsscr.pyc\u001b[0m in \u001b[0;36msolve\u001b[1;34m(self, nonLinearIterate, nonLinearTolerance, nonLinearKillNonConvergent, nonLinearMaxIterations, callback_post_solve, print_stats, reinitialise, fpwarning, petscwarning, **kwargs)\u001b[0m\n\u001b[0;32m    411\u001b[0m             \u001b[0mlibUnderworld\u001b[0m\u001b[1;33m.\u001b[0m\u001b[0mStgFEM\u001b[0m\u001b[1;33m.\u001b[0m\u001b[0mSystemLinearEquations_LM_Setup\u001b[0m\u001b[1;33m(\u001b[0m\u001b[0mself\u001b[0m\u001b[1;33m.\u001b[0m\u001b[0m_stokesSLE\u001b[0m\u001b[1;33m.\u001b[0m\u001b[0m_cself\u001b[0m\u001b[1;33m,\u001b[0m \u001b[0mNone\u001b[0m\u001b[1;33m)\u001b[0m\u001b[1;33m\u001b[0m\u001b[0m\n\u001b[0;32m    412\u001b[0m             \u001b[0mlibUnderworld\u001b[0m\u001b[1;33m.\u001b[0m\u001b[0mStgFEM\u001b[0m\u001b[1;33m.\u001b[0m\u001b[0mSystemLinearEquations_ZeroAllVectors\u001b[0m\u001b[1;33m(\u001b[0m\u001b[0mself\u001b[0m\u001b[1;33m.\u001b[0m\u001b[0m_stokesSLE\u001b[0m\u001b[1;33m.\u001b[0m\u001b[0m_cself\u001b[0m\u001b[1;33m,\u001b[0m \u001b[0mNone\u001b[0m\u001b[1;33m)\u001b[0m\u001b[1;33m\u001b[0m\u001b[0m\n\u001b[1;32m--> 413\u001b[1;33m             \u001b[0mlibUnderworld\u001b[0m\u001b[1;33m.\u001b[0m\u001b[0mStgFEM\u001b[0m\u001b[1;33m.\u001b[0m\u001b[0mSystemLinearEquations_MatrixSetup\u001b[0m\u001b[1;33m(\u001b[0m\u001b[0mself\u001b[0m\u001b[1;33m.\u001b[0m\u001b[0m_stokesSLE\u001b[0m\u001b[1;33m.\u001b[0m\u001b[0m_cself\u001b[0m\u001b[1;33m,\u001b[0m \u001b[0mNone\u001b[0m\u001b[1;33m)\u001b[0m\u001b[1;33m\u001b[0m\u001b[0m\n\u001b[0m\u001b[0;32m    414\u001b[0m             \u001b[0mlibUnderworld\u001b[0m\u001b[1;33m.\u001b[0m\u001b[0mStgFEM\u001b[0m\u001b[1;33m.\u001b[0m\u001b[0mSystemLinearEquations_VectorSetup\u001b[0m\u001b[1;33m(\u001b[0m\u001b[0mself\u001b[0m\u001b[1;33m.\u001b[0m\u001b[0m_stokesSLE\u001b[0m\u001b[1;33m.\u001b[0m\u001b[0m_cself\u001b[0m\u001b[1;33m,\u001b[0m \u001b[0mNone\u001b[0m\u001b[1;33m)\u001b[0m\u001b[1;33m\u001b[0m\u001b[0m\n\u001b[0;32m    415\u001b[0m \u001b[1;33m\u001b[0m\u001b[0m\n",
      "\u001b[1;31mKeyboardInterrupt\u001b[0m: "
     ]
    }
   ],
   "source": [
    "Model.run_for(1 * u.millionyear, checkpoint_interval=1 * u.megayear)\n",
    "u.\n"
   ]
  },
  {
   "cell_type": "code",
   "execution_count": null,
   "metadata": {
    "collapsed": true
   },
   "outputs": [],
   "source": []
  }
 ],
 "metadata": {
  "kernelspec": {
   "display_name": "Python 2",
   "language": "python",
   "name": "python2"
  },
  "language_info": {
   "codemirror_mode": {
    "name": "ipython",
    "version": 2
   },
   "file_extension": ".py",
   "mimetype": "text/x-python",
   "name": "python",
   "nbconvert_exporter": "python",
   "pygments_lexer": "ipython2",
   "version": "2.7.13"
  }
 },
 "nbformat": 4,
 "nbformat_minor": 2
}
