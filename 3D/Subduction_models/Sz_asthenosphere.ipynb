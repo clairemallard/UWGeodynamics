{
 "cells": [
  {
   "cell_type": "markdown",
   "metadata": {
    "deletable": true,
    "editable": true
   },
   "source": [
    "# 3D sz's MODEL"
   ]
  },
  {
   "cell_type": "markdown",
   "metadata": {
    "deletable": true,
    "editable": true
   },
   "source": [
    "- configuration A: (128 x 128 x 64 nodes) 128 CPUS\n",
    "- configuration B: (256 x 256 x 96 nodes) 256 CPUS\n",
    "The user should remove visualisation from the python script before running the model on raijin.\n",
    "In [2]:\n"
   ]
  },
  {
   "cell_type": "code",
   "execution_count": 37,
   "metadata": {
    "collapsed": false,
    "deletable": true,
    "editable": true
   },
   "outputs": [],
   "source": [
    "import matplotlib.pyplot as plt\n",
    "import UWGeodynamics as GEO\n",
    "u = GEO.UnitRegistry # u. +tab to see available units or u = GEO.u\n",
    "import glucifer"
   ]
  },
  {
   "cell_type": "code",
   "execution_count": 38,
   "metadata": {
    "collapsed": false,
    "deletable": true,
    "editable": true
   },
   "outputs": [],
   "source": [
    "## Characteristic values of the system\n",
    "\n",
    "half_rate = 1.8 * u.centimeter / u.year # What is it?\n",
    "model_length = 10000e3 * u.meter\n",
    "model_width = 2000e3 * u.meter\n",
    "surfaceTemp = 273.15 * u.degK\n",
    "baseModelTemp = 3570 * u.degK\n",
    "bodyforce = 3300 * u.kilogram / u.metre**3 * 9.81 * u.meter / u.second**2 # what\n",
    "\n",
    "KL = model_length # Characteristic length\n",
    "Kt = KL / half_rate # Characteristic time \n",
    "KM = bodyforce * KL**2 * Kt**2 # Characteristic mass\n",
    "KT = (baseModelTemp - surfaceTemp) # Characteristic temperature\n",
    "\n",
    "GEO.scaling_coefficients[\"[length]\"] = KL\n",
    "GEO.scaling_coefficients[\"[time]\"] = Kt\n",
    "GEO.scaling_coefficients[\"[mass]\"]= KM\n",
    "GEO.scaling_coefficients[\"[temperature]\"] = KT\n"
   ]
  },
  {
   "cell_type": "code",
   "execution_count": 39,
   "metadata": {
    "collapsed": false,
    "deletable": true,
    "editable": true
   },
   "outputs": [],
   "source": [
    "## definition of central object: define the geometry of the problem: container for the field variables\n",
    "\n",
    "Model = GEO.Model(elementRes=(32, 32, 16), \n",
    "                  minCoord=(0. * u.kilometer, -0. * u.kilometer, -2880. * u.kilometer), \n",
    "                  maxCoord=(10000. * u.kilometer, 2000. * u.kilometer, 20. * u.kilometer), \n",
    "                  gravity=(0.0 ,0.0, -9.81 * u.meter / u.second**2))\n",
    "\n",
    "# Fig = glucifer.Figure()\n",
    "# Fig.Surface(Model.mesh, Model.projMaterialField, cullface=False, opacity=1)\n",
    "# viewer = Fig.viewer(resolution=(600,300))\n",
    "# viewer.window()\n"
   ]
  },
  {
   "cell_type": "markdown",
   "metadata": {
    "deletable": true,
    "editable": true
   },
   "source": [
    "## Output"
   ]
  },
  {
   "cell_type": "code",
   "execution_count": 40,
   "metadata": {
    "collapsed": true,
    "deletable": true,
    "editable": true
   },
   "outputs": [],
   "source": [
    "Model.outputDir=\"3D\""
   ]
  },
  {
   "cell_type": "markdown",
   "metadata": {
    "deletable": true,
    "editable": true
   },
   "source": [
    "## Define Materials\n",
    "The model has initially 4 materials (air, crust, mantle lithosphere and mantle). We add a fifth material for the sediment. Sediment will only appear if surface processes are turned on...(and if there is sedimentation of course)"
   ]
  },
  {
   "cell_type": "code",
   "execution_count": 42,
   "metadata": {
    "collapsed": false,
    "deletable": true,
    "editable": true
   },
   "outputs": [
    {
     "data": {
      "text/html": [
       "<div style=\"min-height: 200px; min-width: 200px; background: #ccc; position: relative; display: inline; float: left; margin-right: 10px;\">\n",
       "<img id=\"imgtarget_2\" draggable=false style=\"margin: 0px; border: 1px solid #aaa;\">\n",
       "\n",
       "           <div style=\"display: none; z-index: 200; position: absolute; top: 5px; right: 5px;\">\n",
       "             <select onchange=\"_wi[2].box.mode = this.value;\">\n",
       "               <option>Rotate</option>\n",
       "               <option>Translate</option>\n",
       "               <option>Zoom</option>\n",
       "             </select>\n",
       "             <input type=\"button\" value=\"Reset\" onclick=\"_wi[2].execute('reset');\">\n",
       "           </div></div>\n",
       "<div style=\"\" class=\"lvctrl\">\n",
       "</div>\n"
      ],
      "text/plain": [
       "<IPython.core.display.HTML object>"
      ]
     },
     "metadata": {},
     "output_type": "display_data"
    },
    {
     "data": {
      "application/javascript": [
       "_wi[2] = new WindowInteractor(2);"
      ],
      "text/plain": [
       "<IPython.core.display.Javascript object>"
      ]
     },
     "metadata": {},
     "output_type": "display_data"
    }
   ],
   "source": [
    "## Definition of materials\n",
    "\n",
    "air               = Model.add_material(name=\"Air\", shape=GEO.shapes.Layer3D(top=Model.top, bottom=2.0 * u.kilometer))\n",
    "stickyAir         = Model.add_material(name=\"StickyAir\", shape=GEO.shapes.Layer3D(top=air.bottom, bottom= 0.0 * u.kilometer))\n",
    "uppercrust        = Model.add_material(name=\"UppperCrust\", shape=GEO.shapes.Layer3D(top=stickyAir.bottom, bottom=-15.0 * u.kilometer))\n",
    "midcrust          = Model.add_material(name=\"MidCrust\", shape=GEO.shapes.Layer3D(top=uppercrust.bottom * u.kilometer, bottom=-20.0 * u.kilometer))\n",
    "lowercrust        = Model.add_material(name=\"LowerCrust\", shape=GEO.shapes.Layer3D(top=midcrust.bottom * u.kilometer, bottom=-40.0 * u.kilometer))\n",
    "mantleLithosphere = Model.add_material(name=\"MantleLithosphere\", shape=GEO.shapes.Layer3D(top=lowercrust.bottom * u.kilometer, bottom=-120.0 * u.kilometer))\n",
    "#asthenosphere     = Model.add_material(name=\"Asthenosphere\", shape=GEO.shapes.Layer3D(top=mantleLithosphere.bottom * u.kilometer, bottom=-670.0 * u.kilometer))\n",
    "mantle            = Model.add_material(name=\"Mantle\", shape=GEO.shapes.Layer3D(top=mantleLithosphere.bottom, bottom=Model.bottom))\n",
    "#sediment          = Model.add_material(name=\"Sediment\")\n",
    "\n",
    "\n",
    "## Definition of slab shape with 1 layer and 1 halfspace (print on previous layers)\n",
    "\n",
    "slabLayer = GEO.shapes.Layer3D(top=-0.*u.kilometer, bottom=-2000.*u.kilometer)\n",
    "slopeSlab = GEO.shapes.HalfSpace(normal=(-1.,0.,1.), origin=(5000.*u.kilometer,1000.*u.kilometer,-2000.*u.kilometer))\n",
    "#rightWall= GEO.shapes.HalfSpace(normal=(1.0,0.,0.), origin=(10000.*u.kilometer,0.*u.kilometer,-1000.*u.kilometer))\n",
    "\n",
    "\n",
    "CompositeShape = slopeSlab & slabLayer #& rightWall\n",
    "\n",
    "Slab = Model.add_material(name=\"Slab\", shape=CompositeShape)\n",
    "\n",
    "\n",
    "\n",
    "\n",
    "Fig = glucifer.Figure()\n",
    "Fig.Surface(Model.mesh, Model.projMaterialField, cullface=False, opacity=0.70)\n",
    "viewer = Fig.viewer(resolution=(1200,600))\n",
    "viewer = Fig.viewer(axis=True)\n",
    "viewer.window()\n",
    "\n",
    "Model_MaterialField=(Model.projMaterialField)\n"
   ]
  },
  {
   "cell_type": "code",
   "execution_count": 43,
   "metadata": {
    "collapsed": false,
    "deletable": true,
    "editable": true
   },
   "outputs": [],
   "source": [
    "# Model.surfaceProcesses = GEO.surfaceProcesses.Badlands(airIndex=[air.index], sedimentIndex=sediment.index,\n",
    "#                                            XML=\"ressources/badlands.xml\", resolution=1. * u.kilometer, \n",
    "#                                            checkpoint_interval=0.01 * u.megayears)"
   ]
  },
  {
   "cell_type": "code",
   "execution_count": 44,
   "metadata": {
    "collapsed": false,
    "deletable": true,
    "editable": true
   },
   "outputs": [],
   "source": [
    "\n",
    "# test= (Model.projMaterialField)\n",
    "\n",
    "# plt.close()\n",
    "\n",
    "# plt.imshow(test.data[:], interpolation='nearest', origin='lower',\n",
    "#           extent=[Model.minCoord[0].magnitude,Model.maxCoord[0].magnitude, \n",
    "#                   Model.minCoord[2].magnitude, Model.maxCoord[2].magnitude], alpha=1, rasterized=True,cmap='RdYlBu_r') # this plots the whole materials.\n",
    "\n",
    "\n",
    "# Model = GEO.Model(elementRes=(32, 32, 16), \n",
    "#                   minCoord=(0. * u.kilometer, -0. * u.kilometer, -2880. * u.kilometer), \n",
    "#                   maxCoord=(10000. * u.kilometer, 2000. * u.kilometer, 20. * u.kilometer), \n",
    "#                   gravity=(0.0 ,0.0, -9.81 * u.meter / u.second**2))\n",
    "\n",
    "\n",
    "# plt.colorbar()\n",
    "# axes=plt.gca()\n",
    "# plt.yticks([-2000,-670,-40,0,20])\n",
    "# axes.set_xlabel('Distance (km)')\n",
    "# axes.set_ylabel('Depth (km)')\n",
    "# axes.set_title('Material Field')\n",
    "# axes.figure.dpi=300 # \n",
    "\n",
    "# plt.show()"
   ]
  },
  {
   "cell_type": "code",
   "execution_count": null,
   "metadata": {
    "collapsed": true,
    "deletable": true,
    "editable": true
   },
   "outputs": [],
   "source": []
  },
  {
   "cell_type": "markdown",
   "metadata": {
    "deletable": true,
    "editable": true
   },
   "source": [
    "## Limiters\n"
   ]
  },
  {
   "cell_type": "code",
   "execution_count": 45,
   "metadata": {
    "collapsed": true,
    "deletable": true,
    "editable": true
   },
   "outputs": [],
   "source": [
    "Model.stressLimiter = 300.0 * u.megapascal\n",
    "Model.maxViscosity = 5.0e23 * u.pascal * u.second\n",
    "Model.minViscosity = 1.0e19 * u.pascal * u.second\n",
    "Model.diffusivity = 1.0e-6 * u.metre**2 / u.second \n",
    "Model.capacity    = 1000. * u.joule / (u.kelvin * u.kilogram)"
   ]
  },
  {
   "cell_type": "markdown",
   "metadata": {
    "deletable": true,
    "editable": true
   },
   "source": [
    "### Material specific definitions\n"
   ]
  },
  {
   "cell_type": "code",
   "execution_count": 56,
   "metadata": {
    "collapsed": true,
    "deletable": true,
    "editable": true
   },
   "outputs": [],
   "source": [
    "air.diffusivity = 1.0e-6 * u.metre**2 / u.second\n",
    "stickyAir.diffusivity = 1.0e-6 * u.metre**2 / u.second\n",
    "\n",
    "air.capacity = 100. * u.joule / (u.kelvin * u.kilogram)\n",
    "stickyAir.capacity = 100. * u.joule / (u.kelvin * u.kilogram)\n",
    "\n",
    "\n",
    "uppercrust.diffusivity = 1.1e-6 * u.metre**2 / u.second\n",
    "midcrust.diffusivity   = 1.1e-6 * u.metre**2 / u.second\n",
    "lowercrust.diffusivity = 1.1e-6 * u.metre**2 / u.second\n",
    "mantle.diffusivity = 1.1e-6 * u.metre**2 / u.second\n",
    "Slab.diffusivity = 1.1e-6 * u.metre**2 / u.second\n",
    "mantleLithosphere.diffusivity = 1.1e-6 * u.metre**2 / u.second\n",
    "\n",
    "\n",
    "\n",
    "\n",
    "\n",
    "Model.diffusivity = 1.0e-6 * u.metre**2 / u.second \n",
    "Model.capacity    = 1000. * u.joule / (u.kelvin * u.kilogram)"
   ]
  },
  {
   "cell_type": "code",
   "execution_count": 57,
   "metadata": {
    "collapsed": false,
    "deletable": true,
    "editable": true
   },
   "outputs": [],
   "source": [
    "air.density               = 1. * u.kilogram / u.metre**3\n",
    "stickyAir.density         = 1. * u.kilogram / u.metre**3\n",
    "#sediment.density          = GEO.LinearDensity(reference_density=2200. * u.kilogram / u.metre**3)\n",
    "uppercrust.density        = GEO.LinearDensity(2400. * u.kilogram / u.metre**3, thermalExpansivity=3e-5 / u.kelvin)\n",
    "midcrust.density          = GEO.LinearDensity(2620. * u.kilogram / u.metre**3, thermalExpansivity=3e-5 / u.kelvin)\n",
    "lowercrust.density        = GEO.LinearDensity(2720. * u.kilogram / u.metre**3, thermalExpansivity=3e-5 / u.kelvin)\n",
    "mantleLithosphere.density = GEO.LinearDensity(3370. * u.kilogram / u.metre**3, thermalExpansivity=3e-5 / u.kelvin)\n",
    "#asthenosphere.density     = GEO.LinearDensity(3395. * u.kilogram / u.metre**3, thermalExpansivity=3e-5 / u.kelvin)\n",
    "mantle.density            = GEO.LinearDensity(3395. * u.kilogram / u.metre**3, thermalExpansivity=3e-5 / u.kelvin)\n",
    "Slab.density            = GEO.LinearDensity(1300. * u.kilogram / u.metre**3, thermalExpansivity=3e-5 / u.kelvin)"
   ]
  },
  {
   "cell_type": "code",
   "execution_count": 58,
   "metadata": {
    "collapsed": true,
    "deletable": true,
    "editable": true
   },
   "outputs": [],
   "source": [
    "#sediment.radiogenicHeatProd   = 0.60 * u.microwatt / u.meter**3 # faccenda 2008: 1-5\n",
    "uppercrust.radiogenicHeatProd = 0.70 * u.microwatt / u.meter**3 # faccenda 2008: 1-5\n",
    "midcrust.radiogenicHeatProd   = 0.40 * u.microwatt / u.meter**3 # faccenda 2008: 1-5\n",
    "lowercrust.radiogenicHeatProd = 0.30 * u.microwatt / u.meter**3 # faccenda 2008: 0.25, ocenic crust:0,25\n",
    "mantleLithosphere.radiogenicHeatProd = 0.01358 * u.microwatt / u.meter**3 # faccenda 2008: 0.022\n",
    "#asthenosphere.radiogenicHeatProd = 0.02e-6 * u.microwatt / u.meter**3"
   ]
  },
  {
   "cell_type": "markdown",
   "metadata": {
    "deletable": true,
    "editable": true
   },
   "source": [
    "### Viscous Rheologies"
   ]
  },
  {
   "cell_type": "code",
   "execution_count": 59,
   "metadata": {
    "collapsed": true,
    "deletable": true,
    "editable": true
   },
   "outputs": [],
   "source": [
    "rh = GEO.ViscousCreepRegistry() \n",
    "\n",
    "#viscosity = GEO.ViscousCreep()\n",
    "#viscosity.activationEnergy = 200. * u.kilojoule\n",
    "\n",
    "air.viscosity                = 1e18 * u.pascal * u.second\n",
    "\n",
    "stickyAir.viscosity          = 1e19 * u.pascal * u.second\n",
    "\n",
    "# sediment.viscosity           = rh.Kronenberg_et_al_1984 # rh.Gleason_and_Tullis_1995\n",
    "# sediment.minViscosity        = 1e18 * u.pascal * u.second\n",
    "# sediment.maxViscosity        = 5e23 * u.pascal * u.second\n",
    "\n",
    "uppercrust.viscosity    = 1.0 * rh.Goetze_et_al_1978\n",
    "uppercrust.minViscosity = 1e18 * u.pascal * u.second\n",
    "uppercrust.maxViscosity = 5e23 * u.pascal * u.second\n",
    "\n",
    "midcrust.viscosity    = 1.0 * rh.Gleason_and_Tullis_1995\n",
    "midcrust.minViscosity = 1e18 * u.pascal * u.second\n",
    "midcrust.maxViscosity = 5e23 * u.pascal * u.second\n",
    "\n",
    "lowercrust.viscosity    = 1.0 * rh.Wang_et_al_2012\n",
    "lowercrust.minViscosity = 1e18 * u.pascal * u.second\n",
    "lowercrust.maxViscosity = 5e23 * u.pascal * u.second\n",
    "\n",
    "mantleLithosphere.viscosity    = 1.0 * rh.Brace_and_Kohlstedt_1980 # 5.0 * rh.Karato_and_Wu_1990\n",
    "mantleLithosphere.minViscosity = 1e18 * u.pascal * u.second\n",
    "mantleLithosphere.maxViscosity = 5e23 * u.pascal * u.second\n",
    "\n",
    "\n",
    "\n",
    "Slab.viscosity    = 1.0 * rh.Brace_and_Kohlstedt_1980 # 5.0 * rh.Karato_and_Wu_1990\n",
    "Slab.minViscosity = 1e18 * u.pascal * u.second\n",
    "Slab.maxViscosity = 5e23 * u.pascal * u.second\n",
    "\n",
    "# asthenosphere.viscosity    = rh.Brace_and_Kohlstedt_1980 \n",
    "# asthenosphere.minViscosity = 1e18 * u.pascal * u.second\n",
    "# asthenosphere.maxViscosity = 5e23 * u.pascal * u.second\n",
    "\n",
    "mantle.viscosity    = rh.Brace_and_Kohlstedt_1980 # 1.0 * rh.Karato_and_Wu_1990\n",
    "mantle.minViscosity = 1e18 * u.pascal * u.second\n",
    "mantle.maxViscosity = 5e23 * u.pascal * u.second\n",
    "\n",
    "minimumviscosity   = GEO.ConstantViscosity(1e18 * u.pascal * u.second)\n",
    "maximumviscosity   = GEO.ConstantViscosity(5e23 * u.pascal * u.second)\n",
    "\n",
    "# rh.Gleason_and_Tullis_1995\n"
   ]
  },
  {
   "cell_type": "markdown",
   "metadata": {
    "deletable": true,
    "editable": true
   },
   "source": [
    "## Plasticities"
   ]
  },
  {
   "cell_type": "code",
   "execution_count": 60,
   "metadata": {
    "collapsed": true,
    "deletable": true,
    "editable": true
   },
   "outputs": [],
   "source": [
    "pl = GEO.PlasticityRegistry()"
   ]
  },
  {
   "cell_type": "code",
   "execution_count": 61,
   "metadata": {
    "collapsed": false,
    "deletable": true,
    "editable": true
   },
   "outputs": [],
   "source": [
    "# sediment.plasticity     = pl.Rey_et_al_2010_UpperCrust\n",
    "# sediment.plasticity.frictionCoefficient = 0.268\n",
    "# sediment.plasticity.frictionAfterSoftening = 0.01\n",
    "# sediment.plasticity.epsilon2 = 0.10\n",
    "# sediment.stressLimiter  = 20 * u.megapascal\n",
    "\n",
    "uppercrust.plasticity     = pl.Rey_et_al_2010_UpperCrust\n",
    "uppercrust.plasticity.frictionCoefficient = 0.268\n",
    "uppercrust.plasticity.frictionAfterSoftening = 0.03\n",
    "uppercrust.plasticity.epsilon2 = 0.15\n",
    "uppercrust.stressLimiter  = 100 * u.megapascal\n",
    "\n",
    "midcrust.plasticity     = pl.Rey_et_al_2010_UpperCrust\n",
    "midcrust.plasticity.frictionCoefficient = 0.268\n",
    "midcrust.plasticity.frictionAfterSoftening = 0.07\n",
    "midcrust.stressLimiter  = 120 * u.megapascal\n",
    "\n",
    "lowercrust.plasticity     = pl.Rey_et_al_2010_LowerCrust\n",
    "lowercrust.stressLimiter  = 150 * u.megapascal\n",
    "\n",
    "mantleLithosphere.plasticity     = pl.Rey_et_al_2010_Mantle\n",
    "mantleLithosphere.stressLimiter  = 300 * u.megapascal\n",
    "\n",
    "Slab.plasticity     = pl.Rey_et_al_2010_Mantle\n",
    "Slab.stressLimiter  = 300 * u.megapascal\n",
    "\n",
    "# asthenosphere.plasticity     = pl.Rey_et_al_2010_Mantle\n",
    "# asthenosphere.stressLimiter  = 300 * u.megapascal\n",
    "\n",
    "mantle.plasticity             = pl.Rey_et_al_2010_Mantle\n",
    "\n",
    "# or\n",
    "\n",
    "# mantle.plasticity = GEO.DruckerPrager(\n",
    "#    cohesion=20.*u.megapascal,\n",
    "#    cohesionAfterSoftening=20.*u.megapascal,\n",
    "#    frictionCoefficient=0.12,\n",
    "#    frictionAfterSoftening=0.02,\n",
    "#    epsilon1=0.01, epsilon2=1.0)\n",
    "\n",
    "\n",
    "#pl.Rey_et_al_2010_UpperCrust\n"
   ]
  },
  {
   "cell_type": "code",
   "execution_count": 62,
   "metadata": {
    "collapsed": false,
    "deletable": true,
    "editable": true
   },
   "outputs": [],
   "source": [
    "#uppercrust"
   ]
  },
  {
   "cell_type": "code",
   "execution_count": 63,
   "metadata": {
    "collapsed": false,
    "deletable": true,
    "editable": true
   },
   "outputs": [],
   "source": [
    "#uppercrust.plasticity"
   ]
  },
  {
   "cell_type": "markdown",
   "metadata": {
    "deletable": true,
    "editable": true
   },
   "source": [
    "## Partial Melting"
   ]
  },
  {
   "cell_type": "code",
   "execution_count": 64,
   "metadata": {
    "collapsed": true,
    "deletable": true,
    "editable": true
   },
   "outputs": [],
   "source": [
    "solidii = GEO.SolidusRegistry()\n",
    "crust_solidus = solidii.Crustal_Solidus\n",
    "mantle_solidus = solidii.Mantle_Solidus\n",
    "\n",
    "\n",
    "liquidii = GEO.LiquidusRegistry()\n",
    "crust_liquidus = liquidii.Crustal_Liquidus\n",
    "mantle_liquidus = liquidii.Mantle_Liquidus\n",
    "\n",
    "\n",
    "# In our experiments, the viscosity decreases linearly by 3 orders of magnitude \n",
    "#when the melt fraction increases from 15 to 30%. When the melt fraction is 15%, \n",
    "#the viscosity of the melted crust is that of the non-melted surrounding; \n",
    "#when the melt fraction is 30%, its viscosity is a thousand times lower than in surrounding material. \n",
    "#Rosenberg and Handy (2005) showed that significant weakening occurs at 7% melt fraction.\n",
    "\n",
    "uppercrust.add_melt_modifier(crust_solidus, crust_liquidus, \n",
    "                         latentHeatFusion=250.0 * u.kilojoules / u.kilogram / u.kelvin,\n",
    "                         meltFraction=0.,\n",
    "                         meltFractionLimit=0.3,\n",
    "                         meltExpansion=0.13, \n",
    "                         viscosityChangeX1 = 0.15,\n",
    "                         viscosityChangeX2 = 0.30,\n",
    "                         viscosityChange = -1.0e3\n",
    "                        )\n",
    "midcrust.add_melt_modifier(crust_solidus, crust_liquidus, \n",
    "                         latentHeatFusion=250.0 * u.kilojoules / u.kilogram / u.kelvin,\n",
    "                         meltFraction=0.,\n",
    "                         meltFractionLimit=0.3,\n",
    "                         meltExpansion=0.13, \n",
    "                         viscosityChangeX1 = 0.15,\n",
    "                         viscosityChangeX2 = 0.30,\n",
    "                         viscosityChange = -1.0e3\n",
    "                        ) \n",
    "lowercrust.add_melt_modifier(crust_solidus, crust_liquidus, \n",
    "                         latentHeatFusion=250.0 * u.kilojoules / u.kilogram / u.kelvin,\n",
    "                         meltFraction=0.,\n",
    "                         meltFractionLimit=0.3,\n",
    "                         meltExpansion=0.13, \n",
    "                         viscosityChangeX1 = 0.15,\n",
    "                         viscosityChangeX2 = 0.30,\n",
    "                         viscosityChange = -1.0e3\n",
    "                        ) \n",
    "\n",
    "mantleLithosphere.add_melt_modifier(mantle_solidus, mantle_liquidus, \n",
    "                         latentHeatFusion=450.0 * u.kilojoules / u.kilogram / u.kelvin,\n",
    "                         meltFraction=0.,\n",
    "                         meltFractionLimit=0.08,\n",
    "                         meltExpansion=0.16, \n",
    "                         viscosityChangeX1 = 0.00,\n",
    "                         viscosityChangeX2 = 0.08,\n",
    "                         viscosityChange = -1.0e2\n",
    "                        ) \n",
    "\n",
    "# asthenosphere.add_melt_modifier(mantle_solidus, mantle_liquidus, \n",
    "#                          latentHeatFusion=450.0 * u.kilojoules / u.kilogram / u.kelvin,\n",
    "#                          meltFraction=0.,\n",
    "#                          meltFractionLimit=0.08,\n",
    "#                          meltExpansion=0.16, \n",
    "#                          viscosityChangeX1 = 0.00,\n",
    "#                          viscosityChangeX2 = 0.08,\n",
    "#                          viscosityChange = -1.0e2\n",
    "#                         ) \n",
    "\n",
    "mantle.add_melt_modifier(mantle_solidus, mantle_liquidus, \n",
    "                         latentHeatFusion=450.0 * u.kilojoules / u.kilogram / u.kelvin,\n",
    "                         meltFraction=0.,\n",
    "                         meltFractionLimit=0.08,\n",
    "                         meltExpansion=0.16, \n",
    "                         viscosityChangeX1 = 0.00,\n",
    "                         viscosityChangeX2 = 0.08,\n",
    "                         viscosityChange = -1.0e2\n",
    "                        ) \n"
   ]
  },
  {
   "cell_type": "markdown",
   "metadata": {
    "deletable": true,
    "editable": true
   },
   "source": [
    "## Add Temperature Boundary Conditions\n",
    "\n",
    "Temperature is 293.15K at the top and 3570K at the bottom. Temperature is constant in the mantle and the air layers. "
   ]
  },
  {
   "cell_type": "code",
   "execution_count": 65,
   "metadata": {
    "collapsed": false,
    "deletable": true,
    "editable": true
   },
   "outputs": [
    {
     "data": {
      "text/plain": [
       "[<underworld.conditions._conditions.DirichletCondition at 0x7fd7eaaa7090>]"
      ]
     },
     "execution_count": 65,
     "metadata": {},
     "output_type": "execute_result"
    }
   ],
   "source": [
    "Model.set_temperatureBCs(top=293.15 * u.degK, \n",
    "                         bottom=3570. * u.degK, \n",
    "                         indexSets=[(mantle.indices, 1603.15 * u.degK),\n",
    "                                    (stickyAir.indices, 293.15 * u.degK ),\n",
    "                                    (air.indices, 293.15 * u.degK )]) \n",
    "\n",
    "#materials=[(air, 293.15 * u.degK),(stickyAir, 293.15 * u.degK), (asthenosphere.indices, 1603.15 * u.degK), (mantle.indices, 3570 * u.degK)])  #"
   ]
  },
  {
   "cell_type": "markdown",
   "metadata": {
    "deletable": true,
    "editable": true
   },
   "source": [
    "## Add Velocity Boundary Conditions\n",
    "\n",
    "We push on the right side. The back and front wall are freeslip. We use a pseudo isostatic support condition at the bottom."
   ]
  },
  {
   "cell_type": "code",
   "execution_count": 66,
   "metadata": {
    "collapsed": false,
    "deletable": true,
    "editable": true
   },
   "outputs": [
    {
     "data": {
      "text/plain": [
       "[<underworld.conditions._conditions.DirichletCondition at 0x7fd7ea982050>]"
      ]
     },
     "execution_count": 66,
     "metadata": {},
     "output_type": "execute_result"
    }
   ],
   "source": [
    "Model.set_velocityBCs(left=[0. * u.centimeter / u.year, None, None],\n",
    "                      right=[-2.8 * u.centimeter / u.year, None, None],\n",
    "                      back=[None, 0., None],\n",
    "                      front=[None, 0., None],\n",
    "                      bottom=GEO.LecodeIsostasy(reference_mat=mantle.index, average=False))\n",
    "\n"
   ]
  },
  {
   "cell_type": "markdown",
   "metadata": {
    "deletable": true,
    "editable": true
   },
   "source": [
    "## Add Initial Damage with Plastic Strain\n",
    "An ellipsoidal shape with random damage is used to seed plastic deformation."
   ]
  },
  {
   "cell_type": "code",
   "execution_count": 67,
   "metadata": {
    "collapsed": false,
    "deletable": true,
    "editable": true
   },
   "outputs": [],
   "source": [
    "import numpy as np\n",
    "\n",
    "def gaussian(xx, centre, width):\n",
    "    return ( np.exp( -(xx - centre)**2 / width ))\n",
    "\n",
    "# maxDamage = 0.7\n",
    "# Model.plasticStrain.data[:] = maxDamage * np.random.rand(*Model.plasticStrain.data.shape[:])\n",
    "# Model.plasticStrain.data[:,0] *= gaussian(Model.swarm.particleCoordinates.data[:,0], (GEO.nd(Model.maxCoord[0] - Model.minCoord[0])) / 2.0, GEO.nd(100.0 * u.kilometer))\n",
    "# Model.plasticStrain.data[:,0] *= gaussian(Model.swarm.particleCoordinates.data[:,1], GEO.nd(-5. * u.kilometer) , GEO.nd(1.0 * u.kilometer))\n",
    "\n",
    "# maxDamage = 0.5\n",
    "# Model.plasticStrain.data[:] = maxDamage * np.random.rand(*Model.plasticStrain.data.shape[:])\n",
    "# Model.plasticStrain.data[:,0] *= gaussian(Model.swarm.particleCoordinates.data[:,0], (GEO.nd(Model.maxCoord[0] - Model.minCoord[0])) / 2.0, GEO.nd(10.0 * u.kilometer))\n",
    "# Model.plasticStrain.data[:,0] *= gaussian(Model.swarm.particleCoordinates.data[:,1], GEO.nd(-10. * u.kilometer) , GEO.nd(2.0 * u.kilometer))\n",
    "\n",
    "maxDamage = 0.25\n",
    "Model.plasticStrain.data[:] = maxDamage * np.random.rand(*Model.plasticStrain.data.shape[:])\n",
    "Model.plasticStrain.data[:,0] *= gaussian(Model.swarm.particleCoordinates.data[:,0], (GEO.nd(Model.maxCoord[0] - Model.minCoord[0])) / 2.0, GEO.nd(5.0 * u.kilometer))\n",
    "Model.plasticStrain.data[:,0] *= gaussian(Model.swarm.particleCoordinates.data[:,1], (GEO.nd(Model.maxCoord[1] - Model.minCoord[1])) / 2.0, GEO.nd(10.0 * u.kilometer))\n",
    "Model.plasticStrain.data[:,0] *= gaussian(Model.swarm.particleCoordinates.data[:,2], GEO.nd(-40. * u.kilometer) , GEO.nd(5.0 * u.kilometer))\n",
    "\n",
    "# maxDamage = 0.5\n",
    "# Model.plasticStrain.data[:] = maxDamage * np.random.rand(*Model.plasticStrain.data.shape[:])\n",
    "# Model.plasticStrain.data[:,0] *= gaussian(Model.swarm.particleCoordinates.data[:,0], (GEO.nd(Model.maxCoord[0] - Model.minCoord[0])) / 2.0, GEO.nd(5.0 * u.kilometer))\n",
    "# Model.plasticStrain.data[:,0] *= gaussian(Model.swarm.particleCoordinates.data[:,1], (GEO.nd(Model.maxCoord[1] - Model.minCoord[1])) / 2.0, GEO.nd(10.0 * u.kilometer))\n",
    "# Model.plasticStrain.data[:,0] *= gaussian(Model.swarm.particleCoordinates.data[:,2], GEO.nd(-40. * u.kilometer) , GEO.nd(5.0 * u.kilometer))\n",
    "\n",
    "#Fig = Model.plot.plastic_strain(script=[\"rotate z 30\", \"rotate x -60\"], projected=True, figsize=(900,600))"
   ]
  },
  {
   "cell_type": "markdown",
   "metadata": {
    "deletable": true,
    "editable": true
   },
   "source": [
    "# Plastic Strain Enveloppe\n",
    "\n",
    "This is to create a buffer zone close to the left and right boundaries where plastic strain is not allowed to accumulate. You can comment the following cell if you think it is not needed."
   ]
  },
  {
   "cell_type": "code",
   "execution_count": 68,
   "metadata": {
    "collapsed": true,
    "deletable": true,
    "editable": true
   },
   "outputs": [],
   "source": [
    "import underworld.function as fn\n",
    "\n",
    "def post_hook():\n",
    "    coords = fn.input()\n",
    "    zz = coords[0] / (GEO.nd(Model.maxCoord[0]) - GEO.nd(Model.minCoord[0]))\n",
    "    fact = fn.math.pow(fn.math.tanh(zz*20.0) + fn.math.tanh((1.0-zz)*20.0) - fn.math.tanh(20.0), 4)\n",
    "    Model.plasticStrain.data[:] = Model.plasticStrain.data[:] * fact.evaluate(Model.swarm)\n",
    "\n",
    "Model.postSolveHook = post_hook"
   ]
  },
  {
   "cell_type": "markdown",
   "metadata": {
    "deletable": true,
    "editable": true
   },
   "source": [
    "# Add Passive Tracers "
   ]
  },
  {
   "cell_type": "code",
   "execution_count": 69,
   "metadata": {
    "collapsed": false,
    "deletable": true,
    "editable": true
   },
   "outputs": [],
   "source": [
    "#help(Model.add_passive_tracers)"
   ]
  },
  {
   "cell_type": "code",
   "execution_count": 70,
   "metadata": {
    "collapsed": false,
    "deletable": true,
    "editable": true
   },
   "outputs": [],
   "source": [
    "import numpy as np\n",
    "\n",
    "xp = np.linspace(GEO.nd(Model.minCoord[0]), GEO.nd(Model.maxCoord[0]), 100)\n",
    "yp = np.linspace(GEO.nd(Model.minCoord[1]), GEO.nd(Model.maxCoord[1]), 100)\n",
    "\n",
    "xp, yp = np.meshgrid(xp, yp)\n",
    "xp = xp.flatten()\n",
    "yp = yp.flatten()\n",
    "zp = np.zeros(xp.shape)\n",
    "\n",
    "surface_tracers = Model.add_passive_tracers(name=\"Surface2\", vertices=[xp, yp, zp])\n",
    "moho_tracers = Model.add_passive_tracers(name=\"Moho\", vertices=[xp, yp, zp+GEO.nd(mantleLithosphere.top)])\n",
    "#moho_tracers = Model.add_passive_tracers(name=\"Moho\", vertices=[x,y-40.*u.kilometer])\n",
    "#moho_tracers.add_tracked_field(Model.pressureField, name=\"Pressure\" , dataType=\"float\", units=u.megapascal, count=1, overwrite=True)\n",
    "#surface_tracers.add_tracked_field(Model.pressureField, name=\"Pressure\" , dataType=\"float\", units=u.megapascal, count=1, overwrite=True)\n",
    "\n",
    "#print moho_tracers\n",
    "#print surface_tracers"
   ]
  },
  {
   "cell_type": "markdown",
   "metadata": {
    "deletable": true,
    "editable": true
   },
   "source": [
    "import numpy as np\n",
    "\n",
    "x2 = np.linspace(Model.minCoord[0], Model.maxCoord[0], 1000) * u.kilometer\n",
    "y2 = np.linspace(Model.minCoord[0], Model.maxCoord[0], 1000) * u.kilometer\n",
    "x2, y2 = np.meshgrid(xp, yp)\n",
    "x2 = x2.flatten()\n",
    "y2 = y2.flatten()\n",
    "z2 = -80. * u.kilometer\n",
    "\n",
    "level_tracers = Model.add_passive_tracers(name=\"Level\", vertices=[x2,y2,z2])\n",
    "level_tracers2 = Model.level_tracers.add_tracked_field(Model.strainRateField, name=\"Lev_StrainRate\", dataType=\"float\", units=u.sec, count=1, overwrite=True)"
   ]
  },
  {
   "cell_type": "markdown",
   "metadata": {
    "deletable": true,
    "editable": true
   },
   "source": [
    "# Add ellipses"
   ]
  },
  {
   "cell_type": "markdown",
   "metadata": {
    "deletable": true,
    "editable": true
   },
   "source": [
    "x_c, y_c, z_c = GEO.circles_grid(radius=2.0*u.kilometer, \n",
    "                    minCoord=[0. * u.kilometer, 0. * u.kilometer, lowercrust.bottom], \n",
    "                    maxCoord=[10000. * u.kilometer, 2000. * u.kilometer, uppercrust.top])\n",
    "circles_c = Model.add_passive_tracers(name=\"FSE_Crust\", vertices=[x_c, y_c, z_c])"
   ]
  },
  {
   "cell_type": "markdown",
   "metadata": {
    "deletable": true,
    "editable": true
   },
   "source": [
    "# Initial model"
   ]
  },
  {
   "cell_type": "code",
   "execution_count": 71,
   "metadata": {
    "collapsed": false,
    "deletable": true,
    "editable": true
   },
   "outputs": [],
   "source": [
    "# import glucifer\n",
    "# Fig = glucifer.Figure(figsize=(1200,400))\n",
    "# Fig.Points(surface_tracers.swarm, pointSize=2.0)\n",
    "# Fig.Points(moho_tracers.swarm, pointSize=2.0)\n",
    "# #Fig.Points(circles_c.swarm, pointSize=1.5)\n",
    "# Fig.Points(Model.swarm, Model.materialField, fn_size=2.0)\n",
    "# Fig.show()\n"
   ]
  },
  {
   "cell_type": "code",
   "execution_count": 72,
   "metadata": {
    "collapsed": false,
    "deletable": true,
    "editable": true
   },
   "outputs": [],
   "source": [
    "# import numpy as np\n",
    "# x2 = np.linspace(Model.minCoord[0], Model.maxCoord[0], 3000) * u.kilometer\n",
    "# y2 = -80. * u.kilometer\n",
    "# level_tracers = Model.add_passive_tracers(name=\"Level\", vertices=[x2,y2])\n",
    "# level_tracers2 = Model.level_tracers.add_tracked_field(Model.strainRateField, name=\"Lev_StrainRate\", dataType=\"float\", units=u.sec, count=1, overwrite=True)\n",
    "\n"
   ]
  },
  {
   "cell_type": "markdown",
   "metadata": {
    "deletable": true,
    "editable": true
   },
   "source": [
    "# Surface Processes / BADLANDS"
   ]
  },
  {
   "cell_type": "code",
   "execution_count": 73,
   "metadata": {
    "collapsed": false,
    "deletable": true,
    "editable": true
   },
   "outputs": [],
   "source": [
    "# Model.surfaceProcesses = GEO.surfaceProcesses.Badlands(airIndex=[air.index], sedimentIndex=sediment.index,\n",
    "#                                            XML=\"ressources/badlands.xml\", resolution=1. * u.kilometer, \n",
    "#                                            checkpoint_interval=0.01 * u.megayears)\n",
    "\n",
    "\n",
    "#Model.surfaceProcesses = GEO.surfaceProcesses.SedimentationThreshold(Model.swarm, Model.materialField, air=[air, stickyAir], sediment=[sediment], threshold=0.)"
   ]
  },
  {
   "cell_type": "code",
   "execution_count": 74,
   "metadata": {
    "collapsed": true,
    "deletable": true,
    "editable": true
   },
   "outputs": [],
   "source": [
    "GEO.rcParams[\"solver\"] = \"mg\" # This is the default so that line is technically not needed."
   ]
  },
  {
   "cell_type": "code",
   "execution_count": 75,
   "metadata": {
    "collapsed": false,
    "deletable": true,
    "editable": true
   },
   "outputs": [],
   "source": [
    "Model.init_model()"
   ]
  },
  {
   "cell_type": "code",
   "execution_count": 76,
   "metadata": {
    "collapsed": false,
    "deletable": true,
    "editable": true
   },
   "outputs": [],
   "source": [
    "#Fig = Model.plot.temperature(script=[\"rotate z 30\", \"rotate x -60\"], figsize=(900,600))"
   ]
  },
  {
   "cell_type": "code",
   "execution_count": 77,
   "metadata": {
    "collapsed": false,
    "deletable": true,
    "editable": true
   },
   "outputs": [],
   "source": [
    "#Fig = Model.plot.pressureField(script=[\"rotate z 30\", \"rotate x -60\"], figsize=(900,600))"
   ]
  },
  {
   "cell_type": "code",
   "execution_count": 78,
   "metadata": {
    "collapsed": false,
    "deletable": true,
    "editable": true
   },
   "outputs": [],
   "source": [
    "mohoT = Model.temperature.evaluate(moho_tracers.swarm)[:,0].mean()\n",
    "#print(\"Moho Temperature = \", GEO.Dimensionalize(mohoT, u.degC)) "
   ]
  },
  {
   "cell_type": "code",
   "execution_count": null,
   "metadata": {
    "collapsed": false,
    "deletable": true,
    "editable": true
   },
   "outputs": [
    {
     "name": "stdout",
     "output_type": "stream",
     "text": [
      "Step:1 Model Time:  1.35378691223e-08 megayear dt: 1.35378691223e-08 megayear (2018-07-02 05:08:58)\n",
      "Step:2 Model Time:  2.8565973209e-08 megayear dt: 1.50281040867e-08 megayear (2018-07-02 05:10:12)\n",
      "Step:3 Model Time:  4.32556737829e-08 megayear dt: 1.46897005739e-08 megayear (2018-07-02 05:11:30)\n",
      "Step:4 Model Time:  5.77318818862e-08 megayear dt: 1.44762081034e-08 megayear (2018-07-02 05:12:48)\n",
      "Step:5 Model Time:  7.20634134746e-08 megayear dt: 1.43315315884e-08 megayear (2018-07-02 05:14:06)\n",
      "Step:6 Model Time:  8.62901493942e-08 megayear dt: 1.42267359196e-08 megayear (2018-07-02 05:15:23)\n",
      "Step:7 Model Time:  1.00434558338e-07 megayear dt: 1.41444089433e-08 megayear (2018-07-02 05:16:39)\n",
      "Step:8 Model Time:  1.14519872412e-07 megayear dt: 1.4085314074e-08 megayear (2018-07-02 05:17:51)\n",
      "Step:9 Model Time:  1.28565406459e-07 megayear dt: 1.40455340471e-08 megayear (2018-07-02 05:19:03)\n",
      "Step:10 Model Time:  1.42581910923e-07 megayear dt: 1.4016504464e-08 megayear (2018-07-02 05:20:14)\n",
      "Step:11 Model Time:  1.56564819673e-07 megayear dt: 1.39829087501e-08 megayear (2018-07-02 05:21:26)\n",
      "Step:12 Model Time:  1.70519575757e-07 megayear dt: 1.39547560844e-08 megayear (2018-07-02 05:22:37)\n"
     ]
    }
   ],
   "source": [
    "Model.run_for(20 * u.megayear, checkpoint_interval=1 * u.megayear)\n"
   ]
  },
  {
   "cell_type": "code",
   "execution_count": null,
   "metadata": {
    "collapsed": true,
    "deletable": true,
    "editable": true
   },
   "outputs": [],
   "source": []
  }
 ],
 "metadata": {
  "kernelspec": {
   "display_name": "Python 2",
   "language": "python",
   "name": "python2"
  },
  "language_info": {
   "codemirror_mode": {
    "name": "ipython",
    "version": 2
   },
   "file_extension": ".py",
   "mimetype": "text/x-python",
   "name": "python",
   "nbconvert_exporter": "python",
   "pygments_lexer": "ipython2",
   "version": "2.7.9"
  }
 },
 "nbformat": 4,
 "nbformat_minor": 2
}
