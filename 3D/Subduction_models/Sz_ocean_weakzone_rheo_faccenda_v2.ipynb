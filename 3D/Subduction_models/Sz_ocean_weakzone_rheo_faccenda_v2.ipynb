{
 "cells": [
  {
   "cell_type": "markdown",
   "metadata": {
    "deletable": true,
    "editable": true
   },
   "source": [
    "# 3D sz's MODEL"
   ]
  },
  {
   "cell_type": "markdown",
   "metadata": {
    "deletable": true,
    "editable": true
   },
   "source": [
    "- configuration A: (128 x 128 x 64 nodes) 128 CPUS\n",
    "- configuration B: (256 x 256 x 96 nodes) 256 CPUS\n",
    "The user should remove visualisation from the python script before running the model on raijin.\n",
    "In [2]:\n"
   ]
  },
  {
   "cell_type": "code",
   "execution_count": 1,
   "metadata": {
    "collapsed": false,
    "deletable": true,
    "editable": true
   },
   "outputs": [
    {
     "name": "stdout",
     "output_type": "stream",
     "text": [
      "loaded rc file /opt/UWGeodynamics/UWGeodynamics/uwgeo-data/uwgeodynamicsrc\n"
     ]
    }
   ],
   "source": [
    "import matplotlib.pyplot as plt\n",
    "import UWGeodynamics as GEO\n",
    "u = GEO.UnitRegistry # u. +tab to see available units or u = GEO.u\n",
    "import glucifer"
   ]
  },
  {
   "cell_type": "code",
   "execution_count": 2,
   "metadata": {
    "collapsed": true,
    "deletable": true,
    "editable": true
   },
   "outputs": [],
   "source": [
    "##### Characteristic values of the system\n",
    "\n",
    "half_rate = 1.8 * u.centimeter / u.year # What is it?\n",
    "model_length = 4000e3 * u.meter\n",
    "model_width = 2000e3 * u.meter\n",
    "surfaceTemp = 273.15 * u.degK\n",
    "baseModelTemp = 3570 * u.degK\n",
    "bodyforce = 3300 * u.kilogram / u.metre**3 * 9.81 * u.meter / u.second**2 # ckeck publi schellart\n",
    "\n",
    "KL = model_length # Characteristic length\n",
    "Kt = KL / half_rate # Characteristic time \n",
    "KM = bodyforce * KL**2 * Kt**2 # Characteristic mass\n",
    "KT = (baseModelTemp - surfaceTemp) # Characteristic temperature\n",
    "\n",
    "GEO.scaling_coefficients[\"[length]\"] = KL\n",
    "GEO.scaling_coefficients[\"[time]\"] = Kt\n",
    "GEO.scaling_coefficients[\"[mass]\"]= KM\n",
    "GEO.scaling_coefficients[\"[temperature]\"] = KT\n"
   ]
  },
  {
   "cell_type": "code",
   "execution_count": 3,
   "metadata": {
    "collapsed": false,
    "deletable": true,
    "editable": true
   },
   "outputs": [],
   "source": [
    "## definition of central object: define the geometry of the problem: container for the field variables\n",
    "\n",
    "Model = GEO.Model(elementRes=(32, 32, 16), \n",
    "                  minCoord=(0. * u.kilometer, -0. * u.kilometer, -660. * u.kilometer), \n",
    "                  maxCoord=(4000. * u.kilometer, 2000. * u.kilometer, 20. * u.kilometer), \n",
    "                  gravity=(0.0 ,0.0, -9.81 * u.meter / u.second**2))\n",
    "\n",
    "# Fig = glucifer.Figure()\n",
    "# Fig.Surface(Model.mesh, Model.projMaterialField, cullface=False, opacity=1)\n",
    "# viewer = Fig.viewer(resolution=(600,300))\n",
    "# viewer.window()\n"
   ]
  },
  {
   "cell_type": "markdown",
   "metadata": {
    "deletable": true,
    "editable": true
   },
   "source": [
    "## Output"
   ]
  },
  {
   "cell_type": "code",
   "execution_count": 4,
   "metadata": {
    "collapsed": true,
    "deletable": true,
    "editable": true
   },
   "outputs": [],
   "source": [
    "Model.outputDir=\"3D_sz_ocean_si_faccenda\""
   ]
  },
  {
   "cell_type": "markdown",
   "metadata": {
    "deletable": true,
    "editable": true
   },
   "source": [
    "## Define Materials\n",
    "The model has initially 4 materials (air, crust, mantle lithosphere and mantle). We add a fifth material for the sediment. Sediment will only appear if surface processes are turned on...(and if there is sedimentation of course)"
   ]
  },
  {
   "cell_type": "code",
   "execution_count": 5,
   "metadata": {
    "collapsed": false,
    "deletable": true,
    "editable": true,
    "scrolled": true
   },
   "outputs": [],
   "source": [
    "# ## Definition of materials\n",
    "\n",
    "# air               = Model.add_material(name=\"Air\", shape=GEO.shapes.Layer3D(top=Model.top, bottom=2.0 * u.kilometer))\n",
    "# stickyAir         = Model.add_material(name=\"StickyAir\", shape=GEO.shapes.Layer3D(top=air.bottom, bottom= 0.0 * u.kilometer)) # or water\n",
    "# basalticrust        = Model.add_material(name=\"basalticrust\", shape=GEO.shapes.Layer3D(top=stickyAir.bottom, bottom=-15.0 * u.kilometer))\n",
    "# lithosphere          = Model.add_material(name=\"lithosphere\", shape=GEO.shapes.Layer3D(top=basalticrust.bottom * u.kilometer, bottom=-120.0 * u.kilometer))\n",
    "# asthenosphere = Model.add_material(name=\"asthenosphere\", shape=GEO.shapes.Layer3D(top=lithosphere.bottom * u.kilometer, bottom=-660.0 * u.kilometer))\n",
    "# mantle            = Model.add_material(name=\"Mantle\", shape=GEO.shapes.Layer3D(top=asthenosphere.bottom, bottom=Model.bottom))\n",
    "# #sediment          = Model.add_material(name=\"Sediment\")\n",
    "\n",
    "\n",
    "# ## Definition of slab shape with 1 layer and 1 halfspace: WEAKZONE\n",
    "\n",
    "# wz_basalticrust = GEO.shapes.Layer3D(top=-0.*u.kilometer, bottom=-15.*u.kilometer)\n",
    "# slopewz = GEO.shapes.HalfSpace(normal=(-1.,0.,1.), origin=(1995.*u.kilometer,1000.*u.kilometer,-0.*u.kilometer))\n",
    "# CompositeShape_wz = slopewz & wz_basalticrust \n",
    "# wz_basalticrust = Model.add_material(name=\"wz_basalticcrust\", shape=CompositeShape_wz)\n",
    "\n",
    "# wz_lithosphere = GEO.shapes.Layer3D(top=-15.*u.kilometer, bottom=-120.*u.kilometer)\n",
    "# #slopeSlab_lithosphere = GEO.shapes.HalfSpace(normal=(-1.,0.,1.), origin=(5000.*u.kilometer,1000.*u.kilometer,-2000.*u.kilometer))\n",
    "# CompositeShape_lithowz = slopewz & wz_lithosphere \n",
    "# wz_lithosphere = Model.add_material(name=\"wz_lithosphere\", shape=CompositeShape_lithowz)\n",
    "\n",
    "\n",
    "\n",
    "# ## Definition of slab shape with 1 layer and 1 halfspace on weak zone\n",
    "\n",
    "# slabLayer_basalticrust = GEO.shapes.Layer3D(top=-0.*u.kilometer, bottom=-15.*u.kilometer)\n",
    "# slopeSlab = GEO.shapes.HalfSpace(normal=(-1.,0.,1.), origin=(2000.*u.kilometer,1000.*u.kilometer,-0.*u.kilometer))\n",
    "# CompositeShape_bc = slopeSlab & slabLayer_basalticrust \n",
    "# Slab_basalticrust = Model.add_material(name=\"Slab_basalticcrust\", shape=CompositeShape_bc)\n",
    "\n",
    "# slabLayer_lithosphere = GEO.shapes.Layer3D(top=-15.*u.kilometer, bottom=-120.*u.kilometer)\n",
    "# #slopeSlab_lithosphere = GEO.shapes.HalfSpace(normal=(-1.,0.,1.), origin=(5000.*u.kilometer,1000.*u.kilometer,-2000.*u.kilometer))\n",
    "# CompositeShape_litho = slopeSlab & slabLayer_lithosphere \n",
    "# Slab_lithosphere = Model.add_material(name=\"Slab_lithosphere\", shape=CompositeShape_litho)\n",
    "\n",
    "\n",
    "\n",
    "\n",
    "# Fig = glucifer.Figure()\n",
    "# Fig.Surface(Model.mesh, Model.projMaterialField, cullface=False, opacity=0.70)\n",
    "# viewer = Fig.viewer(resolution=(1200,600))\n",
    "# viewer = Fig.viewer(axis=True)\n",
    "# viewer.window()\n",
    "\n",
    "# # Model_MaterialField=(Model.projMaterialField)\n"
   ]
  },
  {
   "cell_type": "code",
   "execution_count": 14,
   "metadata": {
    "collapsed": false
   },
   "outputs": [
    {
     "data": {
      "text/html": [
       "<div style=\"min-height: 200px; min-width: 200px; background: #ccc; position: relative; display: inline; float: left; margin-right: 10px;\">\n",
       "<img id=\"imgtarget_5\" draggable=false style=\"margin: 0px; border: 1px solid #aaa;\">\n",
       "\n",
       "           <div style=\"display: none; z-index: 200; position: absolute; top: 5px; right: 5px;\">\n",
       "             <select onchange=\"_wi[5].box.mode = this.value;\">\n",
       "               <option>Rotate</option>\n",
       "               <option>Translate</option>\n",
       "               <option>Zoom</option>\n",
       "             </select>\n",
       "             <input type=\"button\" value=\"Reset\" onclick=\"_wi[5].execute('reset');\">\n",
       "           </div></div>\n",
       "<div style=\"\" class=\"lvctrl\">\n",
       "</div>\n"
      ],
      "text/plain": [
       "<IPython.core.display.HTML object>"
      ]
     },
     "metadata": {},
     "output_type": "display_data"
    },
    {
     "data": {
      "application/javascript": [
       "_wi[5] = new WindowInteractor(5);"
      ],
      "text/plain": [
       "<IPython.core.display.Javascript object>"
      ]
     },
     "metadata": {},
     "output_type": "display_data"
    }
   ],
   "source": [
    "## Definition of materials\n",
    "\n",
    "Model.materialField.data[:] = 0\n",
    "Model.materials = []\n",
    "\n",
    "air               = Model.add_material(name=\"Air\", shape=GEO.shapes.Layer3D(top=Model.top, bottom=2.0 * u.kilometer))\n",
    "stickyAir         = Model.add_material(name=\"StickyAir\", shape=GEO.shapes.Layer3D(top=air.bottom, bottom= 0.0 * u.kilometer)) # or water\n",
    "basalticrust        = Model.add_material(name=\"basalticrust\", shape=GEO.shapes.Layer3D(top=stickyAir.bottom, bottom=-120.0 * u.kilometer))\n",
    "#lithosphere          = Model.add_material(name=\"lithosphere\", shape=GEO.shapes.Layer3D(top=basalticrust.bottom * u.kilometer, bottom=-120.0 * u.kilometer))\n",
    "asthenosphere = Model.add_material(name=\"asthenosphere\", shape=GEO.shapes.Layer3D(top=-120.0 * u.kilometer * u.kilometer, bottom=Model.bottom))\n",
    "#mantle            = Model.add_material(name=\"Mantle\", shape=GEO.shapes.Layer3D(top=asthenosphere.bottom, bottom=Model.bottom))\n",
    "#sediment          = Model.add_material(name=\"Sediment\")\n",
    "\n",
    "\n",
    "## Definition of slab shape with 1 layer and 1 halfspace: WEAKZONE\n",
    "\n",
    "boxwall = GEO.shapes.Box(top=stickyAir.bottom, bottom=-300.0*u.kilometer, minX = 2000.*u.kilometer, minY = 0.*u.kilometer, maxX = 4000.*u.kilometer, maxY = 2000.*u.kilometer)\n",
    "\n",
    "slableft = GEO.shapes.HalfSpace(normal=(-1.,0.,0.), origin=(1500.*u.kilometer,1000.*u.kilometer,-0.*u.kilometer))\n",
    "slabright = GEO.shapes.HalfSpace(normal=(1.,0.,0.), origin=(2000.*u.kilometer,1000.*u.kilometer,-0.*u.kilometer))\n",
    "slopetop = GEO.shapes.HalfSpace(normal=(-.3,0.,1.0), origin=(2000.*u.kilometer,1000.*u.kilometer,-0.*u.kilometer))\n",
    "slopebottom = GEO.shapes.HalfSpace(normal=(.3,0.,-1.0), origin=(2000.*u.kilometer,1000.*u.kilometer,-300.*u.kilometer))\n",
    "top = GEO.shapes.HalfSpace(normal=(-0.,0.,1.), origin=(2000.*u.kilometer,1000.*u.kilometer,-0.*u.kilometer))\n",
    "\n",
    "\n",
    "\n",
    "CompositeShape_wz =slableft & slopetop & slopebottom & slabright\n",
    "CompositeShape_final = GEO.shapes.MultiShape([CompositeShape_wz, boxwall])\n",
    "wz_basalticrust = Model.add_material(name=\"wz_basalticcrust\", shape=CompositeShape_final)\n",
    "\n",
    "\n",
    "\n",
    "\n",
    "\n",
    "\n",
    "Fig = glucifer.Figure()\n",
    "Fig.Points(Model.swarm, Model.materialField, cullface=False, opacity=1.)\n",
    "viewer = Fig.viewer(resolution=(1200,600))\n",
    "viewer = Fig.viewer(axis=True)\n",
    "viewer.window()\n",
    "\n",
    "# Model_MaterialField=(Model.projMaterialField)\n",
    "\n"
   ]
  },
  {
   "cell_type": "code",
   "execution_count": 38,
   "metadata": {
    "collapsed": true
   },
   "outputs": [],
   "source": [
    "boxwall = GEO.shapes.Box(top=stickyAir.bottom, bottom=-300.0*u.kilometer, minX = 2000.*u.kilometer, minY = 0.*u.kilometer, maxX = 4000.*u.kilometer, maxY = 2000.*u.kilometer)\n",
    "\n",
    "slableft = GEO.shapes.HalfSpace(normal=(-1.,0.,0.), origin=(1500.*u.kilometer,1000.*u.kilometer,-0.*u.kilometer))\n",
    "slabright = GEO.shapes.HalfSpace(normal=(1.,0.,0.), origin=(2000.*u.kilometer,1000.*u.kilometer,-0.*u.kilometer))\n",
    "slopetop = GEO.shapes.HalfSpace(normal=(-1.,0.,2.0), origin=(2000.*u.kilometer,1000.*u.kilometer,-0.*u.kilometer))\n",
    "slopebottom = GEO.shapes.HalfSpace(normal=(1.,0.,-2.0), origin=(2000.*u.kilometer,1000.*u.kilometer,-300.*u.kilometer))\n",
    "top = GEO.shapes.HalfSpace(normal=(-0.,0.,1.), origin=(2000.*u.kilometer,1000.*u.kilometer,-0.*u.kilometer))\n",
    "\n",
    "\n",
    "\n",
    "CompositeShape_wz =slableft & slopetop & slopebottom & slabright\n",
    "CompositeShape_final = GEO.shapes.MultiShape([CompositeShape_wz, boxwall])\n",
    "wz_basalticrust = Model.add_material(name=\"wz_basalticcrust\", shape=CompositeShape_final)\n",
    "\n"
   ]
  },
  {
   "cell_type": "markdown",
   "metadata": {
    "deletable": true,
    "editable": true
   },
   "source": [
    "## Limiters\n"
   ]
  },
  {
   "cell_type": "code",
   "execution_count": 7,
   "metadata": {
    "collapsed": true,
    "deletable": true,
    "editable": true
   },
   "outputs": [],
   "source": [
    "Model.stressLimiter = 300.0 * u.megapascal\n",
    "Model.maxViscosity = 5.0e23 * u.pascal * u.second\n",
    "Model.minViscosity = 1.0e19 * u.pascal * u.second\n",
    "Model.diffusivity = 1.0e-6 * u.metre**2 / u.second \n",
    "Model.capacity    = 1000. * u.joule / (u.kelvin * u.kilogram)"
   ]
  },
  {
   "cell_type": "markdown",
   "metadata": {
    "deletable": true,
    "editable": true
   },
   "source": [
    "### Material specific definitions\n"
   ]
  },
  {
   "cell_type": "code",
   "execution_count": 8,
   "metadata": {
    "collapsed": true,
    "deletable": true,
    "editable": true
   },
   "outputs": [],
   "source": [
    "# Diffusivity\n",
    "\n",
    "air.diffusivity = 1.0e-6 * u.metre**2 / u.second\n",
    "stickyAir.diffusivity = 1.0e-6 * u.metre**2 / u.second\n",
    "\n",
    "wz_basalticrust.diffusivity   = 1.1e-6 * u.metre**2 / u.second\n",
    "wz_lithosphere.diffusivity   = 1.1e-6 * u.metre**2 / u.second\n",
    "\n",
    "basalticrust.diffusivity = 1.1e-6 * u.metre**2 / u.second\n",
    "Slab_basalticrust.diffusivity   = 1.1e-6 * u.metre**2 / u.second\n",
    "lithosphere.diffusivity = 1.1e-6 * u.metre**2 / u.second\n",
    "Slab_lithosphere.diffusivity = 1.1e-6 * u.metre**2 / u.second\n",
    "asthenosphere.diffusivity = 1.1e-6 * u.metre**2 / u.second\n",
    "mantle.diffusivity = 1.1e-6 * u.metre**2 / u.second\n",
    "\n",
    "Model.diffusivity = 1.0e-6 * u.metre**2 / u.second \n",
    "\n",
    "\n",
    "# capacity\n",
    "air.capacity = 100. * u.joule / (u.kelvin * u.kilogram)\n",
    "stickyAir.capacity = 100. * u.joule / (u.kelvin * u.kilogram)\n",
    "\n",
    "Model.capacity    = 1000. * u.joule / (u.kelvin * u.kilogram)"
   ]
  },
  {
   "cell_type": "code",
   "execution_count": 9,
   "metadata": {
    "collapsed": false,
    "deletable": true,
    "editable": true
   },
   "outputs": [],
   "source": [
    "# Density\n",
    "\n",
    "#sediment.density          = GEO.LinearDensity(reference_density=2200. * u.kilogram / u.metre**3)\n",
    "air.density               = 1. * u.kilogram / u.metre**3\n",
    "stickyAir.density         = 1. * u.kilogram / u.metre**3\n",
    "\n",
    "wz_lithosphere.density        = GEO.LinearDensity(2000. * u.kilogram / u.metre**3, thermalExpansivity=3e-5 / u.kelvin)\n",
    "wz_basalticrust.density        = GEO.LinearDensity(2000. * u.kilogram / u.metre**3, thermalExpansivity=3e-5 / u.kelvin)\n",
    "\n",
    "basalticrust.density        = GEO.LinearDensity(3000. * u.kilogram / u.metre**3, thermalExpansivity=3e-5 / u.kelvin)\n",
    "Slab_basalticrust.density        = GEO.LinearDensity(3000. * u.kilogram / u.metre**3, thermalExpansivity=3e-5 / u.kelvin)\n",
    "#midcrust.density          = GEO.LinearDensity(2620. * u.kilogram / u.metre**3, thermalExpansivity=3e-5 / u.kelvin)\n",
    "#lowercrust.density        = GEO.LinearDensity(2720. * u.kilogram / u.metre**3, thermalExpansivity=3e-5 / u.kelvin)\n",
    "lithosphere.density = GEO.LinearDensity(3300. * u.kilogram / u.metre**3, thermalExpansivity=3e-5 / u.kelvin)\n",
    "Slab_lithosphere.density = GEO.LinearDensity(3300. * u.kilogram / u.metre**3, thermalExpansivity=3e-5 / u.kelvin)\n",
    "\n",
    "asthenosphere.density     = GEO.LinearDensity(3395. * u.kilogram / u.metre**3, thermalExpansivity=3e-5 / u.kelvin)\n",
    "mantle.density            = GEO.LinearDensity(4000. * u.kilogram / u.metre**3, thermalExpansivity=3e-5 / u.kelvin)\n"
   ]
  },
  {
   "cell_type": "code",
   "execution_count": 10,
   "metadata": {
    "collapsed": true,
    "deletable": true,
    "editable": true
   },
   "outputs": [],
   "source": [
    "# Radiogenic Heat Production\n",
    "\n",
    "#sediment.radiogenicHeatProd   = 0.60 * u.microwatt / u.meter**3 # faccenda 2008: 1-5\n",
    "\n",
    "wz_lithosphere.radiogenicHeatProd = 0.25 * u.microwatt / u.meter**3 # faccenda 2008: 1-5\n",
    "wz_basalticrust.radiogenicHeatProd = 0.25 * u.microwatt / u.meter**3 # faccenda 2008: 1-5\n",
    "\n",
    "\n",
    "basalticrust.radiogenicHeatProd = 0.25 * u.microwatt / u.meter**3 # faccenda 2008: 1-5\n",
    "Slab_basalticrust.radiogenicHeatProd = 0.25 * u.microwatt / u.meter**3 # faccenda 2008: 1-5\n",
    "#midcrust.radiogenicHeatProd   = 0.40 * u.microwatt / u.meter**3 # faccenda 2008: 1-5\n",
    "#lowercrust.radiogenicHeatProd = 0.30 * u.microwatt / u.meter**3 # faccenda 2008: 0.25, ocenic crust:0,25\n",
    "lithosphere.radiogenicHeatProd = 0.022 * u.microwatt / u.meter**3 # faccenda 2008: 0.022\n",
    "Slab_lithosphere.radiogenicHeatProd = 0.022 * u.microwatt / u.meter**3 # faccenda 2008: 0.022\n",
    "\n",
    "asthenosphere.radiogenicHeatProd = 0.02e-6 * u.microwatt / u.meter**3\n",
    "mantle.radiogenicHeatProd = 0.02e-6 * u.microwatt / u.meter**3"
   ]
  },
  {
   "cell_type": "markdown",
   "metadata": {
    "deletable": true,
    "editable": true
   },
   "source": [
    "### Viscous Rheologies"
   ]
  },
  {
   "cell_type": "code",
   "execution_count": 11,
   "metadata": {
    "collapsed": false,
    "deletable": true,
    "editable": true
   },
   "outputs": [],
   "source": [
    "rh = GEO.ViscousCreepRegistry() \n",
    "\n",
    "viscosity = GEO.ViscousCreep()\n",
    "viscosity.activationEnergy = 200. * u.kilojoule\n",
    "\n",
    "air.viscosity                = 1e18 * u.pascal * u.second\n",
    "stickyAir.viscosity          = 1e19 * u.pascal * u.second # or water\n",
    "\n",
    "# sediment.viscosity           = rh.Kronenberg_et_al_1984 # rh.Gleason_and_Tullis_1995\n",
    "# sediment.minViscosity        = 1e18 * u.pascal * u.second\n",
    "# sediment.maxViscosity        = 5e23 * u.pascal * u.second\n",
    "\n",
    "\n",
    "wz_lithosphere.viscosity    = 1.0 * rh.Goetze_et_al_1978\n",
    "wz_lithosphere.minViscosity = 1e18 * u.pascal * u.second\n",
    "wz_lithosphere.maxViscosity = 5e23 * u.pascal * u.second\n",
    "wz_basalticrust.viscosity    = 1.0 * rh.Goetze_et_al_1978\n",
    "wz_basalticrust.minViscosity = 1e18 * u.pascal * u.second\n",
    "wz_basalticrust.maxViscosity = 5e23 * u.pascal * u.second\n",
    "\n",
    "\n",
    "\n",
    "basalticrust.viscosity    = 1.0 * rh.Goetze_et_al_1978\n",
    "basalticrust.minViscosity = 1e18 * u.pascal * u.second\n",
    "basalticrust.maxViscosity = 5e23 * u.pascal * u.second\n",
    "Slab_basalticrust.viscosity    = 1.0 * rh.Goetze_et_al_1978\n",
    "Slab_basalticrust.minViscosity = 1e18 * u.pascal * u.second\n",
    "Slab_basalticrust.maxViscosity = 5e23 * u.pascal * u.second\n",
    "\n",
    "\n",
    "\n",
    "# midcrust.viscosity    = 1.0 * rh.Gleason_and_Tullis_1995\n",
    "# midcrust.minViscosity = 1e18 * u.pascal * u.second\n",
    "# midcrust.maxViscosity = 5e23 * u.pascal * u.second\n",
    "\n",
    "# lowercrust.viscosity    = 1.0 * rh.Wang_et_al_2012\n",
    "# lowercrust.minViscosity = 1e18 * u.pascal * u.second\n",
    "# lowercrust.maxViscosity = 5e23 * u.pascal * u.second\n",
    "\n",
    "lithosphere.viscosity    = 1.0 * rh.Brace_and_Kohlstedt_1980 # 5.0 * rh.Karato_and_Wu_1990\n",
    "lithosphere.minViscosity = 1e18 * u.pascal * u.second\n",
    "lithosphere.maxViscosity = 5e23 * u.pascal * u.second\n",
    "Slab_lithosphere.viscosity    = 1.0 * rh.Brace_and_Kohlstedt_1980 # 5.0 * rh.Karato_and_Wu_1990\n",
    "Slab_lithosphere.minViscosity = 1e18 * u.pascal * u.second\n",
    "Slab_lithosphere.maxViscosity = 5e23 * u.pascal * u.second\n",
    "\n",
    "\n",
    "asthenosphere.viscosity    = rh.Brace_and_Kohlstedt_1980 \n",
    "asthenosphere.minViscosity = 1e18 * u.pascal * u.second\n",
    "asthenosphere.maxViscosity = 5e23 * u.pascal * u.second\n",
    "\n",
    "mantle.viscosity    = rh.Brace_and_Kohlstedt_1980 # 1.0 * rh.Karato_and_Wu_1990\n",
    "mantle.minViscosity = 1e18 * u.pascal * u.second\n",
    "mantle.maxViscosity = 5e23 * u.pascal * u.second\n",
    "\n",
    "minimumviscosity   = GEO.ConstantViscosity(1e18 * u.pascal * u.second)\n",
    "maximumviscosity   = GEO.ConstantViscosity(5e23 * u.pascal * u.second)\n",
    "\n",
    "# rh.Gleason_and_Tullis_1995\n"
   ]
  },
  {
   "cell_type": "markdown",
   "metadata": {
    "deletable": true,
    "editable": true
   },
   "source": [
    "## Plasticities"
   ]
  },
  {
   "cell_type": "code",
   "execution_count": 12,
   "metadata": {
    "collapsed": true,
    "deletable": true,
    "editable": true
   },
   "outputs": [],
   "source": [
    "pl = GEO.PlasticityRegistry()"
   ]
  },
  {
   "cell_type": "code",
   "execution_count": 13,
   "metadata": {
    "collapsed": false,
    "deletable": true,
    "editable": true
   },
   "outputs": [],
   "source": [
    "# sediment.plasticity     = pl.Rey_et_al_2010_UpperCrust\n",
    "# sediment.plasticity.frictionCoefficient = 0.268\n",
    "# sediment.plasticity.frictionAfterSoftening = 0.01\n",
    "# sediment.plasticity.epsilon2 = 0.10\n",
    "# sediment.stressLimiter  = 20 * u.megapascal\n",
    "\n",
    "\n",
    "wz_basalticrust.plasticity     = pl.Rey_et_al_2010_Mantle\n",
    "wz_basalticrust.stressLimiter  = 300 * u.megapascal\n",
    "wz_lithosphere.plasticity     = pl.Rey_et_al_2010_Mantle\n",
    "wz_lithosphere.stressLimiter  = 300 * u.megapascal\n",
    "\n",
    "\n",
    "basalticrust.plasticity     = pl.Rey_et_al_2010_UpperCrust\n",
    "basalticrust.plasticity.frictionCoefficient = 0.268\n",
    "basalticrust.plasticity.frictionAfterSoftening = 0.03\n",
    "basalticrust.plasticity.epsilon2 = 0.15\n",
    "basalticrust.stressLimiter  = 100 * u.megapascal\n",
    "\n",
    "Slab_basalticrust.plasticity     = pl.Rey_et_al_2010_UpperCrust\n",
    "Slab_basalticrust.plasticity.frictionCoefficient = 0.268\n",
    "Slab_basalticrust.plasticity.frictionAfterSoftening = 0.03\n",
    "Slab_basalticrust.plasticity.epsilon2 = 0.15\n",
    "Slab_basalticrust.stressLimiter  = 100 * u.megapascal\n",
    "\n",
    "\n",
    "# midcrust.plasticity     = pl.Rey_et_al_2010_UpperCrust\n",
    "# midcrust.plasticity.frictionCoefficient = 0.268\n",
    "# midcrust.plasticity.frictionAfterSoftening = 0.07\n",
    "# midcrust.stressLimiter  = 120 * u.megapascal\n",
    "\n",
    "# lowercrust.plasticity     = pl.Rey_et_al_2010_LowerCrust\n",
    "# lowercrust.stressLimiter  = 150 * u.megapascal\n",
    "\n",
    "lithosphere.plasticity     = pl.Rey_et_al_2010_Mantle\n",
    "lithosphere.stressLimiter  = 300 * u.megapascal\n",
    "\n",
    "Slab_lithosphere.plasticity     = pl.Rey_et_al_2010_Mantle\n",
    "Slab_lithosphere.stressLimiter  = 300 * u.megapascal\n",
    "\n",
    "asthenosphere.plasticity     = pl.Rey_et_al_2010_Mantle\n",
    "asthenosphere.stressLimiter  = 380 * u.megapascal # Rey and Muller 2010\n",
    "\n",
    "mantle.plasticity             = pl.Rey_et_al_2010_Mantle\n",
    "\n",
    "# or\n",
    "\n",
    "# mantle.plasticity = GEO.DruckerPrager(\n",
    "#    cohesion=20.*u.megapascal,\n",
    "#    cohesionAfterSoftening=20.*u.megapascal,\n",
    "#    frictionCoefficient=0.12,\n",
    "#    frictionAfterSoftening=0.05, # Tutu et al., 2018\n",
    "#    epsilon1=0.01, epsilon2=1.0)\n",
    "\n",
    "\n",
    "#pl.Rey_et_al_2010_UpperCrust\n"
   ]
  },
  {
   "cell_type": "code",
   "execution_count": 16,
   "metadata": {
    "collapsed": false,
    "deletable": true,
    "editable": true
   },
   "outputs": [],
   "source": [
    "#basalticrust.plasticity"
   ]
  },
  {
   "cell_type": "markdown",
   "metadata": {
    "deletable": true,
    "editable": true
   },
   "source": [
    "## Add Temperature Boundary Conditions\n",
    "\n",
    "Temperature is 293.15K at the top and 3570K at the bottom. Temperature is constant in the mantle and the air layers. "
   ]
  },
  {
   "cell_type": "code",
   "execution_count": 18,
   "metadata": {
    "collapsed": false,
    "deletable": true,
    "editable": true
   },
   "outputs": [
    {
     "data": {
      "text/plain": [
       "[<underworld.conditions._conditions.DirichletCondition at 0x7f1cfd4c45d0>]"
      ]
     },
     "execution_count": 18,
     "metadata": {},
     "output_type": "execute_result"
    }
   ],
   "source": [
    "Model.set_temperatureBCs(top=293.15 * u.degK, \n",
    "                         bottom=3570. * u.degK, \n",
    "                         indexSets=[(mantle.indices, 3570. * u.degK),\n",
    "                                    (stickyAir.indices, 293.15 * u.degK ),\n",
    "                                    (air.indices, 293.15 * u.degK )]) \n",
    "\n",
    "#materials=[(air, 293.15 * u.degK),(stickyAir, 293.15 * u.degK), (asthenosphere.indices, 1603.15 * u.degK), (mantle.indices, 3570 * u.degK)])  #"
   ]
  },
  {
   "cell_type": "markdown",
   "metadata": {
    "deletable": true,
    "editable": true
   },
   "source": [
    "## Add Velocity Boundary Conditions\n",
    "\n",
    "We push on the right side. The back and front wall are freeslip. We use a pseudo isostatic support condition at the bottom."
   ]
  },
  {
   "cell_type": "code",
   "execution_count": 19,
   "metadata": {
    "collapsed": false,
    "deletable": true,
    "editable": true
   },
   "outputs": [
    {
     "data": {
      "text/plain": [
       "[<underworld.conditions._conditions.DirichletCondition at 0x7f1cf0851850>]"
      ]
     },
     "execution_count": 19,
     "metadata": {},
     "output_type": "execute_result"
    }
   ],
   "source": [
    "Model.set_velocityBCs(left=[0., None, None],\n",
    "                      right=[0., None, None],\n",
    "                      back=[None, 0., None],\n",
    "                      front=[None, 0., None],\n",
    "                      bottom=[None, None, 0.],\n",
    "                      top=[None, None, 0.])"
   ]
  },
  {
   "cell_type": "markdown",
   "metadata": {
    "deletable": true,
    "editable": true
   },
   "source": [
    "# Add Passive Tracers "
   ]
  },
  {
   "cell_type": "code",
   "execution_count": 21,
   "metadata": {
    "collapsed": false,
    "deletable": true,
    "editable": true
   },
   "outputs": [],
   "source": [
    "#help(Model.add_passive_tracers)"
   ]
  },
  {
   "cell_type": "code",
   "execution_count": 22,
   "metadata": {
    "collapsed": false,
    "deletable": true,
    "editable": true
   },
   "outputs": [],
   "source": [
    "import numpy as np\n",
    "\n",
    "xp = np.linspace(GEO.nd(Model.minCoord[0]), GEO.nd(Model.maxCoord[0]), 100)\n",
    "yp = np.linspace(GEO.nd(Model.minCoord[1]), GEO.nd(Model.maxCoord[1]), 100)\n",
    "\n",
    "xp, yp = np.meshgrid(xp, yp)\n",
    "xp = xp.flatten()\n",
    "yp = yp.flatten()\n",
    "zp = np.zeros(xp.shape)\n",
    "\n",
    "surface_tracers = Model.add_passive_tracers(name=\"Surface2\", vertices=[xp, yp, zp])\n",
    "moho_tracers = Model.add_passive_tracers(name=\"Moho\", vertices=[xp, yp, zp+GEO.nd(asthenosphere.top)])\n",
    "#moho_tracers = Model.add_passive_tracers(name=\"Moho\", vertices=[x,y-40.*u.kilometer])\n",
    "#moho_tracers.add_tracked_field(Model.pressureField, name=\"Pressure\" , dataType=\"float\", units=u.megapascal, count=1, overwrite=True)\n",
    "#surface_tracers.add_tracked_field(Model.pressureField, name=\"Pressure\" , dataType=\"float\", units=u.megapascal, count=1, overwrite=True)\n",
    "\n",
    "#print moho_tracers\n",
    "#print surface_tracers"
   ]
  },
  {
   "cell_type": "markdown",
   "metadata": {
    "deletable": true,
    "editable": true
   },
   "source": [
    "import numpy as np\n",
    "\n",
    "x2 = np.linspace(Model.minCoord[0], Model.maxCoord[0], 1000) * u.kilometer\n",
    "y2 = np.linspace(Model.minCoord[0], Model.maxCoord[0], 1000) * u.kilometer\n",
    "x2, y2 = np.meshgrid(xp, yp)\n",
    "x2 = x2.flatten()\n",
    "y2 = y2.flatten()\n",
    "z2 = -80. * u.kilometer\n",
    "\n",
    "level_tracers = Model.add_passive_tracers(name=\"Level\", vertices=[x2,y2,z2])\n",
    "level_tracers2 = Model.level_tracers.add_tracked_field(Model.strainRateField, name=\"Lev_StrainRate\", dataType=\"float\", units=u.sec, count=1, overwrite=True)"
   ]
  },
  {
   "cell_type": "markdown",
   "metadata": {
    "deletable": true,
    "editable": true
   },
   "source": [
    "# Add ellipses"
   ]
  },
  {
   "cell_type": "markdown",
   "metadata": {
    "deletable": true,
    "editable": true
   },
   "source": [
    "x_c, y_c, z_c = GEO.circles_grid(radius=2.0*u.kilometer, \n",
    "                    minCoord=[0. * u.kilometer, 0. * u.kilometer, lowercrust.bottom], \n",
    "                    maxCoord=[10000. * u.kilometer, 2000. * u.kilometer, uppercrust.top])\n",
    "circles_c = Model.add_passive_tracers(name=\"FSE_Crust\", vertices=[x_c, y_c, z_c])"
   ]
  },
  {
   "cell_type": "markdown",
   "metadata": {
    "deletable": true,
    "editable": true
   },
   "source": [
    "# Initial model"
   ]
  },
  {
   "cell_type": "code",
   "execution_count": 23,
   "metadata": {
    "collapsed": false,
    "deletable": true,
    "editable": true
   },
   "outputs": [],
   "source": [
    "# import glucifer\n",
    "# Fig = glucifer.Figure(figsize=(1200,400))\n",
    "# Fig.Points(surface_tracers.swarm, pointSize=2.0)\n",
    "# Fig.Points(moho_tracers.swarm, pointSize=2.0)\n",
    "# #Fig.Points(circles_c.swarm, pointSize=1.5)\n",
    "# Fig.Points(Model.swarm, Model.materialField, fn_size=2.0)\n",
    "# Fig.show()\n"
   ]
  },
  {
   "cell_type": "code",
   "execution_count": 24,
   "metadata": {
    "collapsed": false,
    "deletable": true,
    "editable": true
   },
   "outputs": [],
   "source": [
    "# import numpy as np\n",
    "# x2 = np.linspace(Model.minCoord[0], Model.maxCoord[0], 3000) * u.kilometer\n",
    "# y2 = -80. * u.kilometer\n",
    "# level_tracers = Model.add_passive_tracers(name=\"Level\", vertices=[x2,y2])\n",
    "# level_tracers2 = Model.level_tracers.add_tracked_field(Model.strainRateField, name=\"Lev_StrainRate\", dataType=\"float\", units=u.sec, count=1, overwrite=True)\n",
    "\n"
   ]
  },
  {
   "cell_type": "markdown",
   "metadata": {
    "deletable": true,
    "editable": true
   },
   "source": [
    "# Surface Processes / BADLANDS"
   ]
  },
  {
   "cell_type": "code",
   "execution_count": 25,
   "metadata": {
    "collapsed": false,
    "deletable": true,
    "editable": true
   },
   "outputs": [],
   "source": [
    "# Model.surfaceProcesses = GEO.surfaceProcesses.Badlands(airIndex=[air.index], sedimentIndex=sediment.index,\n",
    "#                                            XML=\"ressources/badlands.xml\", resolution=1. * u.kilometer, \n",
    "#                                            checkpoint_interval=0.01 * u.megayears)\n",
    "\n",
    "\n",
    "#Model.surfaceProcesses = GEO.surfaceProcesses.SedimentationThreshold(Model.swarm, Model.materialField, air=[air, stickyAir], sediment=[sediment], threshold=0.)"
   ]
  },
  {
   "cell_type": "code",
   "execution_count": 26,
   "metadata": {
    "collapsed": true,
    "deletable": true,
    "editable": true
   },
   "outputs": [],
   "source": [
    "GEO.rcParams[\"solver\"] = \"mg\" # This is the default so that line is technically not needed."
   ]
  },
  {
   "cell_type": "code",
   "execution_count": 27,
   "metadata": {
    "collapsed": false,
    "deletable": true,
    "editable": true
   },
   "outputs": [],
   "source": [
    "Model.init_model()"
   ]
  },
  {
   "cell_type": "code",
   "execution_count": null,
   "metadata": {
    "collapsed": false,
    "deletable": true,
    "editable": true
   },
   "outputs": [],
   "source": [
    "#Fig = Model.plot.temperature(script=[\"rotate z 30\", \"rotate x -60\"], figsize=(900,600))"
   ]
  },
  {
   "cell_type": "code",
   "execution_count": null,
   "metadata": {
    "collapsed": false,
    "deletable": true,
    "editable": true
   },
   "outputs": [],
   "source": [
    "#Fig = Model.plot.pressureField(script=[\"rotate z 30\", \"rotate x -60\"], figsize=(900,600))"
   ]
  },
  {
   "cell_type": "code",
   "execution_count": null,
   "metadata": {
    "collapsed": false,
    "deletable": true,
    "editable": true
   },
   "outputs": [],
   "source": [
    "mohoT = Model.temperature.evaluate(moho_tracers.swarm)[:,0].mean()\n",
    "#print(\"Moho Temperature = \", GEO.Dimensionalize(mohoT, u.degC)) "
   ]
  },
  {
   "cell_type": "code",
   "execution_count": null,
   "metadata": {
    "collapsed": false,
    "deletable": true,
    "editable": true
   },
   "outputs": [],
   "source": [
    "Model.run_for( 20* u.millionyear, checkpoint_interval=1 * u.megayear)\n",
    "u.\n"
   ]
  },
  {
   "cell_type": "code",
   "execution_count": null,
   "metadata": {
    "collapsed": true,
    "deletable": true,
    "editable": true
   },
   "outputs": [],
   "source": []
  }
 ],
 "metadata": {
  "kernelspec": {
   "display_name": "Python 2",
   "language": "python",
   "name": "python2"
  },
  "language_info": {
   "codemirror_mode": {
    "name": "ipython",
    "version": 2
   },
   "file_extension": ".py",
   "mimetype": "text/x-python",
   "name": "python",
   "nbconvert_exporter": "python",
   "pygments_lexer": "ipython2",
   "version": "2.7.9"
  }
 },
 "nbformat": 4,
 "nbformat_minor": 2
}
