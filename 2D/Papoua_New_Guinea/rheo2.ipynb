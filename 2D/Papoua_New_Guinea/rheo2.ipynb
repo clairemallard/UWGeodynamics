{
 "cells": [
  {
   "cell_type": "markdown",
   "metadata": {},
   "source": [
    "# Mechanical Stratigraphy of Fold and Thrust Belts"
   ]
  },
  {
   "cell_type": "code",
   "execution_count": 1,
   "metadata": {},
   "outputs": [
    {
     "name": "stdout",
     "output_type": "stream",
     "text": [
      "loaded rc file /opt/UWGeodynamics/UWGeodynamics/uwgeo-data/uwgeodynamicsrc\n"
     ]
    }
   ],
   "source": [
    "import UWGeodynamics as GEO\n",
    "import glucifer\n",
    "import numpy as np"
   ]
  },
  {
   "cell_type": "code",
   "execution_count": 2,
   "metadata": {},
   "outputs": [],
   "source": [
    "u = GEO.UnitRegistry"
   ]
  },
  {
   "cell_type": "markdown",
   "metadata": {},
   "source": [
    "## Scaling"
   ]
  },
  {
   "cell_type": "code",
   "execution_count": 3,
   "metadata": {},
   "outputs": [],
   "source": [
    "half_rate = 10 * u.millimeter / u.year\n",
    "model_length = 192e3 * u.meter\n",
    "surfaceTemp = 273.15 * u.degK\n",
    "baseModelTemp = 1603.15 * u.degK\n",
    "bodyforce = 2700 * u.kilogram / u.metre**3 * 9.81 * u.meter / u.second**2\n",
    "\n",
    "KL = model_length\n",
    "Kt = KL / half_rate\n",
    "KM = bodyforce * KL**2 * Kt**2\n",
    "KT = (baseModelTemp - surfaceTemp)\n",
    "\n",
    "GEO.scaling_coefficients[\"[length]\"] = KL\n",
    "GEO.scaling_coefficients[\"[time]\"] = Kt\n",
    "GEO.scaling_coefficients[\"[mass]\"]= KM\n",
    "GEO.scaling_coefficients[\"[temperature]\"] = KT"
   ]
  },
  {
   "cell_type": "markdown",
   "metadata": {},
   "source": [
    "# Model setup\n",
    "\n",
    "The model is 192km long and 36 km wide\n",
    "12 km of air and 26 km into the earths interior"
   ]
  },
  {
   "cell_type": "code",
   "execution_count": 4,
   "metadata": {},
   "outputs": [],
   "source": [
    "Model = GEO.Model(elementRes=(384, 72), #384,72 = 500m resolution\n",
    "                  minCoord=(0. * u.kilometer, -24. * u.kilometer), \n",
    "                  maxCoord=(192. * u.kilometer, 12. * u.kilometer), \n",
    "                  gravity=(0.0, -9.81 * u.meter / u.second**2))"
   ]
  },
  {
   "cell_type": "code",
   "execution_count": 5,
   "metadata": {},
   "outputs": [],
   "source": [
    "Model.outputDir=\"FTB_538_O\""
   ]
  },
  {
   "cell_type": "markdown",
   "metadata": {},
   "source": [
    "For all rocks, we assume a heat capacity of 1000 J kg−1 K−1 and thermal diffusivity of 9·10−7 m2 s−1. The crustal thermal conductivity is therefore 2.45 W m−1 K−1."
   ]
  },
  {
   "cell_type": "code",
   "execution_count": 6,
   "metadata": {},
   "outputs": [],
   "source": [
    "Model.diffusivity = 9e-7 * u.metre**2 / u.second \n",
    "Model.capacity    = 1000. * u.joule / (u.kelvin * u.kilogram)"
   ]
  },
  {
   "cell_type": "markdown",
   "metadata": {},
   "source": [
    "### Air Layer"
   ]
  },
  {
   "cell_type": "code",
   "execution_count": 7,
   "metadata": {},
   "outputs": [],
   "source": [
    "stickyair = Model.add_material(name=\"stickyair\", shape=GEO.shapes.Layer(top=Model.top, bottom=0 * u.kilometer))\n",
    "stickyair.density = 1. * u.kilogram / u.metre**3\n",
    "stickyair.diffusivity = 1e-6 * u.metre**2 / u.second\n",
    "stickyair.capacity = 1000. * u.joule / (u.kelvin * u.kilogram)"
   ]
  },
  {
   "cell_type": "markdown",
   "metadata": {},
   "source": [
    "### Sedimentary Layers"
   ]
  },
  {
   "cell_type": "code",
   "execution_count": 8,
   "metadata": {},
   "outputs": [],
   "source": [
    "#Sedimentary Layer 1 2250 -2200\n",
    "sedlayer1a = Model.add_material(name=\"Sed_Layer1\", shape=GEO.shapes.Layer(top=0. * u.kilometer, bottom=-1. * u.kilometer))\n",
    "sedlayer1a.radiogenicHeatProd = 7.67e-7 * u.watt / u.meter**3\n",
    "sedlayer1a.density  = 2100. * u.kilogram / u.metre**3\n",
    "\n",
    "sedlayer1b = Model.add_material(name=\"Sed_Layer1\", shape=GEO.shapes.Layer(top=-1. * u.kilometer, bottom=-2. * u.kilometer))\n",
    "sedlayer1b.radiogenicHeatProd = 7.67e-7 * u.watt / u.meter**3\n",
    "sedlayer1b.density  = 2050. * u.kilogram / u.metre**3\n",
    "\n",
    "sedlayer1c = Model.add_material(name=\"Sed_Layer1\", shape=GEO.shapes.Layer(top=-2. * u.kilometer, bottom=-3. * u.kilometer))\n",
    "sedlayer1c.radiogenicHeatProd = 7.67e-7 * u.watt / u.meter**3\n",
    "sedlayer1c.density  = 2100. * u.kilogram / u.metre**3\n",
    "\n",
    "sedlayer1d = Model.add_material(name=\"Sed_Layer1\", shape=GEO.shapes.Layer(top=-3. * u.kilometer, bottom=-4. * u.kilometer))\n",
    "sedlayer1d.radiogenicHeatProd = 7.67e-7 * u.watt / u.meter**3\n",
    "sedlayer1d.density  = 2050. * u.kilogram / u.metre**3\n",
    "\n",
    "\n",
    "#Sedimentary Layer 2 2650 2700\n",
    "sedlayer2a = Model.add_material(name=\"Sed_Layer2\", shape=GEO.shapes.Layer(top=-4. * u.kilometer, bottom=-5. * u.kilometer))\n",
    "sedlayer2a.radiogenicHeatProd = 7.67e-7 * u.watt / u.meter**3\n",
    "sedlayer2a.density  = 2700. * u.kilogram / u.metre**3\n",
    "\n",
    "sedlayer2b = Model.add_material(name=\"Sed_Layer2\", shape=GEO.shapes.Layer(top=-5. * u.kilometer, bottom=-6. * u.kilometer))\n",
    "sedlayer2b.radiogenicHeatProd = 7.67e-7 * u.watt / u.meter**3\n",
    "sedlayer2b.density  = 2650. * u.kilogram / u.metre**3\n",
    "\n",
    "sedlayer2c = Model.add_material(name=\"Sed_Layer2\", shape=GEO.shapes.Layer(top=-6. * u.kilometer, bottom=-7. * u.kilometer))\n",
    "sedlayer2c.radiogenicHeatProd = 7.67e-7 * u.watt / u.meter**3\n",
    "sedlayer2c.density  = 2700. * u.kilogram / u.metre**3\n",
    "\n",
    "sedlayer2d = Model.add_material(name=\"Sed_Layer2\", shape=GEO.shapes.Layer(top=-7. * u.kilometer, bottom=-8. * u.kilometer))\n",
    "sedlayer2d.radiogenicHeatProd = 7.67e-7 * u.watt / u.meter**3\n",
    "sedlayer2d.density  = 2650. * u.kilogram / u.metre**3\n",
    "\n",
    "\n",
    "\n",
    "\n",
    "#Sedimentary Layer 3 2350 25\n",
    "sedlayer3a = Model.add_material(name=\"Sed_Layer3\", shape=GEO.shapes.Layer(top=-8. * u.kilometer, bottom=-9. * u.kilometer))\n",
    "sedlayer3a.radiogenicHeatProd = 7.67e-7 * u.watt / u.meter**3\n",
    "sedlayer3a.density  = 2350. * u.kilogram / u.metre**3\n",
    "\n",
    "sedlayer3b = Model.add_material(name=\"Sed_Layer3\", shape=GEO.shapes.Layer(top=-9. * u.kilometer, bottom=-10. * u.kilometer))\n",
    "sedlayer3b.radiogenicHeatProd = 7.67e-7 * u.watt / u.meter**3\n",
    "sedlayer3b.density  = 2300. * u.kilogram / u.metre**3\n",
    "\n",
    "sedlayer3c = Model.add_material(name=\"Sed_Layer3\", shape=GEO.shapes.Layer(top=-10. * u.kilometer, bottom=-11. * u.kilometer))\n",
    "sedlayer3c.radiogenicHeatProd = 7.67e-7 * u.watt / u.meter**3\n",
    "sedlayer3c.density  = 2350. * u.kilogram / u.metre**3\n",
    "\n",
    "sedlayer3d = Model.add_material(name=\"Sed_Layer3\", shape=GEO.shapes.Layer(top=-11. * u.kilometer, bottom=-12. * u.kilometer))\n",
    "sedlayer3d.radiogenicHeatProd = 7.67e-7 * u.watt / u.meter**3\n",
    "sedlayer3d.density  = 2300. * u.kilogram / u.metre**3\n",
    "\n",
    "\n",
    "\n",
    "\n",
    "\n",
    "#Decollement Layer 2600\n",
    "declayer4 = Model.add_material(name=\"Dec_Layer4\", shape=GEO.shapes.Layer(top=-12. * u.kilometer, bottom=-16. * u.kilometer))\n",
    "declayer4.radiogenicHeatProd = 7.67e-7 * u.watt / u.meter**3\n",
    "declayer4.density  = 2600. * u.kilogram / u.metre**3"
   ]
  },
  {
   "cell_type": "markdown",
   "metadata": {},
   "source": [
    "### Continental Crust"
   ]
  },
  {
   "cell_type": "markdown",
   "metadata": {},
   "source": [
    "Because the composition of the continental crust changes with depth,\n",
    "an increase in density is expected toward the Moho. However,we assume that this density increase is balanced by the density decrease related to thermal expansion, and therefore we choose a depth and temperature independent density for the continental crust of 2720 kgm−3."
   ]
  },
  {
   "cell_type": "code",
   "execution_count": 9,
   "metadata": {},
   "outputs": [],
   "source": [
    "continentalcrust = Model.add_material(name=\"Continental Crust\", shape=GEO.shapes.Layer(top=-16. * u.kilometer, bottom=-24. * u.kilometer))\n",
    "continentalcrust.radiogenicHeatProd = 7.67e-7 * u.watt / u.meter**3\n",
    "continentalcrust.density  = 3500. * u.kilogram / u.metre**3\n"
   ]
  },
  {
   "cell_type": "markdown",
   "metadata": {},
   "source": [
    "### Indentor"
   ]
  },
  {
   "cell_type": "code",
   "execution_count": 10,
   "metadata": {
    "collapsed": true
   },
   "outputs": [],
   "source": [
    "vertices = [(164. * u.kilometer, 0. * u.kilometer),\n",
    "            (192. * u.kilometer, 0. * u.kilometer),\n",
    "            (192. * u.kilometer, -12. * u.kilometer),\n",
    "            (185. * u.kilometer, -12. * u.kilometer),\n",
    "            (154. * u.kilometer,   0. * u.kilometer)]\n",
    "\n",
    "indentor = Model.add_material(name=\"Indentor\", shape=GEO.shapes.Polygon(vertices))\n",
    "indentor.density = 2400. * u.kilogram / u.meter**3\n",
    "indentor.radiogenicHeatProd = 7.67e-9 * u.watt / u.meter**3 "
   ]
  },
  {
   "cell_type": "code",
   "execution_count": 11,
   "metadata": {
    "collapsed": true
   },
   "outputs": [],
   "source": [
    "rh = GEO.ViscousCreepRegistry()"
   ]
  },
  {
   "cell_type": "code",
   "execution_count": 12,
   "metadata": {},
   "outputs": [
    {
     "data": {
      "text/html": [
       "<table>\n",
       "        <tr>\n",
       "            <th colspan=\"2\" style=\"text-align:center;\">Viscous Dislocation Creep: Wet Quartz, Viscous Dislocation Creep, Goetze et al., 1978</th>\n",
       "        </tr><tr><td style=\"text-align:left;width:20%;\">Mineral</td><td style=\"text-align:left;width:80%\">Wet Quartz</td></tr><tr><td style=\"text-align:left;width:20%;\">Pre-exponential factor</td><td style=\"text-align:left;width:80%\">5e-06 / megapascal ** 3 / second</td></tr><tr><td style=\"text-align:left;width:20%;\">Stress Exponent</td><td style=\"text-align:left;width:80%\">3.0</td></tr><tr><td style=\"text-align:left;width:20%;\">Activation Volume</td><td style=\"text-align:left;width:80%\">0.0 meter ** 3 / mole</td></tr><tr><td style=\"text-align:left;width:20%;\">Activation Energy</td><td style=\"text-align:left;width:80%\">190.0 kilojoule / mole</td></tr><tr><td style=\"text-align:left;width:20%;\">Factor</td><td style=\"text-align:left;width:80%\">1.0</td></tr><tr><td style=\"text-align:left;width:20%;\">Grain Size Exponent</td><td style=\"text-align:left;width:80%\">0.0</td></tr><tr><td style=\"text-align:left;width:20%;\">Water Fugacity Exponent</td><td style=\"text-align:left;width:80%\">0.0</td></tr><tr><td style=\"text-align:left;width:20%;\">Melt Fraction Factor</td><td style=\"text-align:left;width:80%\">0.0</td></tr></table>"
      ],
      "text/plain": [
       "<UWGeodynamics._rheology.ViscousCreep at 0x7f333a26eb50>"
      ]
     },
     "execution_count": 12,
     "metadata": {},
     "output_type": "execute_result"
    }
   ],
   "source": [
    "rh.Wet_Quartz_Dislocation_Goetze_et_al_1978"
   ]
  },
  {
   "cell_type": "code",
   "execution_count": null,
   "metadata": {
    "collapsed": true
   },
   "outputs": [],
   "source": []
  },
  {
   "cell_type": "code",
   "execution_count": 13,
   "metadata": {
    "collapsed": true
   },
   "outputs": [],
   "source": [
    "Model.minViscosity = 5e18 * u.pascal * u.second\n",
    "Model.maxViscosity = 5e23 * u.pascal * u.second\n",
    "\n",
    "stickyair.viscosity = 5e18 * u.pascal * u.second\n",
    "\n",
    "\n",
    "sedlayer1a.viscosity = 0.000012 * rh.Wet_Quartz_Dislocation_Goetze_et_al_1978\n",
    "sedlayer1b.viscosity = 0.000008 * rh.Wet_Quartz_Dislocation_Goetze_et_al_1978\n",
    "sedlayer1c.viscosity = 0.000012 * rh.Wet_Quartz_Dislocation_Goetze_et_al_1978\n",
    "sedlayer1d.viscosity = 0.000008 * rh.Wet_Quartz_Dislocation_Goetze_et_al_1978\n",
    "\n",
    "\n",
    "sedlayer2a.viscosity = 0.8 * rh.Wet_Quartz_Dislocation_Goetze_et_al_1978\n",
    "sedlayer2b.viscosity = 0.4 * rh.Wet_Quartz_Dislocation_Goetze_et_al_1978\n",
    "sedlayer2c.viscosity = 0.8 * rh.Wet_Quartz_Dislocation_Goetze_et_al_1978\n",
    "sedlayer2d.viscosity = 0.4 * rh.Wet_Quartz_Dislocation_Goetze_et_al_1978\n",
    "\n",
    "\n",
    "sedlayer3a.viscosity = 0.012 * rh.Wet_Quartz_Dislocation_Goetze_et_al_1978\n",
    "sedlayer3b.viscosity = 0.008 * rh.Wet_Quartz_Dislocation_Goetze_et_al_1978\n",
    "sedlayer3c.viscosity = 0.012 * rh.Wet_Quartz_Dislocation_Goetze_et_al_1978\n",
    "sedlayer3d.viscosity = 0.008 * rh.Wet_Quartz_Dislocation_Goetze_et_al_1978\n",
    "\n",
    "\n",
    "declayer4.viscosity = 1e20 * u.pascal * u.second\n",
    "continentalcrust.viscosity = rh.Wet_Quartz_Dislocation_Goetze_et_al_1978\n",
    "indentor.viscosity =5e22 * u.pascal * u.second\n",
    "#continentalcrust.viscosity = rh.Wet_Quartz_Dislocation_Goetze_et_al_1978\n",
    "#indentor.viscosity = rh.Wet_Quartz_Dislocation_Goetze_et_al_1978\n",
    "#uppermantle.viscosity = rh.Wet_Dunite_Dislocation_Brace_and_Kohlstedt_1980\n",
    "#fault.viscosity = 0.1 * rh.Wet_Quartz_Dislocation_Goetze_et_al_1978"
   ]
  },
  {
   "cell_type": "code",
   "execution_count": 14,
   "metadata": {
    "collapsed": true
   },
   "outputs": [],
   "source": [
    "Model.init_model()"
   ]
  },
  {
   "cell_type": "markdown",
   "metadata": {},
   "source": [
    "In the crust and the mantle, frictional sliding is modeled via a Mohr\n",
    "Coulomb criterion with a cohesion (C0) of 15 MPa and a coefficient of friction (µ) of 0.44. \n",
    "The cohesion and coefficient of internal friction in the detachment fault are C0/10 and µ/10, respectively.\n",
    "In all material, the yield stress linearly drops to a maximum of 20% of its initial value when the accumulated strain reaches 0.5 (cf.Wijns et al., 2005 for details). For differential stresses reaching the yield stress, the material fails and deformation is modeled by an effective viscosity: ηyield=τyield/(2 · E) in which E is the second invariant of the strain rate tensor. For semi-brittle effects, we impose a maximum yield stress of 250 MPa for the crust, 400MPa for the mantle and 10 MPa for the fault."
   ]
  },
  {
   "cell_type": "code",
   "execution_count": 15,
   "metadata": {
    "collapsed": true
   },
   "outputs": [],
   "source": [
    "sedlayer1a.plasticity = GEO.DruckerPrager(name=\"Sed_Layer1a\",\n",
    "                                                cohesion=5. * u.megapascal,\n",
    "                                                cohesionAfterSoftening=0.5 * u.megapascal,\n",
    "                                                frictionCoefficient=0.2,\n",
    "                                                frictionAfterSoftening=0.01,\n",
    "                                                epsilon1=0.1, epsilon2=0.25)\n",
    "sedlayer1b.plasticity = GEO.DruckerPrager(name=\"Sed_Layer1b\",\n",
    "                                                cohesion=5. * u.megapascal,\n",
    "                                                cohesionAfterSoftening=0.5 * u.megapascal,\n",
    "                                                frictionCoefficient=0.2,\n",
    "                                                frictionAfterSoftening=0.01,\n",
    "                                                epsilon1=0.1, epsilon2=0.25)\n",
    "sedlayer1c.plasticity = GEO.DruckerPrager(name=\"Sed_Layer1c\",\n",
    "                                                cohesion=5. * u.megapascal,\n",
    "                                                cohesionAfterSoftening=0.5 * u.megapascal,\n",
    "                                                frictionCoefficient=0.2,\n",
    "                                                frictionAfterSoftening=0.01,\n",
    "                                                epsilon1=0.1, epsilon2=0.25)\n",
    "sedlayer1d.plasticity = GEO.DruckerPrager(name=\"Sed_Layer1d\",\n",
    "                                                cohesion=5. * u.megapascal,\n",
    "                                                cohesionAfterSoftening=0.5 * u.megapascal,\n",
    "                                                frictionCoefficient=0.2,\n",
    "                                                frictionAfterSoftening=0.01,\n",
    "                                                epsilon1=0.1, epsilon2=0.25)\n",
    "\n",
    "sedlayer2a.plasticity = GEO.DruckerPrager(name=\"Sed_Layer2a\",\n",
    "                                                cohesion=5. * u.megapascal,\n",
    "                                                cohesionAfterSoftening=0.5 * u.megapascal,\n",
    "                                                frictionCoefficient=0.2,\n",
    "                                                frictionAfterSoftening=0.01,\n",
    "                                                epsilon1=0.1, epsilon2=0.25)\n",
    "sedlayer2b.plasticity = GEO.DruckerPrager(name=\"Sed_Layer2b\",\n",
    "                                                cohesion=5. * u.megapascal,\n",
    "                                                cohesionAfterSoftening=0.5 * u.megapascal,\n",
    "                                                frictionCoefficient=0.2,\n",
    "                                                frictionAfterSoftening=0.01,\n",
    "                                                epsilon1=0.1, epsilon2=0.25)\n",
    "sedlayer2c.plasticity = GEO.DruckerPrager(name=\"Sed_Layer2c\",\n",
    "                                                cohesion=5. * u.megapascal,\n",
    "                                                cohesionAfterSoftening=0.5 * u.megapascal,\n",
    "                                                frictionCoefficient=0.2,\n",
    "                                                frictionAfterSoftening=0.01,\n",
    "                                                epsilon1=0.1, epsilon2=0.25)\n",
    "sedlayer2d.plasticity = GEO.DruckerPrager(name=\"Sed_Layer2d\",\n",
    "                                                cohesion=5. * u.megapascal,\n",
    "                                                cohesionAfterSoftening=0.5 * u.megapascal,\n",
    "                                                frictionCoefficient=0.2,\n",
    "                                                frictionAfterSoftening=0.01,\n",
    "                                                epsilon1=0.1, epsilon2=0.25)\n",
    "\n",
    "\n",
    "sedlayer3a.plasticity = GEO.DruckerPrager(name=\"Sed_Layer3a\",\n",
    "                                                cohesion=5. * u.megapascal,\n",
    "                                                cohesionAfterSoftening=0.5 * u.megapascal,\n",
    "                                                frictionCoefficient=0.2,\n",
    "                                                frictionAfterSoftening=0.01,\n",
    "                                                epsilon1=0.1, epsilon2=0.25)\n",
    "sedlayer3b.plasticity = GEO.DruckerPrager(name=\"Sed_Layer3b\",\n",
    "                                                cohesion=5. * u.megapascal,\n",
    "                                                cohesionAfterSoftening=0.5 * u.megapascal,\n",
    "                                                frictionCoefficient=0.2,\n",
    "                                                frictionAfterSoftening=0.01,\n",
    "                                                epsilon1=0.1, epsilon2=0.25)\n",
    "sedlayer3c.plasticity = GEO.DruckerPrager(name=\"Sed_Layer3c\",\n",
    "                                                cohesion=5. * u.megapascal,\n",
    "                                                cohesionAfterSoftening=0.5 * u.megapascal,\n",
    "                                                frictionCoefficient=0.2,\n",
    "                                                frictionAfterSoftening=0.01,\n",
    "                                                epsilon1=0.1, epsilon2=0.25)\n",
    "sedlayer3d.plasticity = GEO.DruckerPrager(name=\"Sed_Layer3d\",\n",
    "                                                cohesion=5. * u.megapascal,\n",
    "                                                cohesionAfterSoftening=0.5 * u.megapascal,\n",
    "                                                frictionCoefficient=0.2,\n",
    "                                                frictionAfterSoftening=0.01,\n",
    "                                                epsilon1=0.1, epsilon2=0.25)\n",
    "\n",
    "declayer4.plasticity = GEO.DruckerPrager(name=\"Dec_Layer4\",\n",
    "                                                cohesion=100. * u.megapascal,\n",
    "                                                cohesionAfterSoftening=0. * u.megapascal,\n",
    "                                                frictionCoefficient=0.2,\n",
    "                                                frictionAfterSoftening=0.577,\n",
    "                                                epsilon1=0.5, epsilon2=0.99)\n",
    "continentalcrust.plasticity = GEO.DruckerPrager(name=\"Continental Crust\",\n",
    "                                                cohesion=40. * u.megapascal,\n",
    "                                                cohesionAfterSoftening=4. * u.megapascal,\n",
    "                                                frictionCoefficient=0.2,\n",
    "                                                frictionAfterSoftening=0.01,\n",
    "                                                epsilon1=0.1, epsilon2=0.25)\n",
    "indentor.plasticity = GEO.DruckerPrager(name=\"Indentor\",\n",
    "                                                cohesion=100. * u.megapascal,\n",
    "                                                cohesionAfterSoftening=80. * u.megapascal,\n",
    "                                                frictionCoefficient=0.8,\n",
    "                                                frictionAfterSoftening=0.7,\n",
    "                                                epsilon1=0.1, epsilon2=0.25)\n",
    "\n",
    "# uppermantle.plasticity = GEO.DruckerPrager(name=\"Continental Crust\",\n",
    "#                                            cohesion=15. * u.megapascal,\n",
    "#                                            cohesionAfterSoftening=3. * u.megapascal,\n",
    "#                                            frictionCoefficient=0.44,\n",
    "#                                            frictionAfterSoftening=0.088,\n",
    "#                                            epsilon1=0.1, epsilon2=0.25)\n",
    "\n",
    "# fault.plasticity = GEO.DruckerPrager(name=\"Fault\", \n",
    "#                                      cohesion=1.5 * u.megapascal,\n",
    "#                                      cohesionAfterSoftening=0.5.3 * u.megapascal,\n",
    "#                                      frictionCoefficient=0.44,\n",
    "#                                      frictionAfterSoftening=0.088,\n",
    "#                                      epsilon1=0.1, epsilon2=0.25)"
   ]
  },
  {
   "cell_type": "markdown",
   "metadata": {},
   "source": [
    "## Temperature Boundary Condition\n",
    "The geotherm is based on a constant heat flow imposed at the base of the model (0.022 W m−2), a constant temperature imposed at the top (20 °C)."
   ]
  },
  {
   "cell_type": "code",
   "execution_count": 16,
   "metadata": {
    "scrolled": true
   },
   "outputs": [
    {
     "data": {
      "text/plain": [
       "<underworld.conditions._conditions.DirichletCondition at 0x7f333a119a10>"
      ]
     },
     "execution_count": 16,
     "metadata": {},
     "output_type": "execute_result"
    }
   ],
   "source": [
    "Model.set_temperatureBCs(top=293.15 * u.degK, materials=[(stickyair, 293.15*u.degK)])"
   ]
  },
  {
   "cell_type": "code",
   "execution_count": 17,
   "metadata": {},
   "outputs": [
    {
     "data": {
      "text/plain": [
       "<underworld.conditions._conditions.NeumannCondition at 0x7f333d6da710>"
      ]
     },
     "execution_count": 17,
     "metadata": {},
     "output_type": "execute_result"
    }
   ],
   "source": [
    "Model.set_heatFlowBCs(bottom=(-0.044 * u.watt / u.metre**2, continentalcrust))"
   ]
  },
  {
   "cell_type": "markdown",
   "metadata": {},
   "source": [
    "## Velocity Boundary Conditions"
   ]
  },
  {
   "cell_type": "code",
   "execution_count": 20,
   "metadata": {},
   "outputs": [
    {
     "data": {
      "text/plain": [
       "<underworld.conditions._conditions.DirichletCondition at 0x7f33c30a7250>"
      ]
     },
     "execution_count": 20,
     "metadata": {},
     "output_type": "execute_result"
    }
   ],
   "source": [
    "import underworld.function as fn\n",
    "\n",
    "velocity1 = 1. * u.centimeter / u.year\n",
    "velocity2 = 0. * u.centimeter / u.year\n",
    "\n",
    "DecThick = GEO.nd(declayer4.top - declayer4.bottom)\n",
    "\n",
    "conditions1 = [(Model.y <= GEO.nd(declayer4.bottom), GEO.nd(velocity2)),\n",
    "               (Model.y > GEO.nd(declayer4.top), GEO.nd(-velocity1)),\n",
    "               (True, GEO.nd(-velocity1)*((Model.y - GEO.nd(declayer4.bottom))/DecThick))]\n",
    "\n",
    "fn_condition1 = fn.branching.conditional(conditions1)\n",
    "\n",
    "Model.set_velocityBCs(\n",
    "                      left  = [velocity2, 0.],\n",
    "                      right = [fn_condition1, 0.],\n",
    "                      top   = [None, None],\n",
    "                      bottom = GEO.LecodeIsostasy(reference_mat=continentalcrust, average=True)                      )"
   ]
  },
  {
   "cell_type": "code",
   "execution_count": 21,
   "metadata": {
    "collapsed": true
   },
   "outputs": [],
   "source": [
    "Model.init_model()"
   ]
  },
  {
   "cell_type": "markdown",
   "metadata": {},
   "source": [
    "## Interface Tracers"
   ]
  },
  {
   "cell_type": "code",
   "execution_count": 20,
   "metadata": {
    "collapsed": true
   },
   "outputs": [],
   "source": [
    "x = np.linspace(GEO.nd(Model.minCoord[0]), GEO.nd(Model.maxCoord[0]), 1000)\n",
    "y = 0.\n",
    "\n",
    "surface_tracers = Model.add_passive_tracers(name=\"Surface\", vertices=[x,y])\n",
    "moho_tracers = Model.add_passive_tracers(name=\"Moho\", vertices=[x,y-GEO.nd(24.*u.kilometer)])"
   ]
  },
  {
   "cell_type": "markdown",
   "metadata": {},
   "source": [
    "## Grid Tracers"
   ]
  },
  {
   "cell_type": "code",
   "execution_count": 21,
   "metadata": {
    "collapsed": true
   },
   "outputs": [],
   "source": [
    "x_c, y_c = GEO.circles_grid(radius=0.5*u.kilometer, \n",
    "                     minCoord=[Model.minCoord[0], continentalcrust.bottom], \n",
    "                     maxCoord=[Model.maxCoord[0], 0.*u.kilometer])\n",
    "\n",
    "FSE_Crust = Model.add_passive_tracers(name=\"FSE_Crust\", vertices=[x_c, y_c])"
   ]
  },
  {
   "cell_type": "code",
   "execution_count": null,
   "metadata": {
    "collapsed": true
   },
   "outputs": [],
   "source": [
    "sedlayer1a.phase_changes=GEO.PhaseChange((Model.y > GEO.nd(2.0 * u.kilometer)), stickyair.index)\n",
    "sedlayer1b.phase_changes=GEO.PhaseChange((Model.y > GEO.nd(2.0 * u.kilometer)), stickyair.index)\n",
    "sedlayer1c.phase_changes=GEO.PhaseChange((Model.y > GEO.nd(2.0 * u.kilometer)), stickyair.index)\n",
    "sedlayer1d.phase_changes=GEO.PhaseChange((Model.y > GEO.nd(2.0 * u.kilometer)), stickyair.index)\n",
    "sedlayer2a.phase_changes=GEO.PhaseChange((Model.y > GEO.nd(2.0 * u.kilometer)), stickyair.index)\n",
    "sedlayer2b.phase_changes=GEO.PhaseChange((Model.y > GEO.nd(2.0 * u.kilometer)), stickyair.index)\n",
    "sedlayer2c.phase_changes=GEO.PhaseChange((Model.y > GEO.nd(2.0 * u.kilometer)), stickyair.index)\n",
    "sedlayer2d.phase_changes=GEO.PhaseChange((Model.y > GEO.nd(2.0 * u.kilometer)), stickyair.index)"
   ]
  },
  {
   "cell_type": "markdown",
   "metadata": {},
   "source": [
    "## Run Model"
   ]
  },
  {
   "cell_type": "code",
   "execution_count": 22,
   "metadata": {
    "collapsed": true
   },
   "outputs": [],
   "source": [
    "Model.init_model()"
   ]
  },
  {
   "cell_type": "code",
   "execution_count": 23,
   "metadata": {
    "collapsed": true
   },
   "outputs": [],
   "source": [
    "GEO.rcParams[\"default.outputs\"].append(\"projStrainTensor\")\n",
    "GEO.rcParams[\"default.outputs\"].append(\"projStressTensor\")"
   ]
  },
  {
   "cell_type": "code",
   "execution_count": 24,
   "metadata": {
    "collapsed": true
   },
   "outputs": [],
   "source": [
    "Model.solver.set_inner_method(\"mumps\")\n",
    "Model.solver.set_penalty(1e6)"
   ]
  },
  {
   "cell_type": "code",
   "execution_count": null,
   "metadata": {
    "collapsed": true
   },
   "outputs": [],
   "source": [
    "Model.run_for(6.* u.megayear, checkpoint_interval=20000. * u.year)"
   ]
  },
  {
   "cell_type": "code",
   "execution_count": null,
   "metadata": {
    "collapsed": true
   },
   "outputs": [],
   "source": [
    "Filename = 'FTB_538.ipynb' #The file name of this python notebook goes here.\n",
    "\n",
    "import shutil\n",
    "shutil.copy2(Filename, Model.outputDir) #Copies Filename into the model output directory\n",
    "\n"
   ]
  },
  {
   "cell_type": "code",
   "execution_count": null,
   "metadata": {
    "collapsed": true
   },
   "outputs": [],
   "source": []
  },
  {
   "cell_type": "code",
   "execution_count": null,
   "metadata": {
    "collapsed": true
   },
   "outputs": [],
   "source": []
  }
 ],
 "metadata": {
  "kernelspec": {
   "display_name": "Python 2",
   "language": "python",
   "name": "python2"
  },
  "language_info": {
   "codemirror_mode": {
    "name": "ipython",
    "version": 2
   },
   "file_extension": ".py",
   "mimetype": "text/x-python",
   "name": "python",
   "nbconvert_exporter": "python",
   "pygments_lexer": "ipython2",
   "version": "2.7.13"
  }
 },
 "nbformat": 4,
 "nbformat_minor": 2
}
